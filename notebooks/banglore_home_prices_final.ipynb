{
 "cells": [
  {
   "cell_type": "markdown",
   "metadata": {},
   "source": [
    "<h1 style='color:red' align='center'>Data Science : Predicting Home Prices in Banglore</h1>"
   ]
  },
  {
   "cell_type": "markdown",
   "metadata": {},
   "source": [
    "Dataset Link: https://www.kaggle.com/amitabhajoy/bengaluru-house-price-data"
   ]
  },
  {
   "cell_type": "markdown",
   "metadata": {},
   "source": [
    "<h2 style='color:red'>Problem Statement</h2>\n",
    "Build a machine learning model to predict home prices in Bangalore using historical housing data. The goal is to assist property buyers and sellers in estimating fair market values.\n"
   ]
  },
  {
   "cell_type": "code",
   "execution_count": 2,
   "metadata": {},
   "outputs": [],
   "source": [
    "import pandas as pd\n",
    "import numpy as np\n",
    "from matplotlib import pyplot as plt\n",
    "%matplotlib inline\n",
    "import matplotlib \n",
    "matplotlib.rcParams[\"figure.figsize\"] = (20,10)"
   ]
  },
  {
   "cell_type": "code",
   "execution_count": 3,
   "metadata": {
    "scrolled": true
   },
   "outputs": [
    {
     "data": {
      "application/vnd.microsoft.datawrangler.viewer.v0+json": {
       "columns": [
        {
         "name": "index",
         "rawType": "int64",
         "type": "integer"
        },
        {
         "name": "area_type",
         "rawType": "object",
         "type": "string"
        },
        {
         "name": "availability",
         "rawType": "object",
         "type": "string"
        },
        {
         "name": "location",
         "rawType": "object",
         "type": "string"
        },
        {
         "name": "size",
         "rawType": "object",
         "type": "string"
        },
        {
         "name": "society",
         "rawType": "object",
         "type": "unknown"
        },
        {
         "name": "total_sqft",
         "rawType": "object",
         "type": "string"
        },
        {
         "name": "bath",
         "rawType": "float64",
         "type": "float"
        },
        {
         "name": "balcony",
         "rawType": "float64",
         "type": "float"
        },
        {
         "name": "price",
         "rawType": "float64",
         "type": "float"
        }
       ],
       "ref": "fab5ff55-6759-4335-8994-987fb7640de0",
       "rows": [
        [
         "0",
         "Super built-up  Area",
         "19-Dec",
         "Electronic City Phase II",
         "2 BHK",
         "Coomee ",
         "1056",
         "2.0",
         "1.0",
         "39.07"
        ],
        [
         "1",
         "Plot  Area",
         "Ready To Move",
         "Chikka Tirupathi",
         "4 Bedroom",
         "Theanmp",
         "2600",
         "5.0",
         "3.0",
         "120.0"
        ],
        [
         "2",
         "Built-up  Area",
         "Ready To Move",
         "Uttarahalli",
         "3 BHK",
         null,
         "1440",
         "2.0",
         "3.0",
         "62.0"
        ],
        [
         "3",
         "Super built-up  Area",
         "Ready To Move",
         "Lingadheeranahalli",
         "3 BHK",
         "Soiewre",
         "1521",
         "3.0",
         "1.0",
         "95.0"
        ],
        [
         "4",
         "Super built-up  Area",
         "Ready To Move",
         "Kothanur",
         "2 BHK",
         null,
         "1200",
         "2.0",
         "1.0",
         "51.0"
        ]
       ],
       "shape": {
        "columns": 9,
        "rows": 5
       }
      },
      "text/html": [
       "<div>\n",
       "<style scoped>\n",
       "    .dataframe tbody tr th:only-of-type {\n",
       "        vertical-align: middle;\n",
       "    }\n",
       "\n",
       "    .dataframe tbody tr th {\n",
       "        vertical-align: top;\n",
       "    }\n",
       "\n",
       "    .dataframe thead th {\n",
       "        text-align: right;\n",
       "    }\n",
       "</style>\n",
       "<table border=\"1\" class=\"dataframe\">\n",
       "  <thead>\n",
       "    <tr style=\"text-align: right;\">\n",
       "      <th></th>\n",
       "      <th>area_type</th>\n",
       "      <th>availability</th>\n",
       "      <th>location</th>\n",
       "      <th>size</th>\n",
       "      <th>society</th>\n",
       "      <th>total_sqft</th>\n",
       "      <th>bath</th>\n",
       "      <th>balcony</th>\n",
       "      <th>price</th>\n",
       "    </tr>\n",
       "  </thead>\n",
       "  <tbody>\n",
       "    <tr>\n",
       "      <th>0</th>\n",
       "      <td>Super built-up  Area</td>\n",
       "      <td>19-Dec</td>\n",
       "      <td>Electronic City Phase II</td>\n",
       "      <td>2 BHK</td>\n",
       "      <td>Coomee</td>\n",
       "      <td>1056</td>\n",
       "      <td>2.0</td>\n",
       "      <td>1.0</td>\n",
       "      <td>39.07</td>\n",
       "    </tr>\n",
       "    <tr>\n",
       "      <th>1</th>\n",
       "      <td>Plot  Area</td>\n",
       "      <td>Ready To Move</td>\n",
       "      <td>Chikka Tirupathi</td>\n",
       "      <td>4 Bedroom</td>\n",
       "      <td>Theanmp</td>\n",
       "      <td>2600</td>\n",
       "      <td>5.0</td>\n",
       "      <td>3.0</td>\n",
       "      <td>120.00</td>\n",
       "    </tr>\n",
       "    <tr>\n",
       "      <th>2</th>\n",
       "      <td>Built-up  Area</td>\n",
       "      <td>Ready To Move</td>\n",
       "      <td>Uttarahalli</td>\n",
       "      <td>3 BHK</td>\n",
       "      <td>NaN</td>\n",
       "      <td>1440</td>\n",
       "      <td>2.0</td>\n",
       "      <td>3.0</td>\n",
       "      <td>62.00</td>\n",
       "    </tr>\n",
       "    <tr>\n",
       "      <th>3</th>\n",
       "      <td>Super built-up  Area</td>\n",
       "      <td>Ready To Move</td>\n",
       "      <td>Lingadheeranahalli</td>\n",
       "      <td>3 BHK</td>\n",
       "      <td>Soiewre</td>\n",
       "      <td>1521</td>\n",
       "      <td>3.0</td>\n",
       "      <td>1.0</td>\n",
       "      <td>95.00</td>\n",
       "    </tr>\n",
       "    <tr>\n",
       "      <th>4</th>\n",
       "      <td>Super built-up  Area</td>\n",
       "      <td>Ready To Move</td>\n",
       "      <td>Kothanur</td>\n",
       "      <td>2 BHK</td>\n",
       "      <td>NaN</td>\n",
       "      <td>1200</td>\n",
       "      <td>2.0</td>\n",
       "      <td>1.0</td>\n",
       "      <td>51.00</td>\n",
       "    </tr>\n",
       "  </tbody>\n",
       "</table>\n",
       "</div>"
      ],
      "text/plain": [
       "              area_type   availability                  location       size  \\\n",
       "0  Super built-up  Area         19-Dec  Electronic City Phase II      2 BHK   \n",
       "1            Plot  Area  Ready To Move          Chikka Tirupathi  4 Bedroom   \n",
       "2        Built-up  Area  Ready To Move               Uttarahalli      3 BHK   \n",
       "3  Super built-up  Area  Ready To Move        Lingadheeranahalli      3 BHK   \n",
       "4  Super built-up  Area  Ready To Move                  Kothanur      2 BHK   \n",
       "\n",
       "   society total_sqft  bath  balcony   price  \n",
       "0  Coomee        1056   2.0      1.0   39.07  \n",
       "1  Theanmp       2600   5.0      3.0  120.00  \n",
       "2      NaN       1440   2.0      3.0   62.00  \n",
       "3  Soiewre       1521   3.0      1.0   95.00  \n",
       "4      NaN       1200   2.0      1.0   51.00  "
      ]
     },
     "execution_count": 3,
     "metadata": {},
     "output_type": "execute_result"
    }
   ],
   "source": [
    "df1 = pd.read_csv(\"../data/Bengaluru_House_Data.csv\")\n",
    "df1.head()"
   ]
  },
  {
   "cell_type": "code",
   "execution_count": 4,
   "metadata": {},
   "outputs": [
    {
     "data": {
      "text/plain": [
       "(13320, 9)"
      ]
     },
     "execution_count": 4,
     "metadata": {},
     "output_type": "execute_result"
    }
   ],
   "source": [
    "df1.shape"
   ]
  },
  {
   "cell_type": "code",
   "execution_count": 5,
   "metadata": {},
   "outputs": [
    {
     "data": {
      "text/plain": [
       "Index(['area_type', 'availability', 'location', 'size', 'society',\n",
       "       'total_sqft', 'bath', 'balcony', 'price'],\n",
       "      dtype='object')"
      ]
     },
     "execution_count": 5,
     "metadata": {},
     "output_type": "execute_result"
    }
   ],
   "source": [
    "df1.columns"
   ]
  },
  {
   "cell_type": "code",
   "execution_count": 6,
   "metadata": {
    "scrolled": false
   },
   "outputs": [
    {
     "data": {
      "text/plain": [
       "array(['Super built-up  Area', 'Plot  Area', 'Built-up  Area',\n",
       "       'Carpet  Area'], dtype=object)"
      ]
     },
     "execution_count": 6,
     "metadata": {},
     "output_type": "execute_result"
    }
   ],
   "source": [
    "df1['area_type'].unique()"
   ]
  },
  {
   "cell_type": "code",
   "execution_count": 7,
   "metadata": {},
   "outputs": [
    {
     "data": {
      "application/vnd.microsoft.datawrangler.viewer.v0+json": {
       "columns": [
        {
         "name": "area_type",
         "rawType": "object",
         "type": "string"
        },
        {
         "name": "count",
         "rawType": "int64",
         "type": "integer"
        }
       ],
       "ref": "51d32d3e-a234-4f00-95b8-017d2c7cd68f",
       "rows": [
        [
         "Super built-up  Area",
         "8790"
        ],
        [
         "Built-up  Area",
         "2418"
        ],
        [
         "Plot  Area",
         "2025"
        ],
        [
         "Carpet  Area",
         "87"
        ]
       ],
       "shape": {
        "columns": 1,
        "rows": 4
       }
      },
      "text/plain": [
       "area_type\n",
       "Super built-up  Area    8790\n",
       "Built-up  Area          2418\n",
       "Plot  Area              2025\n",
       "Carpet  Area              87\n",
       "Name: count, dtype: int64"
      ]
     },
     "execution_count": 7,
     "metadata": {},
     "output_type": "execute_result"
    }
   ],
   "source": [
    "df1['area_type'].value_counts()"
   ]
  },
  {
   "cell_type": "markdown",
   "metadata": {},
   "source": [
    "**Drop features that are not required to build our model**"
   ]
  },
  {
   "cell_type": "code",
   "execution_count": 8,
   "metadata": {
    "scrolled": false
   },
   "outputs": [
    {
     "data": {
      "text/plain": [
       "(13320, 5)"
      ]
     },
     "execution_count": 8,
     "metadata": {},
     "output_type": "execute_result"
    }
   ],
   "source": [
    "df2 = df1.drop(['area_type','society','balcony','availability'],axis='columns')\n",
    "df2.shape"
   ]
  },
  {
   "cell_type": "markdown",
   "metadata": {},
   "source": [
    "<h2 style='color:blue'>Data Cleaning: Handle NA values</h2>"
   ]
  },
  {
   "cell_type": "code",
   "execution_count": 9,
   "metadata": {
    "scrolled": false
   },
   "outputs": [
    {
     "data": {
      "application/vnd.microsoft.datawrangler.viewer.v0+json": {
       "columns": [
        {
         "name": "index",
         "rawType": "object",
         "type": "string"
        },
        {
         "name": "0",
         "rawType": "int64",
         "type": "integer"
        }
       ],
       "ref": "fc6db86f-7ec7-4a17-88ed-4dfd06eb69de",
       "rows": [
        [
         "location",
         "1"
        ],
        [
         "size",
         "16"
        ],
        [
         "total_sqft",
         "0"
        ],
        [
         "bath",
         "73"
        ],
        [
         "price",
         "0"
        ]
       ],
       "shape": {
        "columns": 1,
        "rows": 5
       }
      },
      "text/plain": [
       "location       1\n",
       "size          16\n",
       "total_sqft     0\n",
       "bath          73\n",
       "price          0\n",
       "dtype: int64"
      ]
     },
     "execution_count": 9,
     "metadata": {},
     "output_type": "execute_result"
    }
   ],
   "source": [
    "df2.isnull().sum()"
   ]
  },
  {
   "cell_type": "code",
   "execution_count": 10,
   "metadata": {},
   "outputs": [
    {
     "data": {
      "text/plain": [
       "(13320, 5)"
      ]
     },
     "execution_count": 10,
     "metadata": {},
     "output_type": "execute_result"
    }
   ],
   "source": [
    "df2.shape"
   ]
  },
  {
   "cell_type": "code",
   "execution_count": 11,
   "metadata": {},
   "outputs": [
    {
     "data": {
      "application/vnd.microsoft.datawrangler.viewer.v0+json": {
       "columns": [
        {
         "name": "index",
         "rawType": "object",
         "type": "string"
        },
        {
         "name": "0",
         "rawType": "int64",
         "type": "integer"
        }
       ],
       "ref": "5b3f51b3-cabc-4644-a5ec-900ea0b87a45",
       "rows": [
        [
         "location",
         "0"
        ],
        [
         "size",
         "0"
        ],
        [
         "total_sqft",
         "0"
        ],
        [
         "bath",
         "0"
        ],
        [
         "price",
         "0"
        ]
       ],
       "shape": {
        "columns": 1,
        "rows": 5
       }
      },
      "text/plain": [
       "location      0\n",
       "size          0\n",
       "total_sqft    0\n",
       "bath          0\n",
       "price         0\n",
       "dtype: int64"
      ]
     },
     "execution_count": 11,
     "metadata": {},
     "output_type": "execute_result"
    }
   ],
   "source": [
    "df3 = df2.dropna()\n",
    "df3.isnull().sum()"
   ]
  },
  {
   "cell_type": "code",
   "execution_count": 12,
   "metadata": {},
   "outputs": [
    {
     "data": {
      "text/plain": [
       "(13246, 5)"
      ]
     },
     "execution_count": 12,
     "metadata": {},
     "output_type": "execute_result"
    }
   ],
   "source": [
    "df3.shape"
   ]
  },
  {
   "cell_type": "markdown",
   "metadata": {},
   "source": [
    "<h2 style='color:blue'>Feature Engineering</h2>"
   ]
  },
  {
   "cell_type": "markdown",
   "metadata": {},
   "source": [
    "**Add new feature(integer) for bhk (Bedrooms Hall Kitchen)**"
   ]
  },
  {
   "cell_type": "code",
   "execution_count": 13,
   "metadata": {},
   "outputs": [
    {
     "name": "stderr",
     "output_type": "stream",
     "text": [
      "C:\\Users\\rohit\\AppData\\Local\\Temp\\ipykernel_24228\\2716584372.py:1: SettingWithCopyWarning: \n",
      "A value is trying to be set on a copy of a slice from a DataFrame.\n",
      "Try using .loc[row_indexer,col_indexer] = value instead\n",
      "\n",
      "See the caveats in the documentation: https://pandas.pydata.org/pandas-docs/stable/user_guide/indexing.html#returning-a-view-versus-a-copy\n",
      "  df3['bhk'] = df3['size'].apply(lambda x: int(x.split(' ')[0]))\n"
     ]
    },
    {
     "data": {
      "text/plain": [
       "array([ 2,  4,  3,  6,  1,  8,  7,  5, 11,  9, 27, 10, 19, 16, 43, 14, 12,\n",
       "       13, 18])"
      ]
     },
     "execution_count": 13,
     "metadata": {},
     "output_type": "execute_result"
    }
   ],
   "source": [
    "df3['bhk'] = df3['size'].apply(lambda x: int(x.split(' ')[0]))\n",
    "df3.bhk.unique()"
   ]
  },
  {
   "cell_type": "markdown",
   "metadata": {},
   "source": [
    "**Explore total_sqft feature**"
   ]
  },
  {
   "cell_type": "code",
   "execution_count": 14,
   "metadata": {},
   "outputs": [],
   "source": [
    "def is_float(x):\n",
    "    try:\n",
    "        float(x)\n",
    "    except:\n",
    "        return False\n",
    "    return True"
   ]
  },
  {
   "cell_type": "code",
   "execution_count": 15,
   "metadata": {},
   "outputs": [
    {
     "data": {
      "text/plain": [
       "5"
      ]
     },
     "execution_count": 15,
     "metadata": {},
     "output_type": "execute_result"
    }
   ],
   "source": [
    "2+3"
   ]
  },
  {
   "cell_type": "code",
   "execution_count": 16,
   "metadata": {
    "scrolled": true
   },
   "outputs": [
    {
     "data": {
      "application/vnd.microsoft.datawrangler.viewer.v0+json": {
       "columns": [
        {
         "name": "index",
         "rawType": "int64",
         "type": "integer"
        },
        {
         "name": "location",
         "rawType": "object",
         "type": "string"
        },
        {
         "name": "size",
         "rawType": "object",
         "type": "string"
        },
        {
         "name": "total_sqft",
         "rawType": "object",
         "type": "string"
        },
        {
         "name": "bath",
         "rawType": "float64",
         "type": "float"
        },
        {
         "name": "price",
         "rawType": "float64",
         "type": "float"
        },
        {
         "name": "bhk",
         "rawType": "int64",
         "type": "integer"
        }
       ],
       "ref": "b4786c3b-7c70-435b-96c9-bff063e06c4c",
       "rows": [
        [
         "30",
         "Yelahanka",
         "4 BHK",
         "2100 - 2850",
         "4.0",
         "186.0",
         "4"
        ],
        [
         "122",
         "Hebbal",
         "4 BHK",
         "3067 - 8156",
         "4.0",
         "477.0",
         "4"
        ],
        [
         "137",
         "8th Phase JP Nagar",
         "2 BHK",
         "1042 - 1105",
         "2.0",
         "54.005",
         "2"
        ],
        [
         "165",
         "Sarjapur",
         "2 BHK",
         "1145 - 1340",
         "2.0",
         "43.49",
         "2"
        ],
        [
         "188",
         "KR Puram",
         "2 BHK",
         "1015 - 1540",
         "2.0",
         "56.8",
         "2"
        ],
        [
         "410",
         "Kengeri",
         "1 BHK",
         "34.46Sq. Meter",
         "1.0",
         "18.5",
         "1"
        ],
        [
         "549",
         "Hennur Road",
         "2 BHK",
         "1195 - 1440",
         "2.0",
         "63.77",
         "2"
        ],
        [
         "648",
         "Arekere",
         "9 Bedroom",
         "4125Perch",
         "9.0",
         "265.0",
         "9"
        ],
        [
         "661",
         "Yelahanka",
         "2 BHK",
         "1120 - 1145",
         "2.0",
         "48.13",
         "2"
        ],
        [
         "672",
         "Bettahalsoor",
         "4 Bedroom",
         "3090 - 5002",
         "4.0",
         "445.0",
         "4"
        ]
       ],
       "shape": {
        "columns": 6,
        "rows": 10
       }
      },
      "text/html": [
       "<div>\n",
       "<style scoped>\n",
       "    .dataframe tbody tr th:only-of-type {\n",
       "        vertical-align: middle;\n",
       "    }\n",
       "\n",
       "    .dataframe tbody tr th {\n",
       "        vertical-align: top;\n",
       "    }\n",
       "\n",
       "    .dataframe thead th {\n",
       "        text-align: right;\n",
       "    }\n",
       "</style>\n",
       "<table border=\"1\" class=\"dataframe\">\n",
       "  <thead>\n",
       "    <tr style=\"text-align: right;\">\n",
       "      <th></th>\n",
       "      <th>location</th>\n",
       "      <th>size</th>\n",
       "      <th>total_sqft</th>\n",
       "      <th>bath</th>\n",
       "      <th>price</th>\n",
       "      <th>bhk</th>\n",
       "    </tr>\n",
       "  </thead>\n",
       "  <tbody>\n",
       "    <tr>\n",
       "      <th>30</th>\n",
       "      <td>Yelahanka</td>\n",
       "      <td>4 BHK</td>\n",
       "      <td>2100 - 2850</td>\n",
       "      <td>4.0</td>\n",
       "      <td>186.000</td>\n",
       "      <td>4</td>\n",
       "    </tr>\n",
       "    <tr>\n",
       "      <th>122</th>\n",
       "      <td>Hebbal</td>\n",
       "      <td>4 BHK</td>\n",
       "      <td>3067 - 8156</td>\n",
       "      <td>4.0</td>\n",
       "      <td>477.000</td>\n",
       "      <td>4</td>\n",
       "    </tr>\n",
       "    <tr>\n",
       "      <th>137</th>\n",
       "      <td>8th Phase JP Nagar</td>\n",
       "      <td>2 BHK</td>\n",
       "      <td>1042 - 1105</td>\n",
       "      <td>2.0</td>\n",
       "      <td>54.005</td>\n",
       "      <td>2</td>\n",
       "    </tr>\n",
       "    <tr>\n",
       "      <th>165</th>\n",
       "      <td>Sarjapur</td>\n",
       "      <td>2 BHK</td>\n",
       "      <td>1145 - 1340</td>\n",
       "      <td>2.0</td>\n",
       "      <td>43.490</td>\n",
       "      <td>2</td>\n",
       "    </tr>\n",
       "    <tr>\n",
       "      <th>188</th>\n",
       "      <td>KR Puram</td>\n",
       "      <td>2 BHK</td>\n",
       "      <td>1015 - 1540</td>\n",
       "      <td>2.0</td>\n",
       "      <td>56.800</td>\n",
       "      <td>2</td>\n",
       "    </tr>\n",
       "    <tr>\n",
       "      <th>410</th>\n",
       "      <td>Kengeri</td>\n",
       "      <td>1 BHK</td>\n",
       "      <td>34.46Sq. Meter</td>\n",
       "      <td>1.0</td>\n",
       "      <td>18.500</td>\n",
       "      <td>1</td>\n",
       "    </tr>\n",
       "    <tr>\n",
       "      <th>549</th>\n",
       "      <td>Hennur Road</td>\n",
       "      <td>2 BHK</td>\n",
       "      <td>1195 - 1440</td>\n",
       "      <td>2.0</td>\n",
       "      <td>63.770</td>\n",
       "      <td>2</td>\n",
       "    </tr>\n",
       "    <tr>\n",
       "      <th>648</th>\n",
       "      <td>Arekere</td>\n",
       "      <td>9 Bedroom</td>\n",
       "      <td>4125Perch</td>\n",
       "      <td>9.0</td>\n",
       "      <td>265.000</td>\n",
       "      <td>9</td>\n",
       "    </tr>\n",
       "    <tr>\n",
       "      <th>661</th>\n",
       "      <td>Yelahanka</td>\n",
       "      <td>2 BHK</td>\n",
       "      <td>1120 - 1145</td>\n",
       "      <td>2.0</td>\n",
       "      <td>48.130</td>\n",
       "      <td>2</td>\n",
       "    </tr>\n",
       "    <tr>\n",
       "      <th>672</th>\n",
       "      <td>Bettahalsoor</td>\n",
       "      <td>4 Bedroom</td>\n",
       "      <td>3090 - 5002</td>\n",
       "      <td>4.0</td>\n",
       "      <td>445.000</td>\n",
       "      <td>4</td>\n",
       "    </tr>\n",
       "  </tbody>\n",
       "</table>\n",
       "</div>"
      ],
      "text/plain": [
       "               location       size      total_sqft  bath    price  bhk\n",
       "30            Yelahanka      4 BHK     2100 - 2850   4.0  186.000    4\n",
       "122              Hebbal      4 BHK     3067 - 8156   4.0  477.000    4\n",
       "137  8th Phase JP Nagar      2 BHK     1042 - 1105   2.0   54.005    2\n",
       "165            Sarjapur      2 BHK     1145 - 1340   2.0   43.490    2\n",
       "188            KR Puram      2 BHK     1015 - 1540   2.0   56.800    2\n",
       "410             Kengeri      1 BHK  34.46Sq. Meter   1.0   18.500    1\n",
       "549         Hennur Road      2 BHK     1195 - 1440   2.0   63.770    2\n",
       "648             Arekere  9 Bedroom       4125Perch   9.0  265.000    9\n",
       "661           Yelahanka      2 BHK     1120 - 1145   2.0   48.130    2\n",
       "672        Bettahalsoor  4 Bedroom     3090 - 5002   4.0  445.000    4"
      ]
     },
     "execution_count": 16,
     "metadata": {},
     "output_type": "execute_result"
    }
   ],
   "source": [
    "df3[~df3['total_sqft'].apply(is_float)].head(10)"
   ]
  },
  {
   "cell_type": "markdown",
   "metadata": {},
   "source": [
    "**Above shows that total_sqft can be a range (e.g. 2100-2850). For such case we can just take average of min and max value in the range. There are other cases such as 34.46Sq. Meter which one can convert to square ft using unit conversion.**"
   ]
  },
  {
   "cell_type": "code",
   "execution_count": 17,
   "metadata": {},
   "outputs": [],
   "source": [
    "def convert_sqft_to_num(x):\n",
    "    tokens = x.split('-')\n",
    "    if len(tokens) == 2:\n",
    "        return (float(tokens[0])+float(tokens[1]))/2\n",
    "    try:\n",
    "        return float(x)\n",
    "    except:\n",
    "        return None   "
   ]
  },
  {
   "cell_type": "code",
   "execution_count": 18,
   "metadata": {},
   "outputs": [
    {
     "data": {
      "application/vnd.microsoft.datawrangler.viewer.v0+json": {
       "columns": [
        {
         "name": "index",
         "rawType": "int64",
         "type": "integer"
        },
        {
         "name": "location",
         "rawType": "object",
         "type": "string"
        },
        {
         "name": "size",
         "rawType": "object",
         "type": "string"
        },
        {
         "name": "total_sqft",
         "rawType": "float64",
         "type": "float"
        },
        {
         "name": "bath",
         "rawType": "float64",
         "type": "float"
        },
        {
         "name": "price",
         "rawType": "float64",
         "type": "float"
        },
        {
         "name": "bhk",
         "rawType": "int64",
         "type": "integer"
        }
       ],
       "ref": "f2cec34a-b5e5-464e-ba54-e65721b11659",
       "rows": [
        [
         "0",
         "Electronic City Phase II",
         "2 BHK",
         "1056.0",
         "2.0",
         "39.07",
         "2"
        ],
        [
         "1",
         "Chikka Tirupathi",
         "4 Bedroom",
         "2600.0",
         "5.0",
         "120.0",
         "4"
        ]
       ],
       "shape": {
        "columns": 6,
        "rows": 2
       }
      },
      "text/html": [
       "<div>\n",
       "<style scoped>\n",
       "    .dataframe tbody tr th:only-of-type {\n",
       "        vertical-align: middle;\n",
       "    }\n",
       "\n",
       "    .dataframe tbody tr th {\n",
       "        vertical-align: top;\n",
       "    }\n",
       "\n",
       "    .dataframe thead th {\n",
       "        text-align: right;\n",
       "    }\n",
       "</style>\n",
       "<table border=\"1\" class=\"dataframe\">\n",
       "  <thead>\n",
       "    <tr style=\"text-align: right;\">\n",
       "      <th></th>\n",
       "      <th>location</th>\n",
       "      <th>size</th>\n",
       "      <th>total_sqft</th>\n",
       "      <th>bath</th>\n",
       "      <th>price</th>\n",
       "      <th>bhk</th>\n",
       "    </tr>\n",
       "  </thead>\n",
       "  <tbody>\n",
       "    <tr>\n",
       "      <th>0</th>\n",
       "      <td>Electronic City Phase II</td>\n",
       "      <td>2 BHK</td>\n",
       "      <td>1056.0</td>\n",
       "      <td>2.0</td>\n",
       "      <td>39.07</td>\n",
       "      <td>2</td>\n",
       "    </tr>\n",
       "    <tr>\n",
       "      <th>1</th>\n",
       "      <td>Chikka Tirupathi</td>\n",
       "      <td>4 Bedroom</td>\n",
       "      <td>2600.0</td>\n",
       "      <td>5.0</td>\n",
       "      <td>120.00</td>\n",
       "      <td>4</td>\n",
       "    </tr>\n",
       "  </tbody>\n",
       "</table>\n",
       "</div>"
      ],
      "text/plain": [
       "                   location       size  total_sqft  bath   price  bhk\n",
       "0  Electronic City Phase II      2 BHK      1056.0   2.0   39.07    2\n",
       "1          Chikka Tirupathi  4 Bedroom      2600.0   5.0  120.00    4"
      ]
     },
     "execution_count": 18,
     "metadata": {},
     "output_type": "execute_result"
    }
   ],
   "source": [
    "df4 = df3.copy()\n",
    "df4.total_sqft = df4.total_sqft.apply(convert_sqft_to_num)\n",
    "df4 = df4[df4.total_sqft.notnull()]\n",
    "df4.head(2)"
   ]
  },
  {
   "cell_type": "markdown",
   "metadata": {},
   "source": [
    "**For below row, it shows total_sqft as 2475 which is an average of the range 2100-2850**"
   ]
  },
  {
   "cell_type": "code",
   "execution_count": 19,
   "metadata": {
    "scrolled": true
   },
   "outputs": [
    {
     "data": {
      "application/vnd.microsoft.datawrangler.viewer.v0+json": {
       "columns": [
        {
         "name": "index",
         "rawType": "object",
         "type": "string"
        },
        {
         "name": "30",
         "rawType": "object",
         "type": "unknown"
        }
       ],
       "ref": "7f5c1871-8fbc-4ed3-9415-76a331d10e6d",
       "rows": [
        [
         "location",
         "Yelahanka"
        ],
        [
         "size",
         "4 BHK"
        ],
        [
         "total_sqft",
         "2475.0"
        ],
        [
         "bath",
         "4.0"
        ],
        [
         "price",
         "186.0"
        ],
        [
         "bhk",
         "4"
        ]
       ],
       "shape": {
        "columns": 1,
        "rows": 6
       }
      },
      "text/plain": [
       "location      Yelahanka\n",
       "size              4 BHK\n",
       "total_sqft       2475.0\n",
       "bath                4.0\n",
       "price             186.0\n",
       "bhk                   4\n",
       "Name: 30, dtype: object"
      ]
     },
     "execution_count": 19,
     "metadata": {},
     "output_type": "execute_result"
    }
   ],
   "source": [
    "df4.loc[30]"
   ]
  },
  {
   "cell_type": "code",
   "execution_count": 20,
   "metadata": {},
   "outputs": [
    {
     "data": {
      "text/plain": [
       "2475.0"
      ]
     },
     "execution_count": 20,
     "metadata": {},
     "output_type": "execute_result"
    }
   ],
   "source": [
    "(2100+2850)/2"
   ]
  },
  {
   "cell_type": "markdown",
   "metadata": {},
   "source": [
    "<h2 style=\"color:blue\">Feature Engineering</h2>"
   ]
  },
  {
   "cell_type": "markdown",
   "metadata": {},
   "source": [
    "**Add new feature called price per square feet**"
   ]
  },
  {
   "cell_type": "code",
   "execution_count": 21,
   "metadata": {
    "scrolled": false
   },
   "outputs": [
    {
     "data": {
      "application/vnd.microsoft.datawrangler.viewer.v0+json": {
       "columns": [
        {
         "name": "index",
         "rawType": "int64",
         "type": "integer"
        },
        {
         "name": "location",
         "rawType": "object",
         "type": "string"
        },
        {
         "name": "size",
         "rawType": "object",
         "type": "string"
        },
        {
         "name": "total_sqft",
         "rawType": "float64",
         "type": "float"
        },
        {
         "name": "bath",
         "rawType": "float64",
         "type": "float"
        },
        {
         "name": "price",
         "rawType": "float64",
         "type": "float"
        },
        {
         "name": "bhk",
         "rawType": "int64",
         "type": "integer"
        },
        {
         "name": "price_per_sqft",
         "rawType": "float64",
         "type": "float"
        }
       ],
       "ref": "3a606d98-636d-42f9-93a0-fd5d470f730b",
       "rows": [
        [
         "0",
         "Electronic City Phase II",
         "2 BHK",
         "1056.0",
         "2.0",
         "39.07",
         "2",
         "3699.810606060606"
        ],
        [
         "1",
         "Chikka Tirupathi",
         "4 Bedroom",
         "2600.0",
         "5.0",
         "120.0",
         "4",
         "4615.384615384615"
        ],
        [
         "2",
         "Uttarahalli",
         "3 BHK",
         "1440.0",
         "2.0",
         "62.0",
         "3",
         "4305.555555555556"
        ],
        [
         "3",
         "Lingadheeranahalli",
         "3 BHK",
         "1521.0",
         "3.0",
         "95.0",
         "3",
         "6245.890861275477"
        ],
        [
         "4",
         "Kothanur",
         "2 BHK",
         "1200.0",
         "2.0",
         "51.0",
         "2",
         "4250.0"
        ]
       ],
       "shape": {
        "columns": 7,
        "rows": 5
       }
      },
      "text/html": [
       "<div>\n",
       "<style scoped>\n",
       "    .dataframe tbody tr th:only-of-type {\n",
       "        vertical-align: middle;\n",
       "    }\n",
       "\n",
       "    .dataframe tbody tr th {\n",
       "        vertical-align: top;\n",
       "    }\n",
       "\n",
       "    .dataframe thead th {\n",
       "        text-align: right;\n",
       "    }\n",
       "</style>\n",
       "<table border=\"1\" class=\"dataframe\">\n",
       "  <thead>\n",
       "    <tr style=\"text-align: right;\">\n",
       "      <th></th>\n",
       "      <th>location</th>\n",
       "      <th>size</th>\n",
       "      <th>total_sqft</th>\n",
       "      <th>bath</th>\n",
       "      <th>price</th>\n",
       "      <th>bhk</th>\n",
       "      <th>price_per_sqft</th>\n",
       "    </tr>\n",
       "  </thead>\n",
       "  <tbody>\n",
       "    <tr>\n",
       "      <th>0</th>\n",
       "      <td>Electronic City Phase II</td>\n",
       "      <td>2 BHK</td>\n",
       "      <td>1056.0</td>\n",
       "      <td>2.0</td>\n",
       "      <td>39.07</td>\n",
       "      <td>2</td>\n",
       "      <td>3699.810606</td>\n",
       "    </tr>\n",
       "    <tr>\n",
       "      <th>1</th>\n",
       "      <td>Chikka Tirupathi</td>\n",
       "      <td>4 Bedroom</td>\n",
       "      <td>2600.0</td>\n",
       "      <td>5.0</td>\n",
       "      <td>120.00</td>\n",
       "      <td>4</td>\n",
       "      <td>4615.384615</td>\n",
       "    </tr>\n",
       "    <tr>\n",
       "      <th>2</th>\n",
       "      <td>Uttarahalli</td>\n",
       "      <td>3 BHK</td>\n",
       "      <td>1440.0</td>\n",
       "      <td>2.0</td>\n",
       "      <td>62.00</td>\n",
       "      <td>3</td>\n",
       "      <td>4305.555556</td>\n",
       "    </tr>\n",
       "    <tr>\n",
       "      <th>3</th>\n",
       "      <td>Lingadheeranahalli</td>\n",
       "      <td>3 BHK</td>\n",
       "      <td>1521.0</td>\n",
       "      <td>3.0</td>\n",
       "      <td>95.00</td>\n",
       "      <td>3</td>\n",
       "      <td>6245.890861</td>\n",
       "    </tr>\n",
       "    <tr>\n",
       "      <th>4</th>\n",
       "      <td>Kothanur</td>\n",
       "      <td>2 BHK</td>\n",
       "      <td>1200.0</td>\n",
       "      <td>2.0</td>\n",
       "      <td>51.00</td>\n",
       "      <td>2</td>\n",
       "      <td>4250.000000</td>\n",
       "    </tr>\n",
       "  </tbody>\n",
       "</table>\n",
       "</div>"
      ],
      "text/plain": [
       "                   location       size  total_sqft  bath   price  bhk  \\\n",
       "0  Electronic City Phase II      2 BHK      1056.0   2.0   39.07    2   \n",
       "1          Chikka Tirupathi  4 Bedroom      2600.0   5.0  120.00    4   \n",
       "2               Uttarahalli      3 BHK      1440.0   2.0   62.00    3   \n",
       "3        Lingadheeranahalli      3 BHK      1521.0   3.0   95.00    3   \n",
       "4                  Kothanur      2 BHK      1200.0   2.0   51.00    2   \n",
       "\n",
       "   price_per_sqft  \n",
       "0     3699.810606  \n",
       "1     4615.384615  \n",
       "2     4305.555556  \n",
       "3     6245.890861  \n",
       "4     4250.000000  "
      ]
     },
     "execution_count": 21,
     "metadata": {},
     "output_type": "execute_result"
    }
   ],
   "source": [
    "df5 = df4.copy()\n",
    "df5['price_per_sqft'] = df5['price']*100000/df5['total_sqft']\n",
    "df5.head()"
   ]
  },
  {
   "cell_type": "code",
   "execution_count": 22,
   "metadata": {
    "scrolled": true
   },
   "outputs": [
    {
     "data": {
      "application/vnd.microsoft.datawrangler.viewer.v0+json": {
       "columns": [
        {
         "name": "index",
         "rawType": "object",
         "type": "string"
        },
        {
         "name": "price_per_sqft",
         "rawType": "float64",
         "type": "float"
        }
       ],
       "ref": "0a00040d-ca62-4fb9-9b2a-574b2b709e08",
       "rows": [
        [
         "count",
         "13200.0"
        ],
        [
         "mean",
         "7920.759149939645"
        ],
        [
         "std",
         "106727.15520931101"
        ],
        [
         "min",
         "267.82981328435875"
        ],
        [
         "25%",
         "4267.701345223347"
        ],
        [
         "50%",
         "5438.331478242434"
        ],
        [
         "75%",
         "7317.073170731707"
        ],
        [
         "max",
         "12000000.0"
        ]
       ],
       "shape": {
        "columns": 1,
        "rows": 8
       }
      },
      "text/plain": [
       "count    1.320000e+04\n",
       "mean     7.920759e+03\n",
       "std      1.067272e+05\n",
       "min      2.678298e+02\n",
       "25%      4.267701e+03\n",
       "50%      5.438331e+03\n",
       "75%      7.317073e+03\n",
       "max      1.200000e+07\n",
       "Name: price_per_sqft, dtype: float64"
      ]
     },
     "execution_count": 22,
     "metadata": {},
     "output_type": "execute_result"
    }
   ],
   "source": [
    "df5_stats = df5['price_per_sqft'].describe()\n",
    "df5_stats"
   ]
  },
  {
   "cell_type": "code",
   "execution_count": 23,
   "metadata": {},
   "outputs": [],
   "source": [
    "df5.to_csv(\"bhp.csv\",index=False)"
   ]
  },
  {
   "cell_type": "markdown",
   "metadata": {},
   "source": [
    "**Examine locations which is a categorical variable. We need to apply dimensionality reduction technique here to reduce number of locations**"
   ]
  },
  {
   "cell_type": "code",
   "execution_count": 24,
   "metadata": {},
   "outputs": [
    {
     "data": {
      "application/vnd.microsoft.datawrangler.viewer.v0+json": {
       "columns": [
        {
         "name": "location",
         "rawType": "object",
         "type": "string"
        },
        {
         "name": "count",
         "rawType": "int64",
         "type": "integer"
        }
       ],
       "ref": "8dff9a67-cb2e-4b80-bcec-35468c84799a",
       "rows": [
        [
         "Whitefield",
         "533"
        ],
        [
         "Sarjapur  Road",
         "392"
        ],
        [
         "Electronic City",
         "304"
        ],
        [
         "Kanakpura Road",
         "264"
        ],
        [
         "Thanisandra",
         "235"
        ],
        [
         "Yelahanka",
         "210"
        ],
        [
         "Uttarahalli",
         "186"
        ],
        [
         "Hebbal",
         "176"
        ],
        [
         "Marathahalli",
         "175"
        ],
        [
         "Raja Rajeshwari Nagar",
         "171"
        ],
        [
         "Bannerghatta Road",
         "151"
        ],
        [
         "Hennur Road",
         "150"
        ],
        [
         "7th Phase JP Nagar",
         "148"
        ],
        [
         "Haralur Road",
         "141"
        ],
        [
         "Electronic City Phase II",
         "131"
        ],
        [
         "Rajaji Nagar",
         "106"
        ],
        [
         "Chandapura",
         "98"
        ],
        [
         "Bellandur",
         "96"
        ],
        [
         "Hoodi",
         "88"
        ],
        [
         "KR Puram",
         "88"
        ],
        [
         "Electronics City Phase 1",
         "87"
        ],
        [
         "Yeshwanthpur",
         "85"
        ],
        [
         "Begur Road",
         "84"
        ],
        [
         "Sarjapur",
         "80"
        ],
        [
         "Harlur",
         "79"
        ],
        [
         "Kasavanhalli",
         "79"
        ],
        [
         "Hormavu",
         "74"
        ],
        [
         "Banashankari",
         "74"
        ],
        [
         "Koramangala",
         "72"
        ],
        [
         "Kengeri",
         "72"
        ],
        [
         "Ramamurthy Nagar",
         "72"
        ],
        [
         "Old Madras Road",
         "70"
        ],
        [
         "Varthur",
         "70"
        ],
        [
         "Hosa Road",
         "69"
        ],
        [
         "Jakkur",
         "68"
        ],
        [
         "JP Nagar",
         "66"
        ],
        [
         "Kothanur",
         "66"
        ],
        [
         "Kaggadasapura",
         "64"
        ],
        [
         "Nagarbhavi",
         "63"
        ],
        [
         "Thigalarapalya",
         "62"
        ],
        [
         "Akshaya Nagar",
         "62"
        ],
        [
         "TC Palaya",
         "60"
        ],
        [
         "Rachenahalli",
         "58"
        ],
        [
         "Malleshwaram",
         "57"
        ],
        [
         "8th Phase JP Nagar",
         "57"
        ],
        [
         "Budigere",
         "54"
        ],
        [
         "HSR Layout",
         "53"
        ],
        [
         "Jalahalli",
         "52"
        ],
        [
         "Hennur",
         "52"
        ],
        [
         "Bisuvanahalli",
         "51"
        ]
       ],
       "shape": {
        "columns": 1,
        "rows": 1287
       }
      },
      "text/plain": [
       "location\n",
       "Whitefield                           533\n",
       "Sarjapur  Road                       392\n",
       "Electronic City                      304\n",
       "Kanakpura Road                       264\n",
       "Thanisandra                          235\n",
       "                                    ... \n",
       "Zuzuvadi                               1\n",
       "Chellikere                             1\n",
       "Jakkasandra                            1\n",
       "Gulakamale                             1\n",
       "Beml layout, Rajarajeshwari nagar      1\n",
       "Name: count, Length: 1287, dtype: int64"
      ]
     },
     "execution_count": 24,
     "metadata": {},
     "output_type": "execute_result"
    }
   ],
   "source": [
    "df5.location = df5.location.apply(lambda x: x.strip())\n",
    "location_stats = df5['location'].value_counts(ascending=False)\n",
    "location_stats"
   ]
  },
  {
   "cell_type": "code",
   "execution_count": 25,
   "metadata": {},
   "outputs": [
    {
     "data": {
      "text/plain": [
       "np.int64(13200)"
      ]
     },
     "execution_count": 25,
     "metadata": {},
     "output_type": "execute_result"
    }
   ],
   "source": [
    "location_stats.values.sum()"
   ]
  },
  {
   "cell_type": "code",
   "execution_count": 26,
   "metadata": {
    "scrolled": true
   },
   "outputs": [
    {
     "data": {
      "text/plain": [
       "240"
      ]
     },
     "execution_count": 26,
     "metadata": {},
     "output_type": "execute_result"
    }
   ],
   "source": [
    "len(location_stats[location_stats>10])"
   ]
  },
  {
   "cell_type": "code",
   "execution_count": 27,
   "metadata": {},
   "outputs": [
    {
     "data": {
      "text/plain": [
       "1287"
      ]
     },
     "execution_count": 27,
     "metadata": {},
     "output_type": "execute_result"
    }
   ],
   "source": [
    "len(location_stats)"
   ]
  },
  {
   "cell_type": "code",
   "execution_count": 28,
   "metadata": {},
   "outputs": [
    {
     "data": {
      "text/plain": [
       "1047"
      ]
     },
     "execution_count": 28,
     "metadata": {},
     "output_type": "execute_result"
    }
   ],
   "source": [
    "len(location_stats[location_stats<=10])"
   ]
  },
  {
   "cell_type": "markdown",
   "metadata": {},
   "source": [
    "<h2 style=\"color:blue\">Dimensionality Reduction</h2>"
   ]
  },
  {
   "cell_type": "markdown",
   "metadata": {},
   "source": [
    "**Any location having less than 10 data points should be tagged as \"other\" location. This way number of categories can be reduced by huge amount. Later on when we do one hot encoding, it will help us with having fewer dummy columns**"
   ]
  },
  {
   "cell_type": "code",
   "execution_count": 29,
   "metadata": {},
   "outputs": [
    {
     "data": {
      "application/vnd.microsoft.datawrangler.viewer.v0+json": {
       "columns": [
        {
         "name": "location",
         "rawType": "object",
         "type": "string"
        },
        {
         "name": "count",
         "rawType": "int64",
         "type": "integer"
        }
       ],
       "ref": "1e89dd70-bfaa-4361-a9bd-7ef32b620f52",
       "rows": [
        [
         "Ganga Nagar",
         "10"
        ],
        [
         "Kalkere",
         "10"
        ],
        [
         "Dairy Circle",
         "10"
        ],
        [
         "1st Block Koramangala",
         "10"
        ],
        [
         "Sector 1 HSR Layout",
         "10"
        ],
        [
         "Basapura",
         "10"
        ],
        [
         "Gunjur Palya",
         "10"
        ],
        [
         "BTM 1st Stage",
         "10"
        ],
        [
         "Nagadevanahalli",
         "10"
        ],
        [
         "Sadashiva Nagar",
         "10"
        ],
        [
         "Dodsworth Layout",
         "10"
        ],
        [
         "Thyagaraja Nagar",
         "10"
        ],
        [
         "Nagappa Reddy Layout",
         "10"
        ],
        [
         "Naganathapura",
         "10"
        ],
        [
         "Banagiri Nagar",
         "9"
        ],
        [
         "Mathikere",
         "9"
        ],
        [
         "Gollahalli",
         "9"
        ],
        [
         "Jakkur Plantation",
         "9"
        ],
        [
         "Kamakshipalya",
         "9"
        ],
        [
         "Peenya",
         "9"
        ],
        [
         "Richmond Town",
         "9"
        ],
        [
         "Vishwanatha Nagenahalli",
         "9"
        ],
        [
         "Lingarajapuram",
         "9"
        ],
        [
         "Vignana Nagar",
         "9"
        ],
        [
         "Chandra Layout",
         "9"
        ],
        [
         "Yemlur",
         "9"
        ],
        [
         "2nd Phase JP Nagar",
         "9"
        ],
        [
         "Medahalli",
         "9"
        ],
        [
         "Kaverappa Layout",
         "9"
        ],
        [
         "4th Block Koramangala",
         "9"
        ],
        [
         "Chennammana Kere",
         "9"
        ],
        [
         "Ejipura",
         "9"
        ],
        [
         "B Narayanapura",
         "9"
        ],
        [
         "KUDLU MAIN ROAD",
         "9"
        ],
        [
         "Manayata Tech Park",
         "8"
        ],
        [
         "Shikaripalya",
         "8"
        ],
        [
         "Huskur",
         "8"
        ],
        [
         "Vajarahalli",
         "8"
        ],
        [
         "Jalahalli West",
         "8"
        ],
        [
         "Kanaka Nagar",
         "8"
        ],
        [
         "MS Pallya",
         "8"
        ],
        [
         "Sidedahalli",
         "8"
        ],
        [
         "Kattigenahalli",
         "8"
        ],
        [
         "Kodbisanhalli",
         "8"
        ],
        [
         "Volagerekallahalli",
         "8"
        ],
        [
         "Sathya Sai Layout",
         "8"
        ],
        [
         "Reliaable Tranquil Layout",
         "8"
        ],
        [
         "Dodda Nekkundi Extension",
         "8"
        ],
        [
         "Hongasandra",
         "8"
        ],
        [
         "Nelamangala",
         "8"
        ]
       ],
       "shape": {
        "columns": 1,
        "rows": 1047
       }
      },
      "text/plain": [
       "location\n",
       "Ganga Nagar                          10\n",
       "Kalkere                              10\n",
       "Dairy Circle                         10\n",
       "1st Block Koramangala                10\n",
       "Sector 1 HSR Layout                  10\n",
       "                                     ..\n",
       "Zuzuvadi                              1\n",
       "Chellikere                            1\n",
       "Jakkasandra                           1\n",
       "Gulakamale                            1\n",
       "Beml layout, Rajarajeshwari nagar     1\n",
       "Name: count, Length: 1047, dtype: int64"
      ]
     },
     "execution_count": 29,
     "metadata": {},
     "output_type": "execute_result"
    }
   ],
   "source": [
    "location_stats_less_than_10 = location_stats[location_stats<=10]\n",
    "location_stats_less_than_10"
   ]
  },
  {
   "cell_type": "code",
   "execution_count": 30,
   "metadata": {},
   "outputs": [
    {
     "data": {
      "text/plain": [
       "1287"
      ]
     },
     "execution_count": 30,
     "metadata": {},
     "output_type": "execute_result"
    }
   ],
   "source": [
    "len(df5.location.unique())"
   ]
  },
  {
   "cell_type": "code",
   "execution_count": 31,
   "metadata": {},
   "outputs": [
    {
     "data": {
      "text/plain": [
       "241"
      ]
     },
     "execution_count": 31,
     "metadata": {},
     "output_type": "execute_result"
    }
   ],
   "source": [
    "df5.location = df5.location.apply(lambda x: 'other' if x in location_stats_less_than_10 else x)\n",
    "len(df5.location.unique())"
   ]
  },
  {
   "cell_type": "code",
   "execution_count": 32,
   "metadata": {
    "scrolled": true
   },
   "outputs": [
    {
     "data": {
      "application/vnd.microsoft.datawrangler.viewer.v0+json": {
       "columns": [
        {
         "name": "index",
         "rawType": "int64",
         "type": "integer"
        },
        {
         "name": "location",
         "rawType": "object",
         "type": "string"
        },
        {
         "name": "size",
         "rawType": "object",
         "type": "string"
        },
        {
         "name": "total_sqft",
         "rawType": "float64",
         "type": "float"
        },
        {
         "name": "bath",
         "rawType": "float64",
         "type": "float"
        },
        {
         "name": "price",
         "rawType": "float64",
         "type": "float"
        },
        {
         "name": "bhk",
         "rawType": "int64",
         "type": "integer"
        },
        {
         "name": "price_per_sqft",
         "rawType": "float64",
         "type": "float"
        }
       ],
       "ref": "fc9d9c49-5afc-41a0-aa41-6b2cf1cb8b88",
       "rows": [
        [
         "0",
         "Electronic City Phase II",
         "2 BHK",
         "1056.0",
         "2.0",
         "39.07",
         "2",
         "3699.810606060606"
        ],
        [
         "1",
         "Chikka Tirupathi",
         "4 Bedroom",
         "2600.0",
         "5.0",
         "120.0",
         "4",
         "4615.384615384615"
        ],
        [
         "2",
         "Uttarahalli",
         "3 BHK",
         "1440.0",
         "2.0",
         "62.0",
         "3",
         "4305.555555555556"
        ],
        [
         "3",
         "Lingadheeranahalli",
         "3 BHK",
         "1521.0",
         "3.0",
         "95.0",
         "3",
         "6245.890861275477"
        ],
        [
         "4",
         "Kothanur",
         "2 BHK",
         "1200.0",
         "2.0",
         "51.0",
         "2",
         "4250.0"
        ],
        [
         "5",
         "Whitefield",
         "2 BHK",
         "1170.0",
         "2.0",
         "38.0",
         "2",
         "3247.863247863248"
        ],
        [
         "6",
         "Old Airport Road",
         "4 BHK",
         "2732.0",
         "4.0",
         "204.0",
         "4",
         "7467.0571010248905"
        ],
        [
         "7",
         "Rajaji Nagar",
         "4 BHK",
         "3300.0",
         "4.0",
         "600.0",
         "4",
         "18181.81818181818"
        ],
        [
         "8",
         "Marathahalli",
         "3 BHK",
         "1310.0",
         "3.0",
         "63.25",
         "3",
         "4828.244274809161"
        ],
        [
         "9",
         "other",
         "6 Bedroom",
         "1020.0",
         "6.0",
         "370.0",
         "6",
         "36274.509803921566"
        ]
       ],
       "shape": {
        "columns": 7,
        "rows": 10
       }
      },
      "text/html": [
       "<div>\n",
       "<style scoped>\n",
       "    .dataframe tbody tr th:only-of-type {\n",
       "        vertical-align: middle;\n",
       "    }\n",
       "\n",
       "    .dataframe tbody tr th {\n",
       "        vertical-align: top;\n",
       "    }\n",
       "\n",
       "    .dataframe thead th {\n",
       "        text-align: right;\n",
       "    }\n",
       "</style>\n",
       "<table border=\"1\" class=\"dataframe\">\n",
       "  <thead>\n",
       "    <tr style=\"text-align: right;\">\n",
       "      <th></th>\n",
       "      <th>location</th>\n",
       "      <th>size</th>\n",
       "      <th>total_sqft</th>\n",
       "      <th>bath</th>\n",
       "      <th>price</th>\n",
       "      <th>bhk</th>\n",
       "      <th>price_per_sqft</th>\n",
       "    </tr>\n",
       "  </thead>\n",
       "  <tbody>\n",
       "    <tr>\n",
       "      <th>0</th>\n",
       "      <td>Electronic City Phase II</td>\n",
       "      <td>2 BHK</td>\n",
       "      <td>1056.0</td>\n",
       "      <td>2.0</td>\n",
       "      <td>39.07</td>\n",
       "      <td>2</td>\n",
       "      <td>3699.810606</td>\n",
       "    </tr>\n",
       "    <tr>\n",
       "      <th>1</th>\n",
       "      <td>Chikka Tirupathi</td>\n",
       "      <td>4 Bedroom</td>\n",
       "      <td>2600.0</td>\n",
       "      <td>5.0</td>\n",
       "      <td>120.00</td>\n",
       "      <td>4</td>\n",
       "      <td>4615.384615</td>\n",
       "    </tr>\n",
       "    <tr>\n",
       "      <th>2</th>\n",
       "      <td>Uttarahalli</td>\n",
       "      <td>3 BHK</td>\n",
       "      <td>1440.0</td>\n",
       "      <td>2.0</td>\n",
       "      <td>62.00</td>\n",
       "      <td>3</td>\n",
       "      <td>4305.555556</td>\n",
       "    </tr>\n",
       "    <tr>\n",
       "      <th>3</th>\n",
       "      <td>Lingadheeranahalli</td>\n",
       "      <td>3 BHK</td>\n",
       "      <td>1521.0</td>\n",
       "      <td>3.0</td>\n",
       "      <td>95.00</td>\n",
       "      <td>3</td>\n",
       "      <td>6245.890861</td>\n",
       "    </tr>\n",
       "    <tr>\n",
       "      <th>4</th>\n",
       "      <td>Kothanur</td>\n",
       "      <td>2 BHK</td>\n",
       "      <td>1200.0</td>\n",
       "      <td>2.0</td>\n",
       "      <td>51.00</td>\n",
       "      <td>2</td>\n",
       "      <td>4250.000000</td>\n",
       "    </tr>\n",
       "    <tr>\n",
       "      <th>5</th>\n",
       "      <td>Whitefield</td>\n",
       "      <td>2 BHK</td>\n",
       "      <td>1170.0</td>\n",
       "      <td>2.0</td>\n",
       "      <td>38.00</td>\n",
       "      <td>2</td>\n",
       "      <td>3247.863248</td>\n",
       "    </tr>\n",
       "    <tr>\n",
       "      <th>6</th>\n",
       "      <td>Old Airport Road</td>\n",
       "      <td>4 BHK</td>\n",
       "      <td>2732.0</td>\n",
       "      <td>4.0</td>\n",
       "      <td>204.00</td>\n",
       "      <td>4</td>\n",
       "      <td>7467.057101</td>\n",
       "    </tr>\n",
       "    <tr>\n",
       "      <th>7</th>\n",
       "      <td>Rajaji Nagar</td>\n",
       "      <td>4 BHK</td>\n",
       "      <td>3300.0</td>\n",
       "      <td>4.0</td>\n",
       "      <td>600.00</td>\n",
       "      <td>4</td>\n",
       "      <td>18181.818182</td>\n",
       "    </tr>\n",
       "    <tr>\n",
       "      <th>8</th>\n",
       "      <td>Marathahalli</td>\n",
       "      <td>3 BHK</td>\n",
       "      <td>1310.0</td>\n",
       "      <td>3.0</td>\n",
       "      <td>63.25</td>\n",
       "      <td>3</td>\n",
       "      <td>4828.244275</td>\n",
       "    </tr>\n",
       "    <tr>\n",
       "      <th>9</th>\n",
       "      <td>other</td>\n",
       "      <td>6 Bedroom</td>\n",
       "      <td>1020.0</td>\n",
       "      <td>6.0</td>\n",
       "      <td>370.00</td>\n",
       "      <td>6</td>\n",
       "      <td>36274.509804</td>\n",
       "    </tr>\n",
       "  </tbody>\n",
       "</table>\n",
       "</div>"
      ],
      "text/plain": [
       "                   location       size  total_sqft  bath   price  bhk  \\\n",
       "0  Electronic City Phase II      2 BHK      1056.0   2.0   39.07    2   \n",
       "1          Chikka Tirupathi  4 Bedroom      2600.0   5.0  120.00    4   \n",
       "2               Uttarahalli      3 BHK      1440.0   2.0   62.00    3   \n",
       "3        Lingadheeranahalli      3 BHK      1521.0   3.0   95.00    3   \n",
       "4                  Kothanur      2 BHK      1200.0   2.0   51.00    2   \n",
       "5                Whitefield      2 BHK      1170.0   2.0   38.00    2   \n",
       "6          Old Airport Road      4 BHK      2732.0   4.0  204.00    4   \n",
       "7              Rajaji Nagar      4 BHK      3300.0   4.0  600.00    4   \n",
       "8              Marathahalli      3 BHK      1310.0   3.0   63.25    3   \n",
       "9                     other  6 Bedroom      1020.0   6.0  370.00    6   \n",
       "\n",
       "   price_per_sqft  \n",
       "0     3699.810606  \n",
       "1     4615.384615  \n",
       "2     4305.555556  \n",
       "3     6245.890861  \n",
       "4     4250.000000  \n",
       "5     3247.863248  \n",
       "6     7467.057101  \n",
       "7    18181.818182  \n",
       "8     4828.244275  \n",
       "9    36274.509804  "
      ]
     },
     "execution_count": 32,
     "metadata": {},
     "output_type": "execute_result"
    }
   ],
   "source": [
    "df5.head(10)"
   ]
  },
  {
   "cell_type": "markdown",
   "metadata": {},
   "source": [
    "<h2 style=\"color:blue\">Outlier Removal Using Business Logic</h2>"
   ]
  },
  {
   "cell_type": "markdown",
   "metadata": {},
   "source": [
    "As a data scientist, after discussing with the real estate manager, we learned that each bedroom typically requires around 300 sqft. Hence, any property with less than 300 sqft per BHK is considered unrealistic and is removed as an outlier."
   ]
  },
  {
   "cell_type": "code",
   "execution_count": 33,
   "metadata": {
    "scrolled": true
   },
   "outputs": [
    {
     "data": {
      "application/vnd.microsoft.datawrangler.viewer.v0+json": {
       "columns": [
        {
         "name": "index",
         "rawType": "int64",
         "type": "integer"
        },
        {
         "name": "location",
         "rawType": "object",
         "type": "string"
        },
        {
         "name": "size",
         "rawType": "object",
         "type": "string"
        },
        {
         "name": "total_sqft",
         "rawType": "float64",
         "type": "float"
        },
        {
         "name": "bath",
         "rawType": "float64",
         "type": "float"
        },
        {
         "name": "price",
         "rawType": "float64",
         "type": "float"
        },
        {
         "name": "bhk",
         "rawType": "int64",
         "type": "integer"
        },
        {
         "name": "price_per_sqft",
         "rawType": "float64",
         "type": "float"
        }
       ],
       "ref": "e25ac0b8-408b-4ff5-a525-62514baa7025",
       "rows": [
        [
         "9",
         "other",
         "6 Bedroom",
         "1020.0",
         "6.0",
         "370.0",
         "6",
         "36274.509803921566"
        ],
        [
         "45",
         "HSR Layout",
         "8 Bedroom",
         "600.0",
         "9.0",
         "200.0",
         "8",
         "33333.333333333336"
        ],
        [
         "58",
         "Murugeshpalya",
         "6 Bedroom",
         "1407.0",
         "4.0",
         "150.0",
         "6",
         "10660.980810234541"
        ],
        [
         "68",
         "Devarachikkanahalli",
         "8 Bedroom",
         "1350.0",
         "7.0",
         "85.0",
         "8",
         "6296.2962962962965"
        ],
        [
         "70",
         "other",
         "3 Bedroom",
         "500.0",
         "3.0",
         "100.0",
         "3",
         "20000.0"
        ]
       ],
       "shape": {
        "columns": 7,
        "rows": 5
       }
      },
      "text/html": [
       "<div>\n",
       "<style scoped>\n",
       "    .dataframe tbody tr th:only-of-type {\n",
       "        vertical-align: middle;\n",
       "    }\n",
       "\n",
       "    .dataframe tbody tr th {\n",
       "        vertical-align: top;\n",
       "    }\n",
       "\n",
       "    .dataframe thead th {\n",
       "        text-align: right;\n",
       "    }\n",
       "</style>\n",
       "<table border=\"1\" class=\"dataframe\">\n",
       "  <thead>\n",
       "    <tr style=\"text-align: right;\">\n",
       "      <th></th>\n",
       "      <th>location</th>\n",
       "      <th>size</th>\n",
       "      <th>total_sqft</th>\n",
       "      <th>bath</th>\n",
       "      <th>price</th>\n",
       "      <th>bhk</th>\n",
       "      <th>price_per_sqft</th>\n",
       "    </tr>\n",
       "  </thead>\n",
       "  <tbody>\n",
       "    <tr>\n",
       "      <th>9</th>\n",
       "      <td>other</td>\n",
       "      <td>6 Bedroom</td>\n",
       "      <td>1020.0</td>\n",
       "      <td>6.0</td>\n",
       "      <td>370.0</td>\n",
       "      <td>6</td>\n",
       "      <td>36274.509804</td>\n",
       "    </tr>\n",
       "    <tr>\n",
       "      <th>45</th>\n",
       "      <td>HSR Layout</td>\n",
       "      <td>8 Bedroom</td>\n",
       "      <td>600.0</td>\n",
       "      <td>9.0</td>\n",
       "      <td>200.0</td>\n",
       "      <td>8</td>\n",
       "      <td>33333.333333</td>\n",
       "    </tr>\n",
       "    <tr>\n",
       "      <th>58</th>\n",
       "      <td>Murugeshpalya</td>\n",
       "      <td>6 Bedroom</td>\n",
       "      <td>1407.0</td>\n",
       "      <td>4.0</td>\n",
       "      <td>150.0</td>\n",
       "      <td>6</td>\n",
       "      <td>10660.980810</td>\n",
       "    </tr>\n",
       "    <tr>\n",
       "      <th>68</th>\n",
       "      <td>Devarachikkanahalli</td>\n",
       "      <td>8 Bedroom</td>\n",
       "      <td>1350.0</td>\n",
       "      <td>7.0</td>\n",
       "      <td>85.0</td>\n",
       "      <td>8</td>\n",
       "      <td>6296.296296</td>\n",
       "    </tr>\n",
       "    <tr>\n",
       "      <th>70</th>\n",
       "      <td>other</td>\n",
       "      <td>3 Bedroom</td>\n",
       "      <td>500.0</td>\n",
       "      <td>3.0</td>\n",
       "      <td>100.0</td>\n",
       "      <td>3</td>\n",
       "      <td>20000.000000</td>\n",
       "    </tr>\n",
       "  </tbody>\n",
       "</table>\n",
       "</div>"
      ],
      "text/plain": [
       "               location       size  total_sqft  bath  price  bhk  \\\n",
       "9                 other  6 Bedroom      1020.0   6.0  370.0    6   \n",
       "45           HSR Layout  8 Bedroom       600.0   9.0  200.0    8   \n",
       "58        Murugeshpalya  6 Bedroom      1407.0   4.0  150.0    6   \n",
       "68  Devarachikkanahalli  8 Bedroom      1350.0   7.0   85.0    8   \n",
       "70                other  3 Bedroom       500.0   3.0  100.0    3   \n",
       "\n",
       "    price_per_sqft  \n",
       "9     36274.509804  \n",
       "45    33333.333333  \n",
       "58    10660.980810  \n",
       "68     6296.296296  \n",
       "70    20000.000000  "
      ]
     },
     "execution_count": 33,
     "metadata": {},
     "output_type": "execute_result"
    }
   ],
   "source": [
    "df5[df5.total_sqft/df5.bhk<300].head()"
   ]
  },
  {
   "cell_type": "markdown",
   "metadata": {},
   "source": [
    "**Check above data points. We have 6 bhk apartment with 1020 sqft. Another one is 8 bhk and total sqft is 600. These are clear data errors that can be removed safely**"
   ]
  },
  {
   "cell_type": "code",
   "execution_count": 34,
   "metadata": {},
   "outputs": [
    {
     "data": {
      "text/plain": [
       "(13200, 7)"
      ]
     },
     "execution_count": 34,
     "metadata": {},
     "output_type": "execute_result"
    }
   ],
   "source": [
    "df5.shape"
   ]
  },
  {
   "cell_type": "code",
   "execution_count": 35,
   "metadata": {
    "scrolled": true
   },
   "outputs": [
    {
     "data": {
      "text/plain": [
       "(12456, 7)"
      ]
     },
     "execution_count": 35,
     "metadata": {},
     "output_type": "execute_result"
    }
   ],
   "source": [
    "df6 = df5[~(df5.total_sqft/df5.bhk<300)]\n",
    "df6.shape"
   ]
  },
  {
   "cell_type": "markdown",
   "metadata": {},
   "source": [
    "<h2 style='color:blue'>Outlier Removal Using Standard Deviation and Mean</h2>"
   ]
  },
  {
   "cell_type": "code",
   "execution_count": 36,
   "metadata": {},
   "outputs": [
    {
     "data": {
      "application/vnd.microsoft.datawrangler.viewer.v0+json": {
       "columns": [
        {
         "name": "index",
         "rawType": "object",
         "type": "string"
        },
        {
         "name": "price_per_sqft",
         "rawType": "float64",
         "type": "float"
        }
       ],
       "ref": "256ffb5d-a966-4a2e-a8f1-295f32b58af8",
       "rows": [
        [
         "count",
         "12456.0"
        ],
        [
         "mean",
         "6308.502826047989"
        ],
        [
         "std",
         "4168.127338507347"
        ],
        [
         "min",
         "267.82981328435875"
        ],
        [
         "25%",
         "4210.526315789473"
        ],
        [
         "50%",
         "5294.117647058823"
        ],
        [
         "75%",
         "6916.666666666667"
        ],
        [
         "max",
         "176470.58823529413"
        ]
       ],
       "shape": {
        "columns": 1,
        "rows": 8
       }
      },
      "text/plain": [
       "count     12456.000000\n",
       "mean       6308.502826\n",
       "std        4168.127339\n",
       "min         267.829813\n",
       "25%        4210.526316\n",
       "50%        5294.117647\n",
       "75%        6916.666667\n",
       "max      176470.588235\n",
       "Name: price_per_sqft, dtype: float64"
      ]
     },
     "execution_count": 36,
     "metadata": {},
     "output_type": "execute_result"
    }
   ],
   "source": [
    "df6.price_per_sqft.describe()"
   ]
  },
  {
   "cell_type": "markdown",
   "metadata": {},
   "source": [
    "**Here we find that min price per sqft is 267 rs/sqft whereas max is 176470, this shows a wide variation in property prices. We should remove outliers per location using mean and one standard deviation**"
   ]
  },
  {
   "cell_type": "code",
   "execution_count": 37,
   "metadata": {},
   "outputs": [
    {
     "data": {
      "text/plain": [
       "(10242, 7)"
      ]
     },
     "execution_count": 37,
     "metadata": {},
     "output_type": "execute_result"
    }
   ],
   "source": [
    "def remove_pps_outliers(df):\n",
    "    df_out = pd.DataFrame()\n",
    "    for key, subdf in df.groupby('location'):\n",
    "        m = np.mean(subdf.price_per_sqft)\n",
    "        st = np.std(subdf.price_per_sqft)\n",
    "        reduced_df = subdf[(subdf.price_per_sqft>(m-st)) & (subdf.price_per_sqft<=(m+st))]\n",
    "        df_out = pd.concat([df_out,reduced_df],ignore_index=True)\n",
    "    return df_out\n",
    "df7 = remove_pps_outliers(df6)\n",
    "df7.shape"
   ]
  },
  {
   "cell_type": "markdown",
   "metadata": {},
   "source": [
    "**Let's check if for a given location how does the 2 BHK and 3 BHK property prices look like**"
   ]
  },
  {
   "cell_type": "code",
   "execution_count": 38,
   "metadata": {},
   "outputs": [
    {
     "data": {
      "image/png": "[encoded data removed]",
      "text/plain": [
       "<Figure size 1500x1000 with 1 Axes>"
      ]
     },
     "metadata": {},
     "output_type": "display_data"
    }
   ],
   "source": [
    "def plot_scatter_chart(df,location):\n",
    "    bhk2 = df[(df.location==location) & (df.bhk==2)]\n",
    "    bhk3 = df[(df.location==location) & (df.bhk==3)]\n",
    "    matplotlib.rcParams['figure.figsize'] = (15,10)\n",
    "    plt.scatter(bhk2.total_sqft,bhk2.price,color='blue',label='2 BHK', s=50)\n",
    "    plt.scatter(bhk3.total_sqft,bhk3.price,marker='+', color='green',label='3 BHK', s=50)\n",
    "    plt.xlabel(\"Total Square Feet Area\")\n",
    "    plt.ylabel(\"Price (Lakh Indian Rupees)\")\n",
    "    plt.title(location)\n",
    "    plt.legend()\n",
    "    \n",
    "plot_scatter_chart(df7,\"Rajaji Nagar\")"
   ]
  },
  {
   "cell_type": "code",
   "execution_count": 39,
   "metadata": {},
   "outputs": [
    {
     "data": {
      "image/png": "[encoded data removed]",
      "text/plain": [
       "<Figure size 1500x1000 with 1 Axes>"
      ]
     },
     "metadata": {},
     "output_type": "display_data"
    }
   ],
   "source": [
    "plot_scatter_chart(df7,\"Hebbal\")"
   ]
  },
  {
   "cell_type": "markdown",
   "metadata": {},
   "source": [
    "**We should also remove properties where for same location, the price of (for example) 3 bedroom apartment is less than 2 bedroom apartment (with same square ft area). What we will do is for a given location, we will build a dictionary of stats per bhk, i.e.**\n",
    "```\n",
    "{\n",
    "    '1' : {\n",
    "        'mean': 4000,\n",
    "        'std: 2000,\n",
    "        'count': 34\n",
    "    },\n",
    "    '2' : {\n",
    "        'mean': 4300,\n",
    "        'std: 2300,\n",
    "        'count': 22\n",
    "    },    \n",
    "}\n",
    "```\n",
    "**Now we can remove those 2 BHK apartments whose price_per_sqft is less than mean price_per_sqft of 1 BHK apartment**"
   ]
  },
  {
   "cell_type": "code",
   "execution_count": 40,
   "metadata": {},
   "outputs": [
    {
     "data": {
      "text/plain": [
       "(7317, 7)"
      ]
     },
     "execution_count": 40,
     "metadata": {},
     "output_type": "execute_result"
    }
   ],
   "source": [
    "def remove_bhk_outliers(df):\n",
    "    exclude_indices = np.array([])\n",
    "    for location, location_df in df.groupby('location'):\n",
    "        bhk_stats = {}\n",
    "        for bhk, bhk_df in location_df.groupby('bhk'):\n",
    "            bhk_stats[bhk] = {\n",
    "                'mean': np.mean(bhk_df.price_per_sqft),\n",
    "                'std': np.std(bhk_df.price_per_sqft),\n",
    "                'count': bhk_df.shape[0]\n",
    "            }\n",
    "        for bhk, bhk_df in location_df.groupby('bhk'):\n",
    "            stats = bhk_stats.get(bhk-1)\n",
    "            if stats and stats['count']>5:\n",
    "                exclude_indices = np.append(exclude_indices, bhk_df[bhk_df.price_per_sqft<(stats['mean'])].index.values)\n",
    "    return df.drop(exclude_indices,axis='index')\n",
    "df8 = remove_bhk_outliers(df7)\n",
    "# df8 = df7.copy()\n",
    "df8.shape"
   ]
  },
  {
   "cell_type": "markdown",
   "metadata": {},
   "source": [
    "**scatter chart again to visualize price_per_sqft for 2 BHK and 3 BHK properties**"
   ]
  },
  {
   "cell_type": "code",
   "execution_count": 41,
   "metadata": {},
   "outputs": [
    {
     "data": {
      "image/png": "[encoded data removed]",
      "text/plain": [
       "<Figure size 1500x1000 with 1 Axes>"
      ]
     },
     "metadata": {},
     "output_type": "display_data"
    }
   ],
   "source": [
    "plot_scatter_chart(df8,\"Rajaji Nagar\")"
   ]
  },
  {
   "cell_type": "code",
   "execution_count": 42,
   "metadata": {
    "scrolled": true
   },
   "outputs": [
    {
     "data": {
      "image/png": "[encoded data removed]",
      "text/plain": [
       "<Figure size 1500x1000 with 1 Axes>"
      ]
     },
     "metadata": {},
     "output_type": "display_data"
    }
   ],
   "source": [
    "plot_scatter_chart(df8,\"Hebbal\")"
   ]
  },
  {
   "cell_type": "markdown",
   "metadata": {},
   "source": [
    "**Based on above charts we can see that data points highlighted in red below are outliers and they are being removed due to remove_bhk_outliers function**"
   ]
  },
  {
   "cell_type": "markdown",
   "metadata": {},
   "source": [
    "<h3 style='color:green'>Before and after outlier removal: Rajaji Nagar</h3>"
   ]
  },
  {
   "attachments": {
    "rajaji_nagar_outliers.png": {
     "image/png": "[encoded data removed]"
    }
   },
   "cell_type": "markdown",
   "metadata": {},
   "source": [
    "![rajaji_nagar_outliers.png](attachment:rajaji_nagar_outliers.png)"
   ]
  },
  {
   "cell_type": "markdown",
   "metadata": {},
   "source": [
    "<h3 style='color:green'>Before and after outlier removal: Hebbal</h3>"
   ]
  },
  {
   "attachments": {
    "hebbal_outliers.png": {
     "image/png": "[encoded data removed]"
    }
   },
   "cell_type": "markdown",
   "metadata": {},
   "source": [
    "![hebbal_outliers.png](attachment:hebbal_outliers.png)"
   ]
  },
  {
   "cell_type": "code",
   "execution_count": 43,
   "metadata": {},
   "outputs": [
    {
     "data": {
      "text/plain": [
       "Text(0, 0.5, 'Count')"
      ]
     },
     "execution_count": 43,
     "metadata": {},
     "output_type": "execute_result"
    },
    {
     "data": {
      "image/png": "[encoded data removed]",
      "text/plain": [
       "<Figure size 2000x1000 with 1 Axes>"
      ]
     },
     "metadata": {},
     "output_type": "display_data"
    }
   ],
   "source": [
    "import matplotlib\n",
    "matplotlib.rcParams[\"figure.figsize\"] = (20,10)\n",
    "plt.hist(df8.price_per_sqft,rwidth=0.8)\n",
    "plt.xlabel(\"Price Per Square Feet\")\n",
    "plt.ylabel(\"Count\")"
   ]
  },
  {
   "cell_type": "markdown",
   "metadata": {},
   "source": [
    "<h2 style='color:blue'>Outlier Removal Using Bathrooms Feature</h2>"
   ]
  },
  {
   "cell_type": "code",
   "execution_count": 44,
   "metadata": {},
   "outputs": [
    {
     "data": {
      "text/plain": [
       "array([ 4.,  3.,  2.,  5.,  8.,  1.,  6.,  7.,  9., 12., 16., 13.])"
      ]
     },
     "execution_count": 44,
     "metadata": {},
     "output_type": "execute_result"
    }
   ],
   "source": [
    "df8.bath.unique()"
   ]
  },
  {
   "cell_type": "code",
   "execution_count": 45,
   "metadata": {},
   "outputs": [
    {
     "data": {
      "text/plain": [
       "Text(0, 0.5, 'Count')"
      ]
     },
     "execution_count": 45,
     "metadata": {},
     "output_type": "execute_result"
    },
    {
     "data": {
      "image/png": "[encoded data removed]",
      "text/plain": [
       "<Figure size 2000x1000 with 1 Axes>"
      ]
     },
     "metadata": {},
     "output_type": "display_data"
    }
   ],
   "source": [
    "plt.hist(df8.bath,rwidth=0.8)\n",
    "plt.xlabel(\"Number of bathrooms\")\n",
    "plt.ylabel(\"Count\")"
   ]
  },
  {
   "cell_type": "code",
   "execution_count": 46,
   "metadata": {},
   "outputs": [
    {
     "data": {
      "application/vnd.microsoft.datawrangler.viewer.v0+json": {
       "columns": [
        {
         "name": "index",
         "rawType": "int64",
         "type": "integer"
        },
        {
         "name": "location",
         "rawType": "object",
         "type": "string"
        },
        {
         "name": "size",
         "rawType": "object",
         "type": "string"
        },
        {
         "name": "total_sqft",
         "rawType": "float64",
         "type": "float"
        },
        {
         "name": "bath",
         "rawType": "float64",
         "type": "float"
        },
        {
         "name": "price",
         "rawType": "float64",
         "type": "float"
        },
        {
         "name": "bhk",
         "rawType": "int64",
         "type": "integer"
        },
        {
         "name": "price_per_sqft",
         "rawType": "float64",
         "type": "float"
        }
       ],
       "ref": "d5747f6e-ca3d-4ab0-839c-f33a6eaea1d5",
       "rows": [
        [
         "5277",
         "Neeladri Nagar",
         "10 BHK",
         "4000.0",
         "12.0",
         "160.0",
         "10",
         "4000.0"
        ],
        [
         "8483",
         "other",
         "10 BHK",
         "12000.0",
         "12.0",
         "525.0",
         "10",
         "4375.0"
        ],
        [
         "8572",
         "other",
         "16 BHK",
         "10000.0",
         "16.0",
         "550.0",
         "16",
         "5500.0"
        ],
        [
         "9306",
         "other",
         "11 BHK",
         "6000.0",
         "12.0",
         "150.0",
         "11",
         "2500.0"
        ],
        [
         "9637",
         "other",
         "13 BHK",
         "5425.0",
         "13.0",
         "275.0",
         "13",
         "5069.124423963133"
        ]
       ],
       "shape": {
        "columns": 7,
        "rows": 5
       }
      },
      "text/html": [
       "<div>\n",
       "<style scoped>\n",
       "    .dataframe tbody tr th:only-of-type {\n",
       "        vertical-align: middle;\n",
       "    }\n",
       "\n",
       "    .dataframe tbody tr th {\n",
       "        vertical-align: top;\n",
       "    }\n",
       "\n",
       "    .dataframe thead th {\n",
       "        text-align: right;\n",
       "    }\n",
       "</style>\n",
       "<table border=\"1\" class=\"dataframe\">\n",
       "  <thead>\n",
       "    <tr style=\"text-align: right;\">\n",
       "      <th></th>\n",
       "      <th>location</th>\n",
       "      <th>size</th>\n",
       "      <th>total_sqft</th>\n",
       "      <th>bath</th>\n",
       "      <th>price</th>\n",
       "      <th>bhk</th>\n",
       "      <th>price_per_sqft</th>\n",
       "    </tr>\n",
       "  </thead>\n",
       "  <tbody>\n",
       "    <tr>\n",
       "      <th>5277</th>\n",
       "      <td>Neeladri Nagar</td>\n",
       "      <td>10 BHK</td>\n",
       "      <td>4000.0</td>\n",
       "      <td>12.0</td>\n",
       "      <td>160.0</td>\n",
       "      <td>10</td>\n",
       "      <td>4000.000000</td>\n",
       "    </tr>\n",
       "    <tr>\n",
       "      <th>8483</th>\n",
       "      <td>other</td>\n",
       "      <td>10 BHK</td>\n",
       "      <td>12000.0</td>\n",
       "      <td>12.0</td>\n",
       "      <td>525.0</td>\n",
       "      <td>10</td>\n",
       "      <td>4375.000000</td>\n",
       "    </tr>\n",
       "    <tr>\n",
       "      <th>8572</th>\n",
       "      <td>other</td>\n",
       "      <td>16 BHK</td>\n",
       "      <td>10000.0</td>\n",
       "      <td>16.0</td>\n",
       "      <td>550.0</td>\n",
       "      <td>16</td>\n",
       "      <td>5500.000000</td>\n",
       "    </tr>\n",
       "    <tr>\n",
       "      <th>9306</th>\n",
       "      <td>other</td>\n",
       "      <td>11 BHK</td>\n",
       "      <td>6000.0</td>\n",
       "      <td>12.0</td>\n",
       "      <td>150.0</td>\n",
       "      <td>11</td>\n",
       "      <td>2500.000000</td>\n",
       "    </tr>\n",
       "    <tr>\n",
       "      <th>9637</th>\n",
       "      <td>other</td>\n",
       "      <td>13 BHK</td>\n",
       "      <td>5425.0</td>\n",
       "      <td>13.0</td>\n",
       "      <td>275.0</td>\n",
       "      <td>13</td>\n",
       "      <td>5069.124424</td>\n",
       "    </tr>\n",
       "  </tbody>\n",
       "</table>\n",
       "</div>"
      ],
      "text/plain": [
       "            location    size  total_sqft  bath  price  bhk  price_per_sqft\n",
       "5277  Neeladri Nagar  10 BHK      4000.0  12.0  160.0   10     4000.000000\n",
       "8483           other  10 BHK     12000.0  12.0  525.0   10     4375.000000\n",
       "8572           other  16 BHK     10000.0  16.0  550.0   16     5500.000000\n",
       "9306           other  11 BHK      6000.0  12.0  150.0   11     2500.000000\n",
       "9637           other  13 BHK      5425.0  13.0  275.0   13     5069.124424"
      ]
     },
     "execution_count": 46,
     "metadata": {},
     "output_type": "execute_result"
    }
   ],
   "source": [
    "df8[df8.bath>10]"
   ]
  },
  {
   "cell_type": "markdown",
   "metadata": {},
   "source": [
    "**It is unusual to have 2 more bathrooms than number of bedrooms in a home**"
   ]
  },
  {
   "cell_type": "code",
   "execution_count": 47,
   "metadata": {},
   "outputs": [
    {
     "data": {
      "application/vnd.microsoft.datawrangler.viewer.v0+json": {
       "columns": [
        {
         "name": "index",
         "rawType": "int64",
         "type": "integer"
        },
        {
         "name": "location",
         "rawType": "object",
         "type": "string"
        },
        {
         "name": "size",
         "rawType": "object",
         "type": "string"
        },
        {
         "name": "total_sqft",
         "rawType": "float64",
         "type": "float"
        },
        {
         "name": "bath",
         "rawType": "float64",
         "type": "float"
        },
        {
         "name": "price",
         "rawType": "float64",
         "type": "float"
        },
        {
         "name": "bhk",
         "rawType": "int64",
         "type": "integer"
        },
        {
         "name": "price_per_sqft",
         "rawType": "float64",
         "type": "float"
        }
       ],
       "ref": "eb8fe5aa-ed92-478f-a7f2-d6c512fbad8f",
       "rows": [
        [
         "1626",
         "Chikkabanavar",
         "4 Bedroom",
         "2460.0",
         "7.0",
         "80.0",
         "4",
         "3252.032520325203"
        ],
        [
         "5238",
         "Nagasandra",
         "4 Bedroom",
         "7000.0",
         "8.0",
         "450.0",
         "4",
         "6428.571428571428"
        ],
        [
         "6711",
         "Thanisandra",
         "3 BHK",
         "1806.0",
         "6.0",
         "116.0",
         "3",
         "6423.034330011074"
        ],
        [
         "8408",
         "other",
         "6 BHK",
         "11338.0",
         "9.0",
         "1000.0",
         "6",
         "8819.897689186806"
        ]
       ],
       "shape": {
        "columns": 7,
        "rows": 4
       }
      },
      "text/html": [
       "<div>\n",
       "<style scoped>\n",
       "    .dataframe tbody tr th:only-of-type {\n",
       "        vertical-align: middle;\n",
       "    }\n",
       "\n",
       "    .dataframe tbody tr th {\n",
       "        vertical-align: top;\n",
       "    }\n",
       "\n",
       "    .dataframe thead th {\n",
       "        text-align: right;\n",
       "    }\n",
       "</style>\n",
       "<table border=\"1\" class=\"dataframe\">\n",
       "  <thead>\n",
       "    <tr style=\"text-align: right;\">\n",
       "      <th></th>\n",
       "      <th>location</th>\n",
       "      <th>size</th>\n",
       "      <th>total_sqft</th>\n",
       "      <th>bath</th>\n",
       "      <th>price</th>\n",
       "      <th>bhk</th>\n",
       "      <th>price_per_sqft</th>\n",
       "    </tr>\n",
       "  </thead>\n",
       "  <tbody>\n",
       "    <tr>\n",
       "      <th>1626</th>\n",
       "      <td>Chikkabanavar</td>\n",
       "      <td>4 Bedroom</td>\n",
       "      <td>2460.0</td>\n",
       "      <td>7.0</td>\n",
       "      <td>80.0</td>\n",
       "      <td>4</td>\n",
       "      <td>3252.032520</td>\n",
       "    </tr>\n",
       "    <tr>\n",
       "      <th>5238</th>\n",
       "      <td>Nagasandra</td>\n",
       "      <td>4 Bedroom</td>\n",
       "      <td>7000.0</td>\n",
       "      <td>8.0</td>\n",
       "      <td>450.0</td>\n",
       "      <td>4</td>\n",
       "      <td>6428.571429</td>\n",
       "    </tr>\n",
       "    <tr>\n",
       "      <th>6711</th>\n",
       "      <td>Thanisandra</td>\n",
       "      <td>3 BHK</td>\n",
       "      <td>1806.0</td>\n",
       "      <td>6.0</td>\n",
       "      <td>116.0</td>\n",
       "      <td>3</td>\n",
       "      <td>6423.034330</td>\n",
       "    </tr>\n",
       "    <tr>\n",
       "      <th>8408</th>\n",
       "      <td>other</td>\n",
       "      <td>6 BHK</td>\n",
       "      <td>11338.0</td>\n",
       "      <td>9.0</td>\n",
       "      <td>1000.0</td>\n",
       "      <td>6</td>\n",
       "      <td>8819.897689</td>\n",
       "    </tr>\n",
       "  </tbody>\n",
       "</table>\n",
       "</div>"
      ],
      "text/plain": [
       "           location       size  total_sqft  bath   price  bhk  price_per_sqft\n",
       "1626  Chikkabanavar  4 Bedroom      2460.0   7.0    80.0    4     3252.032520\n",
       "5238     Nagasandra  4 Bedroom      7000.0   8.0   450.0    4     6428.571429\n",
       "6711    Thanisandra      3 BHK      1806.0   6.0   116.0    3     6423.034330\n",
       "8408          other      6 BHK     11338.0   9.0  1000.0    6     8819.897689"
      ]
     },
     "execution_count": 47,
     "metadata": {},
     "output_type": "execute_result"
    }
   ],
   "source": [
    "df8[df8.bath>df8.bhk+2]"
   ]
  },
  {
   "cell_type": "markdown",
   "metadata": {},
   "source": [
    "As a student (Data Scientist), I learned that the number of bathrooms should not exceed the number of bedrooms by more than one. So, if a house has more bathrooms than bedrooms + 1, it is considered an outlier or data error and should be removed."
   ]
  },
  {
   "cell_type": "code",
   "execution_count": 48,
   "metadata": {},
   "outputs": [
    {
     "data": {
      "text/plain": [
       "(7239, 7)"
      ]
     },
     "execution_count": 48,
     "metadata": {},
     "output_type": "execute_result"
    }
   ],
   "source": [
    "df9 = df8[df8.bath<df8.bhk+2]\n",
    "df9.shape"
   ]
  },
  {
   "cell_type": "code",
   "execution_count": 49,
   "metadata": {},
   "outputs": [
    {
     "data": {
      "application/vnd.microsoft.datawrangler.viewer.v0+json": {
       "columns": [
        {
         "name": "index",
         "rawType": "int64",
         "type": "integer"
        },
        {
         "name": "location",
         "rawType": "object",
         "type": "string"
        },
        {
         "name": "size",
         "rawType": "object",
         "type": "string"
        },
        {
         "name": "total_sqft",
         "rawType": "float64",
         "type": "float"
        },
        {
         "name": "bath",
         "rawType": "float64",
         "type": "float"
        },
        {
         "name": "price",
         "rawType": "float64",
         "type": "float"
        },
        {
         "name": "bhk",
         "rawType": "int64",
         "type": "integer"
        },
        {
         "name": "price_per_sqft",
         "rawType": "float64",
         "type": "float"
        }
       ],
       "ref": "5fbaaf56-6186-4b0f-99a2-d30860428f68",
       "rows": [
        [
         "0",
         "1st Block Jayanagar",
         "4 BHK",
         "2850.0",
         "4.0",
         "428.0",
         "4",
         "15017.543859649122"
        ],
        [
         "1",
         "1st Block Jayanagar",
         "3 BHK",
         "1630.0",
         "3.0",
         "194.0",
         "3",
         "11901.840490797545"
        ]
       ],
       "shape": {
        "columns": 7,
        "rows": 2
       }
      },
      "text/html": [
       "<div>\n",
       "<style scoped>\n",
       "    .dataframe tbody tr th:only-of-type {\n",
       "        vertical-align: middle;\n",
       "    }\n",
       "\n",
       "    .dataframe tbody tr th {\n",
       "        vertical-align: top;\n",
       "    }\n",
       "\n",
       "    .dataframe thead th {\n",
       "        text-align: right;\n",
       "    }\n",
       "</style>\n",
       "<table border=\"1\" class=\"dataframe\">\n",
       "  <thead>\n",
       "    <tr style=\"text-align: right;\">\n",
       "      <th></th>\n",
       "      <th>location</th>\n",
       "      <th>size</th>\n",
       "      <th>total_sqft</th>\n",
       "      <th>bath</th>\n",
       "      <th>price</th>\n",
       "      <th>bhk</th>\n",
       "      <th>price_per_sqft</th>\n",
       "    </tr>\n",
       "  </thead>\n",
       "  <tbody>\n",
       "    <tr>\n",
       "      <th>0</th>\n",
       "      <td>1st Block Jayanagar</td>\n",
       "      <td>4 BHK</td>\n",
       "      <td>2850.0</td>\n",
       "      <td>4.0</td>\n",
       "      <td>428.0</td>\n",
       "      <td>4</td>\n",
       "      <td>15017.543860</td>\n",
       "    </tr>\n",
       "    <tr>\n",
       "      <th>1</th>\n",
       "      <td>1st Block Jayanagar</td>\n",
       "      <td>3 BHK</td>\n",
       "      <td>1630.0</td>\n",
       "      <td>3.0</td>\n",
       "      <td>194.0</td>\n",
       "      <td>3</td>\n",
       "      <td>11901.840491</td>\n",
       "    </tr>\n",
       "  </tbody>\n",
       "</table>\n",
       "</div>"
      ],
      "text/plain": [
       "              location   size  total_sqft  bath  price  bhk  price_per_sqft\n",
       "0  1st Block Jayanagar  4 BHK      2850.0   4.0  428.0    4    15017.543860\n",
       "1  1st Block Jayanagar  3 BHK      1630.0   3.0  194.0    3    11901.840491"
      ]
     },
     "execution_count": 49,
     "metadata": {},
     "output_type": "execute_result"
    }
   ],
   "source": [
    "df9.head(2)"
   ]
  },
  {
   "cell_type": "code",
   "execution_count": 50,
   "metadata": {
    "scrolled": true
   },
   "outputs": [
    {
     "data": {
      "application/vnd.microsoft.datawrangler.viewer.v0+json": {
       "columns": [
        {
         "name": "index",
         "rawType": "int64",
         "type": "integer"
        },
        {
         "name": "location",
         "rawType": "object",
         "type": "string"
        },
        {
         "name": "total_sqft",
         "rawType": "float64",
         "type": "float"
        },
        {
         "name": "bath",
         "rawType": "float64",
         "type": "float"
        },
        {
         "name": "price",
         "rawType": "float64",
         "type": "float"
        },
        {
         "name": "bhk",
         "rawType": "int64",
         "type": "integer"
        }
       ],
       "ref": "a3dec2a3-7a49-46b2-a2e5-c1023343985d",
       "rows": [
        [
         "0",
         "1st Block Jayanagar",
         "2850.0",
         "4.0",
         "428.0",
         "4"
        ],
        [
         "1",
         "1st Block Jayanagar",
         "1630.0",
         "3.0",
         "194.0",
         "3"
        ],
        [
         "2",
         "1st Block Jayanagar",
         "1875.0",
         "2.0",
         "235.0",
         "3"
        ]
       ],
       "shape": {
        "columns": 5,
        "rows": 3
       }
      },
      "text/html": [
       "<div>\n",
       "<style scoped>\n",
       "    .dataframe tbody tr th:only-of-type {\n",
       "        vertical-align: middle;\n",
       "    }\n",
       "\n",
       "    .dataframe tbody tr th {\n",
       "        vertical-align: top;\n",
       "    }\n",
       "\n",
       "    .dataframe thead th {\n",
       "        text-align: right;\n",
       "    }\n",
       "</style>\n",
       "<table border=\"1\" class=\"dataframe\">\n",
       "  <thead>\n",
       "    <tr style=\"text-align: right;\">\n",
       "      <th></th>\n",
       "      <th>location</th>\n",
       "      <th>total_sqft</th>\n",
       "      <th>bath</th>\n",
       "      <th>price</th>\n",
       "      <th>bhk</th>\n",
       "    </tr>\n",
       "  </thead>\n",
       "  <tbody>\n",
       "    <tr>\n",
       "      <th>0</th>\n",
       "      <td>1st Block Jayanagar</td>\n",
       "      <td>2850.0</td>\n",
       "      <td>4.0</td>\n",
       "      <td>428.0</td>\n",
       "      <td>4</td>\n",
       "    </tr>\n",
       "    <tr>\n",
       "      <th>1</th>\n",
       "      <td>1st Block Jayanagar</td>\n",
       "      <td>1630.0</td>\n",
       "      <td>3.0</td>\n",
       "      <td>194.0</td>\n",
       "      <td>3</td>\n",
       "    </tr>\n",
       "    <tr>\n",
       "      <th>2</th>\n",
       "      <td>1st Block Jayanagar</td>\n",
       "      <td>1875.0</td>\n",
       "      <td>2.0</td>\n",
       "      <td>235.0</td>\n",
       "      <td>3</td>\n",
       "    </tr>\n",
       "  </tbody>\n",
       "</table>\n",
       "</div>"
      ],
      "text/plain": [
       "              location  total_sqft  bath  price  bhk\n",
       "0  1st Block Jayanagar      2850.0   4.0  428.0    4\n",
       "1  1st Block Jayanagar      1630.0   3.0  194.0    3\n",
       "2  1st Block Jayanagar      1875.0   2.0  235.0    3"
      ]
     },
     "execution_count": 50,
     "metadata": {},
     "output_type": "execute_result"
    }
   ],
   "source": [
    "df10 = df9.drop(['size','price_per_sqft'],axis='columns')\n",
    "df10.head(3)"
   ]
  },
  {
   "cell_type": "markdown",
   "metadata": {},
   "source": [
    "<h2 style='color:blue'>Use One Hot Encoding For Location</h2>"
   ]
  },
  {
   "cell_type": "code",
   "execution_count": 51,
   "metadata": {},
   "outputs": [
    {
     "data": {
      "application/vnd.microsoft.datawrangler.viewer.v0+json": {
       "columns": [
        {
         "name": "index",
         "rawType": "int64",
         "type": "integer"
        },
        {
         "name": "1st Block Jayanagar",
         "rawType": "bool",
         "type": "boolean"
        },
        {
         "name": "1st Phase JP Nagar",
         "rawType": "bool",
         "type": "boolean"
        },
        {
         "name": "2nd Phase Judicial Layout",
         "rawType": "bool",
         "type": "boolean"
        },
        {
         "name": "2nd Stage Nagarbhavi",
         "rawType": "bool",
         "type": "boolean"
        },
        {
         "name": "5th Block Hbr Layout",
         "rawType": "bool",
         "type": "boolean"
        },
        {
         "name": "5th Phase JP Nagar",
         "rawType": "bool",
         "type": "boolean"
        },
        {
         "name": "6th Phase JP Nagar",
         "rawType": "bool",
         "type": "boolean"
        },
        {
         "name": "7th Phase JP Nagar",
         "rawType": "bool",
         "type": "boolean"
        },
        {
         "name": "8th Phase JP Nagar",
         "rawType": "bool",
         "type": "boolean"
        },
        {
         "name": "9th Phase JP Nagar",
         "rawType": "bool",
         "type": "boolean"
        },
        {
         "name": "AECS Layout",
         "rawType": "bool",
         "type": "boolean"
        },
        {
         "name": "Abbigere",
         "rawType": "bool",
         "type": "boolean"
        },
        {
         "name": "Akshaya Nagar",
         "rawType": "bool",
         "type": "boolean"
        },
        {
         "name": "Ambalipura",
         "rawType": "bool",
         "type": "boolean"
        },
        {
         "name": "Ambedkar Nagar",
         "rawType": "bool",
         "type": "boolean"
        },
        {
         "name": "Amruthahalli",
         "rawType": "bool",
         "type": "boolean"
        },
        {
         "name": "Anandapura",
         "rawType": "bool",
         "type": "boolean"
        },
        {
         "name": "Ananth Nagar",
         "rawType": "bool",
         "type": "boolean"
        },
        {
         "name": "Anekal",
         "rawType": "bool",
         "type": "boolean"
        },
        {
         "name": "Anjanapura",
         "rawType": "bool",
         "type": "boolean"
        },
        {
         "name": "Ardendale",
         "rawType": "bool",
         "type": "boolean"
        },
        {
         "name": "Arekere",
         "rawType": "bool",
         "type": "boolean"
        },
        {
         "name": "Attibele",
         "rawType": "bool",
         "type": "boolean"
        },
        {
         "name": "BEML Layout",
         "rawType": "bool",
         "type": "boolean"
        },
        {
         "name": "BTM 2nd Stage",
         "rawType": "bool",
         "type": "boolean"
        },
        {
         "name": "BTM Layout",
         "rawType": "bool",
         "type": "boolean"
        },
        {
         "name": "Babusapalaya",
         "rawType": "bool",
         "type": "boolean"
        },
        {
         "name": "Badavala Nagar",
         "rawType": "bool",
         "type": "boolean"
        },
        {
         "name": "Balagere",
         "rawType": "bool",
         "type": "boolean"
        },
        {
         "name": "Banashankari",
         "rawType": "bool",
         "type": "boolean"
        },
        {
         "name": "Banashankari Stage II",
         "rawType": "bool",
         "type": "boolean"
        },
        {
         "name": "Banashankari Stage III",
         "rawType": "bool",
         "type": "boolean"
        },
        {
         "name": "Banashankari Stage V",
         "rawType": "bool",
         "type": "boolean"
        },
        {
         "name": "Banashankari Stage VI",
         "rawType": "bool",
         "type": "boolean"
        },
        {
         "name": "Banaswadi",
         "rawType": "bool",
         "type": "boolean"
        },
        {
         "name": "Banjara Layout",
         "rawType": "bool",
         "type": "boolean"
        },
        {
         "name": "Bannerghatta",
         "rawType": "bool",
         "type": "boolean"
        },
        {
         "name": "Bannerghatta Road",
         "rawType": "bool",
         "type": "boolean"
        },
        {
         "name": "Basavangudi",
         "rawType": "bool",
         "type": "boolean"
        },
        {
         "name": "Basaveshwara Nagar",
         "rawType": "bool",
         "type": "boolean"
        },
        {
         "name": "Battarahalli",
         "rawType": "bool",
         "type": "boolean"
        },
        {
         "name": "Begur",
         "rawType": "bool",
         "type": "boolean"
        },
        {
         "name": "Begur Road",
         "rawType": "bool",
         "type": "boolean"
        },
        {
         "name": "Bellandur",
         "rawType": "bool",
         "type": "boolean"
        },
        {
         "name": "Benson Town",
         "rawType": "bool",
         "type": "boolean"
        },
        {
         "name": "Bharathi Nagar",
         "rawType": "bool",
         "type": "boolean"
        },
        {
         "name": "Bhoganhalli",
         "rawType": "bool",
         "type": "boolean"
        },
        {
         "name": "Billekahalli",
         "rawType": "bool",
         "type": "boolean"
        },
        {
         "name": "Binny Pete",
         "rawType": "bool",
         "type": "boolean"
        },
        {
         "name": "Bisuvanahalli",
         "rawType": "bool",
         "type": "boolean"
        },
        {
         "name": "Bommanahalli",
         "rawType": "bool",
         "type": "boolean"
        },
        {
         "name": "Bommasandra",
         "rawType": "bool",
         "type": "boolean"
        },
        {
         "name": "Bommasandra Industrial Area",
         "rawType": "bool",
         "type": "boolean"
        },
        {
         "name": "Bommenahalli",
         "rawType": "bool",
         "type": "boolean"
        },
        {
         "name": "Brookefield",
         "rawType": "bool",
         "type": "boolean"
        },
        {
         "name": "Budigere",
         "rawType": "bool",
         "type": "boolean"
        },
        {
         "name": "CV Raman Nagar",
         "rawType": "bool",
         "type": "boolean"
        },
        {
         "name": "Chamrajpet",
         "rawType": "bool",
         "type": "boolean"
        },
        {
         "name": "Chandapura",
         "rawType": "bool",
         "type": "boolean"
        },
        {
         "name": "Channasandra",
         "rawType": "bool",
         "type": "boolean"
        },
        {
         "name": "Chikka Tirupathi",
         "rawType": "bool",
         "type": "boolean"
        },
        {
         "name": "Chikkabanavar",
         "rawType": "bool",
         "type": "boolean"
        },
        {
         "name": "Chikkalasandra",
         "rawType": "bool",
         "type": "boolean"
        },
        {
         "name": "Choodasandra",
         "rawType": "bool",
         "type": "boolean"
        },
        {
         "name": "Cooke Town",
         "rawType": "bool",
         "type": "boolean"
        },
        {
         "name": "Cox Town",
         "rawType": "bool",
         "type": "boolean"
        },
        {
         "name": "Cunningham Road",
         "rawType": "bool",
         "type": "boolean"
        },
        {
         "name": "Dasanapura",
         "rawType": "bool",
         "type": "boolean"
        },
        {
         "name": "Dasarahalli",
         "rawType": "bool",
         "type": "boolean"
        },
        {
         "name": "Devanahalli",
         "rawType": "bool",
         "type": "boolean"
        },
        {
         "name": "Devarachikkanahalli",
         "rawType": "bool",
         "type": "boolean"
        },
        {
         "name": "Dodda Nekkundi",
         "rawType": "bool",
         "type": "boolean"
        },
        {
         "name": "Doddaballapur",
         "rawType": "bool",
         "type": "boolean"
        },
        {
         "name": "Doddakallasandra",
         "rawType": "bool",
         "type": "boolean"
        },
        {
         "name": "Doddathoguru",
         "rawType": "bool",
         "type": "boolean"
        },
        {
         "name": "Domlur",
         "rawType": "bool",
         "type": "boolean"
        },
        {
         "name": "Dommasandra",
         "rawType": "bool",
         "type": "boolean"
        },
        {
         "name": "EPIP Zone",
         "rawType": "bool",
         "type": "boolean"
        },
        {
         "name": "Electronic City",
         "rawType": "bool",
         "type": "boolean"
        },
        {
         "name": "Electronic City Phase II",
         "rawType": "bool",
         "type": "boolean"
        },
        {
         "name": "Electronics City Phase 1",
         "rawType": "bool",
         "type": "boolean"
        },
        {
         "name": "Frazer Town",
         "rawType": "bool",
         "type": "boolean"
        },
        {
         "name": "GM Palaya",
         "rawType": "bool",
         "type": "boolean"
        },
        {
         "name": "Garudachar Palya",
         "rawType": "bool",
         "type": "boolean"
        },
        {
         "name": "Giri Nagar",
         "rawType": "bool",
         "type": "boolean"
        },
        {
         "name": "Gollarapalya Hosahalli",
         "rawType": "bool",
         "type": "boolean"
        },
        {
         "name": "Gottigere",
         "rawType": "bool",
         "type": "boolean"
        },
        {
         "name": "Green Glen Layout",
         "rawType": "bool",
         "type": "boolean"
        },
        {
         "name": "Gubbalala",
         "rawType": "bool",
         "type": "boolean"
        },
        {
         "name": "Gunjur",
         "rawType": "bool",
         "type": "boolean"
        },
        {
         "name": "HAL 2nd Stage",
         "rawType": "bool",
         "type": "boolean"
        },
        {
         "name": "HBR Layout",
         "rawType": "bool",
         "type": "boolean"
        },
        {
         "name": "HRBR Layout",
         "rawType": "bool",
         "type": "boolean"
        },
        {
         "name": "HSR Layout",
         "rawType": "bool",
         "type": "boolean"
        },
        {
         "name": "Haralur Road",
         "rawType": "bool",
         "type": "boolean"
        },
        {
         "name": "Harlur",
         "rawType": "bool",
         "type": "boolean"
        },
        {
         "name": "Hebbal",
         "rawType": "bool",
         "type": "boolean"
        },
        {
         "name": "Hebbal Kempapura",
         "rawType": "bool",
         "type": "boolean"
        },
        {
         "name": "Hegde Nagar",
         "rawType": "bool",
         "type": "boolean"
        },
        {
         "name": "Hennur",
         "rawType": "bool",
         "type": "boolean"
        },
        {
         "name": "Hennur Road",
         "rawType": "bool",
         "type": "boolean"
        },
        {
         "name": "Hoodi",
         "rawType": "bool",
         "type": "boolean"
        },
        {
         "name": "Horamavu Agara",
         "rawType": "bool",
         "type": "boolean"
        },
        {
         "name": "Horamavu Banaswadi",
         "rawType": "bool",
         "type": "boolean"
        },
        {
         "name": "Hormavu",
         "rawType": "bool",
         "type": "boolean"
        },
        {
         "name": "Hosa Road",
         "rawType": "bool",
         "type": "boolean"
        },
        {
         "name": "Hosakerehalli",
         "rawType": "bool",
         "type": "boolean"
        },
        {
         "name": "Hoskote",
         "rawType": "bool",
         "type": "boolean"
        },
        {
         "name": "Hosur Road",
         "rawType": "bool",
         "type": "boolean"
        },
        {
         "name": "Hulimavu",
         "rawType": "bool",
         "type": "boolean"
        },
        {
         "name": "ISRO Layout",
         "rawType": "bool",
         "type": "boolean"
        },
        {
         "name": "ITPL",
         "rawType": "bool",
         "type": "boolean"
        },
        {
         "name": "Iblur Village",
         "rawType": "bool",
         "type": "boolean"
        },
        {
         "name": "Indira Nagar",
         "rawType": "bool",
         "type": "boolean"
        },
        {
         "name": "JP Nagar",
         "rawType": "bool",
         "type": "boolean"
        },
        {
         "name": "Jakkur",
         "rawType": "bool",
         "type": "boolean"
        },
        {
         "name": "Jalahalli",
         "rawType": "bool",
         "type": "boolean"
        },
        {
         "name": "Jalahalli East",
         "rawType": "bool",
         "type": "boolean"
        },
        {
         "name": "Jigani",
         "rawType": "bool",
         "type": "boolean"
        },
        {
         "name": "Judicial Layout",
         "rawType": "bool",
         "type": "boolean"
        },
        {
         "name": "KR Puram",
         "rawType": "bool",
         "type": "boolean"
        },
        {
         "name": "Kadubeesanahalli",
         "rawType": "bool",
         "type": "boolean"
        },
        {
         "name": "Kadugodi",
         "rawType": "bool",
         "type": "boolean"
        },
        {
         "name": "Kaggadasapura",
         "rawType": "bool",
         "type": "boolean"
        },
        {
         "name": "Kaggalipura",
         "rawType": "bool",
         "type": "boolean"
        },
        {
         "name": "Kaikondrahalli",
         "rawType": "bool",
         "type": "boolean"
        },
        {
         "name": "Kalena Agrahara",
         "rawType": "bool",
         "type": "boolean"
        },
        {
         "name": "Kalyan nagar",
         "rawType": "bool",
         "type": "boolean"
        },
        {
         "name": "Kambipura",
         "rawType": "bool",
         "type": "boolean"
        },
        {
         "name": "Kammanahalli",
         "rawType": "bool",
         "type": "boolean"
        },
        {
         "name": "Kammasandra",
         "rawType": "bool",
         "type": "boolean"
        },
        {
         "name": "Kanakapura",
         "rawType": "bool",
         "type": "boolean"
        },
        {
         "name": "Kanakpura Road",
         "rawType": "bool",
         "type": "boolean"
        },
        {
         "name": "Kannamangala",
         "rawType": "bool",
         "type": "boolean"
        },
        {
         "name": "Karuna Nagar",
         "rawType": "bool",
         "type": "boolean"
        },
        {
         "name": "Kasavanhalli",
         "rawType": "bool",
         "type": "boolean"
        },
        {
         "name": "Kasturi Nagar",
         "rawType": "bool",
         "type": "boolean"
        },
        {
         "name": "Kathriguppe",
         "rawType": "bool",
         "type": "boolean"
        },
        {
         "name": "Kaval Byrasandra",
         "rawType": "bool",
         "type": "boolean"
        },
        {
         "name": "Kenchenahalli",
         "rawType": "bool",
         "type": "boolean"
        },
        {
         "name": "Kengeri",
         "rawType": "bool",
         "type": "boolean"
        },
        {
         "name": "Kengeri Satellite Town",
         "rawType": "bool",
         "type": "boolean"
        },
        {
         "name": "Kereguddadahalli",
         "rawType": "bool",
         "type": "boolean"
        },
        {
         "name": "Kodichikkanahalli",
         "rawType": "bool",
         "type": "boolean"
        },
        {
         "name": "Kodigehaali",
         "rawType": "bool",
         "type": "boolean"
        },
        {
         "name": "Kodigehalli",
         "rawType": "bool",
         "type": "boolean"
        },
        {
         "name": "Kodihalli",
         "rawType": "bool",
         "type": "boolean"
        },
        {
         "name": "Kogilu",
         "rawType": "bool",
         "type": "boolean"
        },
        {
         "name": "Konanakunte",
         "rawType": "bool",
         "type": "boolean"
        },
        {
         "name": "Koramangala",
         "rawType": "bool",
         "type": "boolean"
        },
        {
         "name": "Kothannur",
         "rawType": "bool",
         "type": "boolean"
        },
        {
         "name": "Kothanur",
         "rawType": "bool",
         "type": "boolean"
        },
        {
         "name": "Kudlu",
         "rawType": "bool",
         "type": "boolean"
        },
        {
         "name": "Kudlu Gate",
         "rawType": "bool",
         "type": "boolean"
        },
        {
         "name": "Kumaraswami Layout",
         "rawType": "bool",
         "type": "boolean"
        },
        {
         "name": "Kundalahalli",
         "rawType": "bool",
         "type": "boolean"
        },
        {
         "name": "LB Shastri Nagar",
         "rawType": "bool",
         "type": "boolean"
        },
        {
         "name": "Laggere",
         "rawType": "bool",
         "type": "boolean"
        },
        {
         "name": "Lakshminarayana Pura",
         "rawType": "bool",
         "type": "boolean"
        },
        {
         "name": "Lingadheeranahalli",
         "rawType": "bool",
         "type": "boolean"
        },
        {
         "name": "Magadi Road",
         "rawType": "bool",
         "type": "boolean"
        },
        {
         "name": "Mahadevpura",
         "rawType": "bool",
         "type": "boolean"
        },
        {
         "name": "Mahalakshmi Layout",
         "rawType": "bool",
         "type": "boolean"
        },
        {
         "name": "Mallasandra",
         "rawType": "bool",
         "type": "boolean"
        },
        {
         "name": "Malleshpalya",
         "rawType": "bool",
         "type": "boolean"
        },
        {
         "name": "Malleshwaram",
         "rawType": "bool",
         "type": "boolean"
        },
        {
         "name": "Marathahalli",
         "rawType": "bool",
         "type": "boolean"
        },
        {
         "name": "Margondanahalli",
         "rawType": "bool",
         "type": "boolean"
        },
        {
         "name": "Marsur",
         "rawType": "bool",
         "type": "boolean"
        },
        {
         "name": "Mico Layout",
         "rawType": "bool",
         "type": "boolean"
        },
        {
         "name": "Munnekollal",
         "rawType": "bool",
         "type": "boolean"
        },
        {
         "name": "Murugeshpalya",
         "rawType": "bool",
         "type": "boolean"
        },
        {
         "name": "Mysore Road",
         "rawType": "bool",
         "type": "boolean"
        },
        {
         "name": "NGR Layout",
         "rawType": "bool",
         "type": "boolean"
        },
        {
         "name": "NRI Layout",
         "rawType": "bool",
         "type": "boolean"
        },
        {
         "name": "Nagarbhavi",
         "rawType": "bool",
         "type": "boolean"
        },
        {
         "name": "Nagasandra",
         "rawType": "bool",
         "type": "boolean"
        },
        {
         "name": "Nagavara",
         "rawType": "bool",
         "type": "boolean"
        },
        {
         "name": "Nagavarapalya",
         "rawType": "bool",
         "type": "boolean"
        },
        {
         "name": "Narayanapura",
         "rawType": "bool",
         "type": "boolean"
        },
        {
         "name": "Neeladri Nagar",
         "rawType": "bool",
         "type": "boolean"
        },
        {
         "name": "Nehru Nagar",
         "rawType": "bool",
         "type": "boolean"
        },
        {
         "name": "OMBR Layout",
         "rawType": "bool",
         "type": "boolean"
        },
        {
         "name": "Old Airport Road",
         "rawType": "bool",
         "type": "boolean"
        },
        {
         "name": "Old Madras Road",
         "rawType": "bool",
         "type": "boolean"
        },
        {
         "name": "Padmanabhanagar",
         "rawType": "bool",
         "type": "boolean"
        },
        {
         "name": "Pai Layout",
         "rawType": "bool",
         "type": "boolean"
        },
        {
         "name": "Panathur",
         "rawType": "bool",
         "type": "boolean"
        },
        {
         "name": "Parappana Agrahara",
         "rawType": "bool",
         "type": "boolean"
        },
        {
         "name": "Pattandur Agrahara",
         "rawType": "bool",
         "type": "boolean"
        },
        {
         "name": "Poorna Pragna Layout",
         "rawType": "bool",
         "type": "boolean"
        },
        {
         "name": "Prithvi Layout",
         "rawType": "bool",
         "type": "boolean"
        },
        {
         "name": "R.T. Nagar",
         "rawType": "bool",
         "type": "boolean"
        },
        {
         "name": "Rachenahalli",
         "rawType": "bool",
         "type": "boolean"
        },
        {
         "name": "Raja Rajeshwari Nagar",
         "rawType": "bool",
         "type": "boolean"
        },
        {
         "name": "Rajaji Nagar",
         "rawType": "bool",
         "type": "boolean"
        },
        {
         "name": "Rajiv Nagar",
         "rawType": "bool",
         "type": "boolean"
        },
        {
         "name": "Ramagondanahalli",
         "rawType": "bool",
         "type": "boolean"
        },
        {
         "name": "Ramamurthy Nagar",
         "rawType": "bool",
         "type": "boolean"
        },
        {
         "name": "Rayasandra",
         "rawType": "bool",
         "type": "boolean"
        },
        {
         "name": "Sahakara Nagar",
         "rawType": "bool",
         "type": "boolean"
        },
        {
         "name": "Sanjay nagar",
         "rawType": "bool",
         "type": "boolean"
        },
        {
         "name": "Sarakki Nagar",
         "rawType": "bool",
         "type": "boolean"
        },
        {
         "name": "Sarjapur",
         "rawType": "bool",
         "type": "boolean"
        },
        {
         "name": "Sarjapur  Road",
         "rawType": "bool",
         "type": "boolean"
        },
        {
         "name": "Sarjapura - Attibele Road",
         "rawType": "bool",
         "type": "boolean"
        },
        {
         "name": "Sector 2 HSR Layout",
         "rawType": "bool",
         "type": "boolean"
        },
        {
         "name": "Sector 7 HSR Layout",
         "rawType": "bool",
         "type": "boolean"
        },
        {
         "name": "Seegehalli",
         "rawType": "bool",
         "type": "boolean"
        },
        {
         "name": "Shampura",
         "rawType": "bool",
         "type": "boolean"
        },
        {
         "name": "Shivaji Nagar",
         "rawType": "bool",
         "type": "boolean"
        },
        {
         "name": "Singasandra",
         "rawType": "bool",
         "type": "boolean"
        },
        {
         "name": "Somasundara Palya",
         "rawType": "bool",
         "type": "boolean"
        },
        {
         "name": "Sompura",
         "rawType": "bool",
         "type": "boolean"
        },
        {
         "name": "Sonnenahalli",
         "rawType": "bool",
         "type": "boolean"
        },
        {
         "name": "Subramanyapura",
         "rawType": "bool",
         "type": "boolean"
        },
        {
         "name": "Sultan Palaya",
         "rawType": "bool",
         "type": "boolean"
        },
        {
         "name": "TC Palaya",
         "rawType": "bool",
         "type": "boolean"
        },
        {
         "name": "Talaghattapura",
         "rawType": "bool",
         "type": "boolean"
        },
        {
         "name": "Thanisandra",
         "rawType": "bool",
         "type": "boolean"
        },
        {
         "name": "Thigalarapalya",
         "rawType": "bool",
         "type": "boolean"
        },
        {
         "name": "Thubarahalli",
         "rawType": "bool",
         "type": "boolean"
        },
        {
         "name": "Tindlu",
         "rawType": "bool",
         "type": "boolean"
        },
        {
         "name": "Tumkur Road",
         "rawType": "bool",
         "type": "boolean"
        },
        {
         "name": "Ulsoor",
         "rawType": "bool",
         "type": "boolean"
        },
        {
         "name": "Uttarahalli",
         "rawType": "bool",
         "type": "boolean"
        },
        {
         "name": "Varthur",
         "rawType": "bool",
         "type": "boolean"
        },
        {
         "name": "Varthur Road",
         "rawType": "bool",
         "type": "boolean"
        },
        {
         "name": "Vasanthapura",
         "rawType": "bool",
         "type": "boolean"
        },
        {
         "name": "Vidyaranyapura",
         "rawType": "bool",
         "type": "boolean"
        },
        {
         "name": "Vijayanagar",
         "rawType": "bool",
         "type": "boolean"
        },
        {
         "name": "Vishveshwarya Layout",
         "rawType": "bool",
         "type": "boolean"
        },
        {
         "name": "Vishwapriya Layout",
         "rawType": "bool",
         "type": "boolean"
        },
        {
         "name": "Vittasandra",
         "rawType": "bool",
         "type": "boolean"
        },
        {
         "name": "Whitefield",
         "rawType": "bool",
         "type": "boolean"
        },
        {
         "name": "Yelachenahalli",
         "rawType": "bool",
         "type": "boolean"
        },
        {
         "name": "Yelahanka",
         "rawType": "bool",
         "type": "boolean"
        },
        {
         "name": "Yelahanka New Town",
         "rawType": "bool",
         "type": "boolean"
        },
        {
         "name": "Yelenahalli",
         "rawType": "bool",
         "type": "boolean"
        },
        {
         "name": "Yeshwanthpur",
         "rawType": "bool",
         "type": "boolean"
        },
        {
         "name": "other",
         "rawType": "bool",
         "type": "boolean"
        }
       ],
       "ref": "1830c6f4-1231-44c8-908b-8e5ee657e3eb",
       "rows": [
        [
         "0",
         "True",
         "False",
         "False",
         "False",
         "False",
         "False",
         "False",
         "False",
         "False",
         "False",
         "False",
         "False",
         "False",
         "False",
         "False",
         "False",
         "False",
         "False",
         "False",
         "False",
         "False",
         "False",
         "False",
         "False",
         "False",
         "False",
         "False",
         "False",
         "False",
         "False",
         "False",
         "False",
         "False",
         "False",
         "False",
         "False",
         "False",
         "False",
         "False",
         "False",
         "False",
         "False",
         "False",
         "False",
         "False",
         "False",
         "False",
         "False",
         "False",
         "False",
         "False",
         "False",
         "False",
         "False",
         "False",
         "False",
         "False",
         "False",
         "False",
         "False",
         "False",
         "False",
         "False",
         "False",
         "False",
         "False",
         "False",
         "False",
         "False",
         "False",
         "False",
         "False",
         "False",
         "False",
         "False",
         "False",
         "False",
         "False",
         "False",
         "False",
         "False",
         "False",
         "False",
         "False",
         "False",
         "False",
         "False",
         "False",
         "False",
         "False",
         "False",
         "False",
         "False",
         "False",
         "False",
         "False",
         "False",
         "False",
         "False",
         "False",
         "False",
         "False",
         "False",
         "False",
         "False",
         "False",
         "False",
         "False",
         "False",
         "False",
         "False",
         "False",
         "False",
         "False",
         "False",
         "False",
         "False",
         "False",
         "False",
         "False",
         "False",
         "False",
         "False",
         "False",
         "False",
         "False",
         "False",
         "False",
         "False",
         "False",
         "False",
         "False",
         "False",
         "False",
         "False",
         "False",
         "False",
         "False",
         "False",
         "False",
         "False",
         "False",
         "False",
         "False",
         "False",
         "False",
         "False",
         "False",
         "False",
         "False",
         "False",
         "False",
         "False",
         "False",
         "False",
         "False",
         "False",
         "False",
         "False",
         "False",
         "False",
         "False",
         "False",
         "False",
         "False",
         "False",
         "False",
         "False",
         "False",
         "False",
         "False",
         "False",
         "False",
         "False",
         "False",
         "False",
         "False",
         "False",
         "False",
         "False",
         "False",
         "False",
         "False",
         "False",
         "False",
         "False",
         "False",
         "False",
         "False",
         "False",
         "False",
         "False",
         "False",
         "False",
         "False",
         "False",
         "False",
         "False",
         "False",
         "False",
         "False",
         "False",
         "False",
         "False",
         "False",
         "False",
         "False",
         "False",
         "False",
         "False",
         "False",
         "False",
         "False",
         "False",
         "False",
         "False",
         "False",
         "False",
         "False",
         "False",
         "False",
         "False",
         "False",
         "False",
         "False",
         "False",
         "False",
         "False",
         "False",
         "False",
         "False",
         "False",
         "False",
         "False",
         "False",
         "False",
         "False",
         "False",
         "False",
         "False",
         "False"
        ],
        [
         "1",
         "True",
         "False",
         "False",
         "False",
         "False",
         "False",
         "False",
         "False",
         "False",
         "False",
         "False",
         "False",
         "False",
         "False",
         "False",
         "False",
         "False",
         "False",
         "False",
         "False",
         "False",
         "False",
         "False",
         "False",
         "False",
         "False",
         "False",
         "False",
         "False",
         "False",
         "False",
         "False",
         "False",
         "False",
         "False",
         "False",
         "False",
         "False",
         "False",
         "False",
         "False",
         "False",
         "False",
         "False",
         "False",
         "False",
         "False",
         "False",
         "False",
         "False",
         "False",
         "False",
         "False",
         "False",
         "False",
         "False",
         "False",
         "False",
         "False",
         "False",
         "False",
         "False",
         "False",
         "False",
         "False",
         "False",
         "False",
         "False",
         "False",
         "False",
         "False",
         "False",
         "False",
         "False",
         "False",
         "False",
         "False",
         "False",
         "False",
         "False",
         "False",
         "False",
         "False",
         "False",
         "False",
         "False",
         "False",
         "False",
         "False",
         "False",
         "False",
         "False",
         "False",
         "False",
         "False",
         "False",
         "False",
         "False",
         "False",
         "False",
         "False",
         "False",
         "False",
         "False",
         "False",
         "False",
         "False",
         "False",
         "False",
         "False",
         "False",
         "False",
         "False",
         "False",
         "False",
         "False",
         "False",
         "False",
         "False",
         "False",
         "False",
         "False",
         "False",
         "False",
         "False",
         "False",
         "False",
         "False",
         "False",
         "False",
         "False",
         "False",
         "False",
         "False",
         "False",
         "False",
         "False",
         "False",
         "False",
         "False",
         "False",
         "False",
         "False",
         "False",
         "False",
         "False",
         "False",
         "False",
         "False",
         "False",
         "False",
         "False",
         "False",
         "False",
         "False",
         "False",
         "False",
         "False",
         "False",
         "False",
         "False",
         "False",
         "False",
         "False",
         "False",
         "False",
         "False",
         "False",
         "False",
         "False",
         "False",
         "False",
         "False",
         "False",
         "False",
         "False",
         "False",
         "False",
         "False",
         "False",
         "False",
         "False",
         "False",
         "False",
         "False",
         "False",
         "False",
         "False",
         "False",
         "False",
         "False",
         "False",
         "False",
         "False",
         "False",
         "False",
         "False",
         "False",
         "False",
         "False",
         "False",
         "False",
         "False",
         "False",
         "False",
         "False",
         "False",
         "False",
         "False",
         "False",
         "False",
         "False",
         "False",
         "False",
         "False",
         "False",
         "False",
         "False",
         "False",
         "False",
         "False",
         "False",
         "False",
         "False",
         "False",
         "False",
         "False",
         "False",
         "False",
         "False",
         "False",
         "False",
         "False",
         "False",
         "False",
         "False",
         "False",
         "False",
         "False",
         "False",
         "False"
        ],
        [
         "2",
         "True",
         "False",
         "False",
         "False",
         "False",
         "False",
         "False",
         "False",
         "False",
         "False",
         "False",
         "False",
         "False",
         "False",
         "False",
         "False",
         "False",
         "False",
         "False",
         "False",
         "False",
         "False",
         "False",
         "False",
         "False",
         "False",
         "False",
         "False",
         "False",
         "False",
         "False",
         "False",
         "False",
         "False",
         "False",
         "False",
         "False",
         "False",
         "False",
         "False",
         "False",
         "False",
         "False",
         "False",
         "False",
         "False",
         "False",
         "False",
         "False",
         "False",
         "False",
         "False",
         "False",
         "False",
         "False",
         "False",
         "False",
         "False",
         "False",
         "False",
         "False",
         "False",
         "False",
         "False",
         "False",
         "False",
         "False",
         "False",
         "False",
         "False",
         "False",
         "False",
         "False",
         "False",
         "False",
         "False",
         "False",
         "False",
         "False",
         "False",
         "False",
         "False",
         "False",
         "False",
         "False",
         "False",
         "False",
         "False",
         "False",
         "False",
         "False",
         "False",
         "False",
         "False",
         "False",
         "False",
         "False",
         "False",
         "False",
         "False",
         "False",
         "False",
         "False",
         "False",
         "False",
         "False",
         "False",
         "False",
         "False",
         "False",
         "False",
         "False",
         "False",
         "False",
         "False",
         "False",
         "False",
         "False",
         "False",
         "False",
         "False",
         "False",
         "False",
         "False",
         "False",
         "False",
         "False",
         "False",
         "False",
         "False",
         "False",
         "False",
         "False",
         "False",
         "False",
         "False",
         "False",
         "False",
         "False",
         "False",
         "False",
         "False",
         "False",
         "False",
         "False",
         "False",
         "False",
         "False",
         "False",
         "False",
         "False",
         "False",
         "False",
         "False",
         "False",
         "False",
         "False",
         "False",
         "False",
         "False",
         "False",
         "False",
         "False",
         "False",
         "False",
         "False",
         "False",
         "False",
         "False",
         "False",
         "False",
         "False",
         "False",
         "False",
         "False",
         "False",
         "False",
         "False",
         "False",
         "False",
         "False",
         "False",
         "False",
         "False",
         "False",
         "False",
         "False",
         "False",
         "False",
         "False",
         "False",
         "False",
         "False",
         "False",
         "False",
         "False",
         "False",
         "False",
         "False",
         "False",
         "False",
         "False",
         "False",
         "False",
         "False",
         "False",
         "False",
         "False",
         "False",
         "False",
         "False",
         "False",
         "False",
         "False",
         "False",
         "False",
         "False",
         "False",
         "False",
         "False",
         "False",
         "False",
         "False",
         "False",
         "False",
         "False",
         "False",
         "False",
         "False",
         "False",
         "False",
         "False",
         "False",
         "False",
         "False",
         "False",
         "False",
         "False",
         "False",
         "False",
         "False"
        ]
       ],
       "shape": {
        "columns": 241,
        "rows": 3
       }
      },
      "text/html": [
       "<div>\n",
       "<style scoped>\n",
       "    .dataframe tbody tr th:only-of-type {\n",
       "        vertical-align: middle;\n",
       "    }\n",
       "\n",
       "    .dataframe tbody tr th {\n",
       "        vertical-align: top;\n",
       "    }\n",
       "\n",
       "    .dataframe thead th {\n",
       "        text-align: right;\n",
       "    }\n",
       "</style>\n",
       "<table border=\"1\" class=\"dataframe\">\n",
       "  <thead>\n",
       "    <tr style=\"text-align: right;\">\n",
       "      <th></th>\n",
       "      <th>1st Block Jayanagar</th>\n",
       "      <th>1st Phase JP Nagar</th>\n",
       "      <th>2nd Phase Judicial Layout</th>\n",
       "      <th>2nd Stage Nagarbhavi</th>\n",
       "      <th>5th Block Hbr Layout</th>\n",
       "      <th>5th Phase JP Nagar</th>\n",
       "      <th>6th Phase JP Nagar</th>\n",
       "      <th>7th Phase JP Nagar</th>\n",
       "      <th>8th Phase JP Nagar</th>\n",
       "      <th>9th Phase JP Nagar</th>\n",
       "      <th>...</th>\n",
       "      <th>Vishveshwarya Layout</th>\n",
       "      <th>Vishwapriya Layout</th>\n",
       "      <th>Vittasandra</th>\n",
       "      <th>Whitefield</th>\n",
       "      <th>Yelachenahalli</th>\n",
       "      <th>Yelahanka</th>\n",
       "      <th>Yelahanka New Town</th>\n",
       "      <th>Yelenahalli</th>\n",
       "      <th>Yeshwanthpur</th>\n",
       "      <th>other</th>\n",
       "    </tr>\n",
       "  </thead>\n",
       "  <tbody>\n",
       "    <tr>\n",
       "      <th>0</th>\n",
       "      <td>True</td>\n",
       "      <td>False</td>\n",
       "      <td>False</td>\n",
       "      <td>False</td>\n",
       "      <td>False</td>\n",
       "      <td>False</td>\n",
       "      <td>False</td>\n",
       "      <td>False</td>\n",
       "      <td>False</td>\n",
       "      <td>False</td>\n",
       "      <td>...</td>\n",
       "      <td>False</td>\n",
       "      <td>False</td>\n",
       "      <td>False</td>\n",
       "      <td>False</td>\n",
       "      <td>False</td>\n",
       "      <td>False</td>\n",
       "      <td>False</td>\n",
       "      <td>False</td>\n",
       "      <td>False</td>\n",
       "      <td>False</td>\n",
       "    </tr>\n",
       "    <tr>\n",
       "      <th>1</th>\n",
       "      <td>True</td>\n",
       "      <td>False</td>\n",
       "      <td>False</td>\n",
       "      <td>False</td>\n",
       "      <td>False</td>\n",
       "      <td>False</td>\n",
       "      <td>False</td>\n",
       "      <td>False</td>\n",
       "      <td>False</td>\n",
       "      <td>False</td>\n",
       "      <td>...</td>\n",
       "      <td>False</td>\n",
       "      <td>False</td>\n",
       "      <td>False</td>\n",
       "      <td>False</td>\n",
       "      <td>False</td>\n",
       "      <td>False</td>\n",
       "      <td>False</td>\n",
       "      <td>False</td>\n",
       "      <td>False</td>\n",
       "      <td>False</td>\n",
       "    </tr>\n",
       "    <tr>\n",
       "      <th>2</th>\n",
       "      <td>True</td>\n",
       "      <td>False</td>\n",
       "      <td>False</td>\n",
       "      <td>False</td>\n",
       "      <td>False</td>\n",
       "      <td>False</td>\n",
       "      <td>False</td>\n",
       "      <td>False</td>\n",
       "      <td>False</td>\n",
       "      <td>False</td>\n",
       "      <td>...</td>\n",
       "      <td>False</td>\n",
       "      <td>False</td>\n",
       "      <td>False</td>\n",
       "      <td>False</td>\n",
       "      <td>False</td>\n",
       "      <td>False</td>\n",
       "      <td>False</td>\n",
       "      <td>False</td>\n",
       "      <td>False</td>\n",
       "      <td>False</td>\n",
       "    </tr>\n",
       "  </tbody>\n",
       "</table>\n",
       "<p>3 rows × 241 columns</p>\n",
       "</div>"
      ],
      "text/plain": [
       "   1st Block Jayanagar  1st Phase JP Nagar  2nd Phase Judicial Layout  \\\n",
       "0                 True               False                      False   \n",
       "1                 True               False                      False   \n",
       "2                 True               False                      False   \n",
       "\n",
       "   2nd Stage Nagarbhavi  5th Block Hbr Layout  5th Phase JP Nagar  \\\n",
       "0                 False                 False               False   \n",
       "1                 False                 False               False   \n",
       "2                 False                 False               False   \n",
       "\n",
       "   6th Phase JP Nagar  7th Phase JP Nagar  8th Phase JP Nagar  \\\n",
       "0               False               False               False   \n",
       "1               False               False               False   \n",
       "2               False               False               False   \n",
       "\n",
       "   9th Phase JP Nagar  ...  Vishveshwarya Layout  Vishwapriya Layout  \\\n",
       "0               False  ...                 False               False   \n",
       "1               False  ...                 False               False   \n",
       "2               False  ...                 False               False   \n",
       "\n",
       "   Vittasandra  Whitefield  Yelachenahalli  Yelahanka  Yelahanka New Town  \\\n",
       "0        False       False           False      False               False   \n",
       "1        False       False           False      False               False   \n",
       "2        False       False           False      False               False   \n",
       "\n",
       "   Yelenahalli  Yeshwanthpur  other  \n",
       "0        False         False  False  \n",
       "1        False         False  False  \n",
       "2        False         False  False  \n",
       "\n",
       "[3 rows x 241 columns]"
      ]
     },
     "execution_count": 51,
     "metadata": {},
     "output_type": "execute_result"
    }
   ],
   "source": [
    "dummies = pd.get_dummies(df10.location)\n",
    "dummies.head(3)"
   ]
  },
  {
   "cell_type": "code",
   "execution_count": 52,
   "metadata": {},
   "outputs": [
    {
     "data": {
      "application/vnd.microsoft.datawrangler.viewer.v0+json": {
       "columns": [
        {
         "name": "index",
         "rawType": "int64",
         "type": "integer"
        },
        {
         "name": "location",
         "rawType": "object",
         "type": "string"
        },
        {
         "name": "total_sqft",
         "rawType": "float64",
         "type": "float"
        },
        {
         "name": "bath",
         "rawType": "float64",
         "type": "float"
        },
        {
         "name": "price",
         "rawType": "float64",
         "type": "float"
        },
        {
         "name": "bhk",
         "rawType": "int64",
         "type": "integer"
        },
        {
         "name": "1st Block Jayanagar",
         "rawType": "bool",
         "type": "boolean"
        },
        {
         "name": "1st Phase JP Nagar",
         "rawType": "bool",
         "type": "boolean"
        },
        {
         "name": "2nd Phase Judicial Layout",
         "rawType": "bool",
         "type": "boolean"
        },
        {
         "name": "2nd Stage Nagarbhavi",
         "rawType": "bool",
         "type": "boolean"
        },
        {
         "name": "5th Block Hbr Layout",
         "rawType": "bool",
         "type": "boolean"
        },
        {
         "name": "5th Phase JP Nagar",
         "rawType": "bool",
         "type": "boolean"
        },
        {
         "name": "6th Phase JP Nagar",
         "rawType": "bool",
         "type": "boolean"
        },
        {
         "name": "7th Phase JP Nagar",
         "rawType": "bool",
         "type": "boolean"
        },
        {
         "name": "8th Phase JP Nagar",
         "rawType": "bool",
         "type": "boolean"
        },
        {
         "name": "9th Phase JP Nagar",
         "rawType": "bool",
         "type": "boolean"
        },
        {
         "name": "AECS Layout",
         "rawType": "bool",
         "type": "boolean"
        },
        {
         "name": "Abbigere",
         "rawType": "bool",
         "type": "boolean"
        },
        {
         "name": "Akshaya Nagar",
         "rawType": "bool",
         "type": "boolean"
        },
        {
         "name": "Ambalipura",
         "rawType": "bool",
         "type": "boolean"
        },
        {
         "name": "Ambedkar Nagar",
         "rawType": "bool",
         "type": "boolean"
        },
        {
         "name": "Amruthahalli",
         "rawType": "bool",
         "type": "boolean"
        },
        {
         "name": "Anandapura",
         "rawType": "bool",
         "type": "boolean"
        },
        {
         "name": "Ananth Nagar",
         "rawType": "bool",
         "type": "boolean"
        },
        {
         "name": "Anekal",
         "rawType": "bool",
         "type": "boolean"
        },
        {
         "name": "Anjanapura",
         "rawType": "bool",
         "type": "boolean"
        },
        {
         "name": "Ardendale",
         "rawType": "bool",
         "type": "boolean"
        },
        {
         "name": "Arekere",
         "rawType": "bool",
         "type": "boolean"
        },
        {
         "name": "Attibele",
         "rawType": "bool",
         "type": "boolean"
        },
        {
         "name": "BEML Layout",
         "rawType": "bool",
         "type": "boolean"
        },
        {
         "name": "BTM 2nd Stage",
         "rawType": "bool",
         "type": "boolean"
        },
        {
         "name": "BTM Layout",
         "rawType": "bool",
         "type": "boolean"
        },
        {
         "name": "Babusapalaya",
         "rawType": "bool",
         "type": "boolean"
        },
        {
         "name": "Badavala Nagar",
         "rawType": "bool",
         "type": "boolean"
        },
        {
         "name": "Balagere",
         "rawType": "bool",
         "type": "boolean"
        },
        {
         "name": "Banashankari",
         "rawType": "bool",
         "type": "boolean"
        },
        {
         "name": "Banashankari Stage II",
         "rawType": "bool",
         "type": "boolean"
        },
        {
         "name": "Banashankari Stage III",
         "rawType": "bool",
         "type": "boolean"
        },
        {
         "name": "Banashankari Stage V",
         "rawType": "bool",
         "type": "boolean"
        },
        {
         "name": "Banashankari Stage VI",
         "rawType": "bool",
         "type": "boolean"
        },
        {
         "name": "Banaswadi",
         "rawType": "bool",
         "type": "boolean"
        },
        {
         "name": "Banjara Layout",
         "rawType": "bool",
         "type": "boolean"
        },
        {
         "name": "Bannerghatta",
         "rawType": "bool",
         "type": "boolean"
        },
        {
         "name": "Bannerghatta Road",
         "rawType": "bool",
         "type": "boolean"
        },
        {
         "name": "Basavangudi",
         "rawType": "bool",
         "type": "boolean"
        },
        {
         "name": "Basaveshwara Nagar",
         "rawType": "bool",
         "type": "boolean"
        },
        {
         "name": "Battarahalli",
         "rawType": "bool",
         "type": "boolean"
        },
        {
         "name": "Begur",
         "rawType": "bool",
         "type": "boolean"
        },
        {
         "name": "Begur Road",
         "rawType": "bool",
         "type": "boolean"
        },
        {
         "name": "Bellandur",
         "rawType": "bool",
         "type": "boolean"
        },
        {
         "name": "Benson Town",
         "rawType": "bool",
         "type": "boolean"
        },
        {
         "name": "Bharathi Nagar",
         "rawType": "bool",
         "type": "boolean"
        },
        {
         "name": "Bhoganhalli",
         "rawType": "bool",
         "type": "boolean"
        },
        {
         "name": "Billekahalli",
         "rawType": "bool",
         "type": "boolean"
        },
        {
         "name": "Binny Pete",
         "rawType": "bool",
         "type": "boolean"
        },
        {
         "name": "Bisuvanahalli",
         "rawType": "bool",
         "type": "boolean"
        },
        {
         "name": "Bommanahalli",
         "rawType": "bool",
         "type": "boolean"
        },
        {
         "name": "Bommasandra",
         "rawType": "bool",
         "type": "boolean"
        },
        {
         "name": "Bommasandra Industrial Area",
         "rawType": "bool",
         "type": "boolean"
        },
        {
         "name": "Bommenahalli",
         "rawType": "bool",
         "type": "boolean"
        },
        {
         "name": "Brookefield",
         "rawType": "bool",
         "type": "boolean"
        },
        {
         "name": "Budigere",
         "rawType": "bool",
         "type": "boolean"
        },
        {
         "name": "CV Raman Nagar",
         "rawType": "bool",
         "type": "boolean"
        },
        {
         "name": "Chamrajpet",
         "rawType": "bool",
         "type": "boolean"
        },
        {
         "name": "Chandapura",
         "rawType": "bool",
         "type": "boolean"
        },
        {
         "name": "Channasandra",
         "rawType": "bool",
         "type": "boolean"
        },
        {
         "name": "Chikka Tirupathi",
         "rawType": "bool",
         "type": "boolean"
        },
        {
         "name": "Chikkabanavar",
         "rawType": "bool",
         "type": "boolean"
        },
        {
         "name": "Chikkalasandra",
         "rawType": "bool",
         "type": "boolean"
        },
        {
         "name": "Choodasandra",
         "rawType": "bool",
         "type": "boolean"
        },
        {
         "name": "Cooke Town",
         "rawType": "bool",
         "type": "boolean"
        },
        {
         "name": "Cox Town",
         "rawType": "bool",
         "type": "boolean"
        },
        {
         "name": "Cunningham Road",
         "rawType": "bool",
         "type": "boolean"
        },
        {
         "name": "Dasanapura",
         "rawType": "bool",
         "type": "boolean"
        },
        {
         "name": "Dasarahalli",
         "rawType": "bool",
         "type": "boolean"
        },
        {
         "name": "Devanahalli",
         "rawType": "bool",
         "type": "boolean"
        },
        {
         "name": "Devarachikkanahalli",
         "rawType": "bool",
         "type": "boolean"
        },
        {
         "name": "Dodda Nekkundi",
         "rawType": "bool",
         "type": "boolean"
        },
        {
         "name": "Doddaballapur",
         "rawType": "bool",
         "type": "boolean"
        },
        {
         "name": "Doddakallasandra",
         "rawType": "bool",
         "type": "boolean"
        },
        {
         "name": "Doddathoguru",
         "rawType": "bool",
         "type": "boolean"
        },
        {
         "name": "Domlur",
         "rawType": "bool",
         "type": "boolean"
        },
        {
         "name": "Dommasandra",
         "rawType": "bool",
         "type": "boolean"
        },
        {
         "name": "EPIP Zone",
         "rawType": "bool",
         "type": "boolean"
        },
        {
         "name": "Electronic City",
         "rawType": "bool",
         "type": "boolean"
        },
        {
         "name": "Electronic City Phase II",
         "rawType": "bool",
         "type": "boolean"
        },
        {
         "name": "Electronics City Phase 1",
         "rawType": "bool",
         "type": "boolean"
        },
        {
         "name": "Frazer Town",
         "rawType": "bool",
         "type": "boolean"
        },
        {
         "name": "GM Palaya",
         "rawType": "bool",
         "type": "boolean"
        },
        {
         "name": "Garudachar Palya",
         "rawType": "bool",
         "type": "boolean"
        },
        {
         "name": "Giri Nagar",
         "rawType": "bool",
         "type": "boolean"
        },
        {
         "name": "Gollarapalya Hosahalli",
         "rawType": "bool",
         "type": "boolean"
        },
        {
         "name": "Gottigere",
         "rawType": "bool",
         "type": "boolean"
        },
        {
         "name": "Green Glen Layout",
         "rawType": "bool",
         "type": "boolean"
        },
        {
         "name": "Gubbalala",
         "rawType": "bool",
         "type": "boolean"
        },
        {
         "name": "Gunjur",
         "rawType": "bool",
         "type": "boolean"
        },
        {
         "name": "HAL 2nd Stage",
         "rawType": "bool",
         "type": "boolean"
        },
        {
         "name": "HBR Layout",
         "rawType": "bool",
         "type": "boolean"
        },
        {
         "name": "HRBR Layout",
         "rawType": "bool",
         "type": "boolean"
        },
        {
         "name": "HSR Layout",
         "rawType": "bool",
         "type": "boolean"
        },
        {
         "name": "Haralur Road",
         "rawType": "bool",
         "type": "boolean"
        },
        {
         "name": "Harlur",
         "rawType": "bool",
         "type": "boolean"
        },
        {
         "name": "Hebbal",
         "rawType": "bool",
         "type": "boolean"
        },
        {
         "name": "Hebbal Kempapura",
         "rawType": "bool",
         "type": "boolean"
        },
        {
         "name": "Hegde Nagar",
         "rawType": "bool",
         "type": "boolean"
        },
        {
         "name": "Hennur",
         "rawType": "bool",
         "type": "boolean"
        },
        {
         "name": "Hennur Road",
         "rawType": "bool",
         "type": "boolean"
        },
        {
         "name": "Hoodi",
         "rawType": "bool",
         "type": "boolean"
        },
        {
         "name": "Horamavu Agara",
         "rawType": "bool",
         "type": "boolean"
        },
        {
         "name": "Horamavu Banaswadi",
         "rawType": "bool",
         "type": "boolean"
        },
        {
         "name": "Hormavu",
         "rawType": "bool",
         "type": "boolean"
        },
        {
         "name": "Hosa Road",
         "rawType": "bool",
         "type": "boolean"
        },
        {
         "name": "Hosakerehalli",
         "rawType": "bool",
         "type": "boolean"
        },
        {
         "name": "Hoskote",
         "rawType": "bool",
         "type": "boolean"
        },
        {
         "name": "Hosur Road",
         "rawType": "bool",
         "type": "boolean"
        },
        {
         "name": "Hulimavu",
         "rawType": "bool",
         "type": "boolean"
        },
        {
         "name": "ISRO Layout",
         "rawType": "bool",
         "type": "boolean"
        },
        {
         "name": "ITPL",
         "rawType": "bool",
         "type": "boolean"
        },
        {
         "name": "Iblur Village",
         "rawType": "bool",
         "type": "boolean"
        },
        {
         "name": "Indira Nagar",
         "rawType": "bool",
         "type": "boolean"
        },
        {
         "name": "JP Nagar",
         "rawType": "bool",
         "type": "boolean"
        },
        {
         "name": "Jakkur",
         "rawType": "bool",
         "type": "boolean"
        },
        {
         "name": "Jalahalli",
         "rawType": "bool",
         "type": "boolean"
        },
        {
         "name": "Jalahalli East",
         "rawType": "bool",
         "type": "boolean"
        },
        {
         "name": "Jigani",
         "rawType": "bool",
         "type": "boolean"
        },
        {
         "name": "Judicial Layout",
         "rawType": "bool",
         "type": "boolean"
        },
        {
         "name": "KR Puram",
         "rawType": "bool",
         "type": "boolean"
        },
        {
         "name": "Kadubeesanahalli",
         "rawType": "bool",
         "type": "boolean"
        },
        {
         "name": "Kadugodi",
         "rawType": "bool",
         "type": "boolean"
        },
        {
         "name": "Kaggadasapura",
         "rawType": "bool",
         "type": "boolean"
        },
        {
         "name": "Kaggalipura",
         "rawType": "bool",
         "type": "boolean"
        },
        {
         "name": "Kaikondrahalli",
         "rawType": "bool",
         "type": "boolean"
        },
        {
         "name": "Kalena Agrahara",
         "rawType": "bool",
         "type": "boolean"
        },
        {
         "name": "Kalyan nagar",
         "rawType": "bool",
         "type": "boolean"
        },
        {
         "name": "Kambipura",
         "rawType": "bool",
         "type": "boolean"
        },
        {
         "name": "Kammanahalli",
         "rawType": "bool",
         "type": "boolean"
        },
        {
         "name": "Kammasandra",
         "rawType": "bool",
         "type": "boolean"
        },
        {
         "name": "Kanakapura",
         "rawType": "bool",
         "type": "boolean"
        },
        {
         "name": "Kanakpura Road",
         "rawType": "bool",
         "type": "boolean"
        },
        {
         "name": "Kannamangala",
         "rawType": "bool",
         "type": "boolean"
        },
        {
         "name": "Karuna Nagar",
         "rawType": "bool",
         "type": "boolean"
        },
        {
         "name": "Kasavanhalli",
         "rawType": "bool",
         "type": "boolean"
        },
        {
         "name": "Kasturi Nagar",
         "rawType": "bool",
         "type": "boolean"
        },
        {
         "name": "Kathriguppe",
         "rawType": "bool",
         "type": "boolean"
        },
        {
         "name": "Kaval Byrasandra",
         "rawType": "bool",
         "type": "boolean"
        },
        {
         "name": "Kenchenahalli",
         "rawType": "bool",
         "type": "boolean"
        },
        {
         "name": "Kengeri",
         "rawType": "bool",
         "type": "boolean"
        },
        {
         "name": "Kengeri Satellite Town",
         "rawType": "bool",
         "type": "boolean"
        },
        {
         "name": "Kereguddadahalli",
         "rawType": "bool",
         "type": "boolean"
        },
        {
         "name": "Kodichikkanahalli",
         "rawType": "bool",
         "type": "boolean"
        },
        {
         "name": "Kodigehaali",
         "rawType": "bool",
         "type": "boolean"
        },
        {
         "name": "Kodigehalli",
         "rawType": "bool",
         "type": "boolean"
        },
        {
         "name": "Kodihalli",
         "rawType": "bool",
         "type": "boolean"
        },
        {
         "name": "Kogilu",
         "rawType": "bool",
         "type": "boolean"
        },
        {
         "name": "Konanakunte",
         "rawType": "bool",
         "type": "boolean"
        },
        {
         "name": "Koramangala",
         "rawType": "bool",
         "type": "boolean"
        },
        {
         "name": "Kothannur",
         "rawType": "bool",
         "type": "boolean"
        },
        {
         "name": "Kothanur",
         "rawType": "bool",
         "type": "boolean"
        },
        {
         "name": "Kudlu",
         "rawType": "bool",
         "type": "boolean"
        },
        {
         "name": "Kudlu Gate",
         "rawType": "bool",
         "type": "boolean"
        },
        {
         "name": "Kumaraswami Layout",
         "rawType": "bool",
         "type": "boolean"
        },
        {
         "name": "Kundalahalli",
         "rawType": "bool",
         "type": "boolean"
        },
        {
         "name": "LB Shastri Nagar",
         "rawType": "bool",
         "type": "boolean"
        },
        {
         "name": "Laggere",
         "rawType": "bool",
         "type": "boolean"
        },
        {
         "name": "Lakshminarayana Pura",
         "rawType": "bool",
         "type": "boolean"
        },
        {
         "name": "Lingadheeranahalli",
         "rawType": "bool",
         "type": "boolean"
        },
        {
         "name": "Magadi Road",
         "rawType": "bool",
         "type": "boolean"
        },
        {
         "name": "Mahadevpura",
         "rawType": "bool",
         "type": "boolean"
        },
        {
         "name": "Mahalakshmi Layout",
         "rawType": "bool",
         "type": "boolean"
        },
        {
         "name": "Mallasandra",
         "rawType": "bool",
         "type": "boolean"
        },
        {
         "name": "Malleshpalya",
         "rawType": "bool",
         "type": "boolean"
        },
        {
         "name": "Malleshwaram",
         "rawType": "bool",
         "type": "boolean"
        },
        {
         "name": "Marathahalli",
         "rawType": "bool",
         "type": "boolean"
        },
        {
         "name": "Margondanahalli",
         "rawType": "bool",
         "type": "boolean"
        },
        {
         "name": "Marsur",
         "rawType": "bool",
         "type": "boolean"
        },
        {
         "name": "Mico Layout",
         "rawType": "bool",
         "type": "boolean"
        },
        {
         "name": "Munnekollal",
         "rawType": "bool",
         "type": "boolean"
        },
        {
         "name": "Murugeshpalya",
         "rawType": "bool",
         "type": "boolean"
        },
        {
         "name": "Mysore Road",
         "rawType": "bool",
         "type": "boolean"
        },
        {
         "name": "NGR Layout",
         "rawType": "bool",
         "type": "boolean"
        },
        {
         "name": "NRI Layout",
         "rawType": "bool",
         "type": "boolean"
        },
        {
         "name": "Nagarbhavi",
         "rawType": "bool",
         "type": "boolean"
        },
        {
         "name": "Nagasandra",
         "rawType": "bool",
         "type": "boolean"
        },
        {
         "name": "Nagavara",
         "rawType": "bool",
         "type": "boolean"
        },
        {
         "name": "Nagavarapalya",
         "rawType": "bool",
         "type": "boolean"
        },
        {
         "name": "Narayanapura",
         "rawType": "bool",
         "type": "boolean"
        },
        {
         "name": "Neeladri Nagar",
         "rawType": "bool",
         "type": "boolean"
        },
        {
         "name": "Nehru Nagar",
         "rawType": "bool",
         "type": "boolean"
        },
        {
         "name": "OMBR Layout",
         "rawType": "bool",
         "type": "boolean"
        },
        {
         "name": "Old Airport Road",
         "rawType": "bool",
         "type": "boolean"
        },
        {
         "name": "Old Madras Road",
         "rawType": "bool",
         "type": "boolean"
        },
        {
         "name": "Padmanabhanagar",
         "rawType": "bool",
         "type": "boolean"
        },
        {
         "name": "Pai Layout",
         "rawType": "bool",
         "type": "boolean"
        },
        {
         "name": "Panathur",
         "rawType": "bool",
         "type": "boolean"
        },
        {
         "name": "Parappana Agrahara",
         "rawType": "bool",
         "type": "boolean"
        },
        {
         "name": "Pattandur Agrahara",
         "rawType": "bool",
         "type": "boolean"
        },
        {
         "name": "Poorna Pragna Layout",
         "rawType": "bool",
         "type": "boolean"
        },
        {
         "name": "Prithvi Layout",
         "rawType": "bool",
         "type": "boolean"
        },
        {
         "name": "R.T. Nagar",
         "rawType": "bool",
         "type": "boolean"
        },
        {
         "name": "Rachenahalli",
         "rawType": "bool",
         "type": "boolean"
        },
        {
         "name": "Raja Rajeshwari Nagar",
         "rawType": "bool",
         "type": "boolean"
        },
        {
         "name": "Rajaji Nagar",
         "rawType": "bool",
         "type": "boolean"
        },
        {
         "name": "Rajiv Nagar",
         "rawType": "bool",
         "type": "boolean"
        },
        {
         "name": "Ramagondanahalli",
         "rawType": "bool",
         "type": "boolean"
        },
        {
         "name": "Ramamurthy Nagar",
         "rawType": "bool",
         "type": "boolean"
        },
        {
         "name": "Rayasandra",
         "rawType": "bool",
         "type": "boolean"
        },
        {
         "name": "Sahakara Nagar",
         "rawType": "bool",
         "type": "boolean"
        },
        {
         "name": "Sanjay nagar",
         "rawType": "bool",
         "type": "boolean"
        },
        {
         "name": "Sarakki Nagar",
         "rawType": "bool",
         "type": "boolean"
        },
        {
         "name": "Sarjapur",
         "rawType": "bool",
         "type": "boolean"
        },
        {
         "name": "Sarjapur  Road",
         "rawType": "bool",
         "type": "boolean"
        },
        {
         "name": "Sarjapura - Attibele Road",
         "rawType": "bool",
         "type": "boolean"
        },
        {
         "name": "Sector 2 HSR Layout",
         "rawType": "bool",
         "type": "boolean"
        },
        {
         "name": "Sector 7 HSR Layout",
         "rawType": "bool",
         "type": "boolean"
        },
        {
         "name": "Seegehalli",
         "rawType": "bool",
         "type": "boolean"
        },
        {
         "name": "Shampura",
         "rawType": "bool",
         "type": "boolean"
        },
        {
         "name": "Shivaji Nagar",
         "rawType": "bool",
         "type": "boolean"
        },
        {
         "name": "Singasandra",
         "rawType": "bool",
         "type": "boolean"
        },
        {
         "name": "Somasundara Palya",
         "rawType": "bool",
         "type": "boolean"
        },
        {
         "name": "Sompura",
         "rawType": "bool",
         "type": "boolean"
        },
        {
         "name": "Sonnenahalli",
         "rawType": "bool",
         "type": "boolean"
        },
        {
         "name": "Subramanyapura",
         "rawType": "bool",
         "type": "boolean"
        },
        {
         "name": "Sultan Palaya",
         "rawType": "bool",
         "type": "boolean"
        },
        {
         "name": "TC Palaya",
         "rawType": "bool",
         "type": "boolean"
        },
        {
         "name": "Talaghattapura",
         "rawType": "bool",
         "type": "boolean"
        },
        {
         "name": "Thanisandra",
         "rawType": "bool",
         "type": "boolean"
        },
        {
         "name": "Thigalarapalya",
         "rawType": "bool",
         "type": "boolean"
        },
        {
         "name": "Thubarahalli",
         "rawType": "bool",
         "type": "boolean"
        },
        {
         "name": "Tindlu",
         "rawType": "bool",
         "type": "boolean"
        },
        {
         "name": "Tumkur Road",
         "rawType": "bool",
         "type": "boolean"
        },
        {
         "name": "Ulsoor",
         "rawType": "bool",
         "type": "boolean"
        },
        {
         "name": "Uttarahalli",
         "rawType": "bool",
         "type": "boolean"
        },
        {
         "name": "Varthur",
         "rawType": "bool",
         "type": "boolean"
        },
        {
         "name": "Varthur Road",
         "rawType": "bool",
         "type": "boolean"
        },
        {
         "name": "Vasanthapura",
         "rawType": "bool",
         "type": "boolean"
        },
        {
         "name": "Vidyaranyapura",
         "rawType": "bool",
         "type": "boolean"
        },
        {
         "name": "Vijayanagar",
         "rawType": "bool",
         "type": "boolean"
        },
        {
         "name": "Vishveshwarya Layout",
         "rawType": "bool",
         "type": "boolean"
        },
        {
         "name": "Vishwapriya Layout",
         "rawType": "bool",
         "type": "boolean"
        },
        {
         "name": "Vittasandra",
         "rawType": "bool",
         "type": "boolean"
        },
        {
         "name": "Whitefield",
         "rawType": "bool",
         "type": "boolean"
        },
        {
         "name": "Yelachenahalli",
         "rawType": "bool",
         "type": "boolean"
        },
        {
         "name": "Yelahanka",
         "rawType": "bool",
         "type": "boolean"
        },
        {
         "name": "Yelahanka New Town",
         "rawType": "bool",
         "type": "boolean"
        },
        {
         "name": "Yelenahalli",
         "rawType": "bool",
         "type": "boolean"
        },
        {
         "name": "Yeshwanthpur",
         "rawType": "bool",
         "type": "boolean"
        }
       ],
       "ref": "d172d657-986c-4a61-91f4-5ad2ff93430f",
       "rows": [
        [
         "0",
         "1st Block Jayanagar",
         "2850.0",
         "4.0",
         "428.0",
         "4",
         "True",
         "False",
         "False",
         "False",
         "False",
         "False",
         "False",
         "False",
         "False",
         "False",
         "False",
         "False",
         "False",
         "False",
         "False",
         "False",
         "False",
         "False",
         "False",
         "False",
         "False",
         "False",
         "False",
         "False",
         "False",
         "False",
         "False",
         "False",
         "False",
         "False",
         "False",
         "False",
         "False",
         "False",
         "False",
         "False",
         "False",
         "False",
         "False",
         "False",
         "False",
         "False",
         "False",
         "False",
         "False",
         "False",
         "False",
         "False",
         "False",
         "False",
         "False",
         "False",
         "False",
         "False",
         "False",
         "False",
         "False",
         "False",
         "False",
         "False",
         "False",
         "False",
         "False",
         "False",
         "False",
         "False",
         "False",
         "False",
         "False",
         "False",
         "False",
         "False",
         "False",
         "False",
         "False",
         "False",
         "False",
         "False",
         "False",
         "False",
         "False",
         "False",
         "False",
         "False",
         "False",
         "False",
         "False",
         "False",
         "False",
         "False",
         "False",
         "False",
         "False",
         "False",
         "False",
         "False",
         "False",
         "False",
         "False",
         "False",
         "False",
         "False",
         "False",
         "False",
         "False",
         "False",
         "False",
         "False",
         "False",
         "False",
         "False",
         "False",
         "False",
         "False",
         "False",
         "False",
         "False",
         "False",
         "False",
         "False",
         "False",
         "False",
         "False",
         "False",
         "False",
         "False",
         "False",
         "False",
         "False",
         "False",
         "False",
         "False",
         "False",
         "False",
         "False",
         "False",
         "False",
         "False",
         "False",
         "False",
         "False",
         "False",
         "False",
         "False",
         "False",
         "False",
         "False",
         "False",
         "False",
         "False",
         "False",
         "False",
         "False",
         "False",
         "False",
         "False",
         "False",
         "False",
         "False",
         "False",
         "False",
         "False",
         "False",
         "False",
         "False",
         "False",
         "False",
         "False",
         "False",
         "False",
         "False",
         "False",
         "False",
         "False",
         "False",
         "False",
         "False",
         "False",
         "False",
         "False",
         "False",
         "False",
         "False",
         "False",
         "False",
         "False",
         "False",
         "False",
         "False",
         "False",
         "False",
         "False",
         "False",
         "False",
         "False",
         "False",
         "False",
         "False",
         "False",
         "False",
         "False",
         "False",
         "False",
         "False",
         "False",
         "False",
         "False",
         "False",
         "False",
         "False",
         "False",
         "False",
         "False",
         "False",
         "False",
         "False",
         "False",
         "False",
         "False",
         "False",
         "False",
         "False",
         "False",
         "False",
         "False",
         "False",
         "False",
         "False",
         "False",
         "False",
         "False",
         "False",
         "False",
         "False",
         "False",
         "False",
         "False",
         "False",
         "False",
         "False"
        ],
        [
         "1",
         "1st Block Jayanagar",
         "1630.0",
         "3.0",
         "194.0",
         "3",
         "True",
         "False",
         "False",
         "False",
         "False",
         "False",
         "False",
         "False",
         "False",
         "False",
         "False",
         "False",
         "False",
         "False",
         "False",
         "False",
         "False",
         "False",
         "False",
         "False",
         "False",
         "False",
         "False",
         "False",
         "False",
         "False",
         "False",
         "False",
         "False",
         "False",
         "False",
         "False",
         "False",
         "False",
         "False",
         "False",
         "False",
         "False",
         "False",
         "False",
         "False",
         "False",
         "False",
         "False",
         "False",
         "False",
         "False",
         "False",
         "False",
         "False",
         "False",
         "False",
         "False",
         "False",
         "False",
         "False",
         "False",
         "False",
         "False",
         "False",
         "False",
         "False",
         "False",
         "False",
         "False",
         "False",
         "False",
         "False",
         "False",
         "False",
         "False",
         "False",
         "False",
         "False",
         "False",
         "False",
         "False",
         "False",
         "False",
         "False",
         "False",
         "False",
         "False",
         "False",
         "False",
         "False",
         "False",
         "False",
         "False",
         "False",
         "False",
         "False",
         "False",
         "False",
         "False",
         "False",
         "False",
         "False",
         "False",
         "False",
         "False",
         "False",
         "False",
         "False",
         "False",
         "False",
         "False",
         "False",
         "False",
         "False",
         "False",
         "False",
         "False",
         "False",
         "False",
         "False",
         "False",
         "False",
         "False",
         "False",
         "False",
         "False",
         "False",
         "False",
         "False",
         "False",
         "False",
         "False",
         "False",
         "False",
         "False",
         "False",
         "False",
         "False",
         "False",
         "False",
         "False",
         "False",
         "False",
         "False",
         "False",
         "False",
         "False",
         "False",
         "False",
         "False",
         "False",
         "False",
         "False",
         "False",
         "False",
         "False",
         "False",
         "False",
         "False",
         "False",
         "False",
         "False",
         "False",
         "False",
         "False",
         "False",
         "False",
         "False",
         "False",
         "False",
         "False",
         "False",
         "False",
         "False",
         "False",
         "False",
         "False",
         "False",
         "False",
         "False",
         "False",
         "False",
         "False",
         "False",
         "False",
         "False",
         "False",
         "False",
         "False",
         "False",
         "False",
         "False",
         "False",
         "False",
         "False",
         "False",
         "False",
         "False",
         "False",
         "False",
         "False",
         "False",
         "False",
         "False",
         "False",
         "False",
         "False",
         "False",
         "False",
         "False",
         "False",
         "False",
         "False",
         "False",
         "False",
         "False",
         "False",
         "False",
         "False",
         "False",
         "False",
         "False",
         "False",
         "False",
         "False",
         "False",
         "False",
         "False",
         "False",
         "False",
         "False",
         "False",
         "False",
         "False",
         "False",
         "False",
         "False",
         "False",
         "False",
         "False",
         "False",
         "False",
         "False",
         "False"
        ],
        [
         "2",
         "1st Block Jayanagar",
         "1875.0",
         "2.0",
         "235.0",
         "3",
         "True",
         "False",
         "False",
         "False",
         "False",
         "False",
         "False",
         "False",
         "False",
         "False",
         "False",
         "False",
         "False",
         "False",
         "False",
         "False",
         "False",
         "False",
         "False",
         "False",
         "False",
         "False",
         "False",
         "False",
         "False",
         "False",
         "False",
         "False",
         "False",
         "False",
         "False",
         "False",
         "False",
         "False",
         "False",
         "False",
         "False",
         "False",
         "False",
         "False",
         "False",
         "False",
         "False",
         "False",
         "False",
         "False",
         "False",
         "False",
         "False",
         "False",
         "False",
         "False",
         "False",
         "False",
         "False",
         "False",
         "False",
         "False",
         "False",
         "False",
         "False",
         "False",
         "False",
         "False",
         "False",
         "False",
         "False",
         "False",
         "False",
         "False",
         "False",
         "False",
         "False",
         "False",
         "False",
         "False",
         "False",
         "False",
         "False",
         "False",
         "False",
         "False",
         "False",
         "False",
         "False",
         "False",
         "False",
         "False",
         "False",
         "False",
         "False",
         "False",
         "False",
         "False",
         "False",
         "False",
         "False",
         "False",
         "False",
         "False",
         "False",
         "False",
         "False",
         "False",
         "False",
         "False",
         "False",
         "False",
         "False",
         "False",
         "False",
         "False",
         "False",
         "False",
         "False",
         "False",
         "False",
         "False",
         "False",
         "False",
         "False",
         "False",
         "False",
         "False",
         "False",
         "False",
         "False",
         "False",
         "False",
         "False",
         "False",
         "False",
         "False",
         "False",
         "False",
         "False",
         "False",
         "False",
         "False",
         "False",
         "False",
         "False",
         "False",
         "False",
         "False",
         "False",
         "False",
         "False",
         "False",
         "False",
         "False",
         "False",
         "False",
         "False",
         "False",
         "False",
         "False",
         "False",
         "False",
         "False",
         "False",
         "False",
         "False",
         "False",
         "False",
         "False",
         "False",
         "False",
         "False",
         "False",
         "False",
         "False",
         "False",
         "False",
         "False",
         "False",
         "False",
         "False",
         "False",
         "False",
         "False",
         "False",
         "False",
         "False",
         "False",
         "False",
         "False",
         "False",
         "False",
         "False",
         "False",
         "False",
         "False",
         "False",
         "False",
         "False",
         "False",
         "False",
         "False",
         "False",
         "False",
         "False",
         "False",
         "False",
         "False",
         "False",
         "False",
         "False",
         "False",
         "False",
         "False",
         "False",
         "False",
         "False",
         "False",
         "False",
         "False",
         "False",
         "False",
         "False",
         "False",
         "False",
         "False",
         "False",
         "False",
         "False",
         "False",
         "False",
         "False",
         "False",
         "False",
         "False",
         "False",
         "False",
         "False",
         "False",
         "False",
         "False",
         "False",
         "False"
        ],
        [
         "3",
         "1st Block Jayanagar",
         "1200.0",
         "2.0",
         "130.0",
         "3",
         "True",
         "False",
         "False",
         "False",
         "False",
         "False",
         "False",
         "False",
         "False",
         "False",
         "False",
         "False",
         "False",
         "False",
         "False",
         "False",
         "False",
         "False",
         "False",
         "False",
         "False",
         "False",
         "False",
         "False",
         "False",
         "False",
         "False",
         "False",
         "False",
         "False",
         "False",
         "False",
         "False",
         "False",
         "False",
         "False",
         "False",
         "False",
         "False",
         "False",
         "False",
         "False",
         "False",
         "False",
         "False",
         "False",
         "False",
         "False",
         "False",
         "False",
         "False",
         "False",
         "False",
         "False",
         "False",
         "False",
         "False",
         "False",
         "False",
         "False",
         "False",
         "False",
         "False",
         "False",
         "False",
         "False",
         "False",
         "False",
         "False",
         "False",
         "False",
         "False",
         "False",
         "False",
         "False",
         "False",
         "False",
         "False",
         "False",
         "False",
         "False",
         "False",
         "False",
         "False",
         "False",
         "False",
         "False",
         "False",
         "False",
         "False",
         "False",
         "False",
         "False",
         "False",
         "False",
         "False",
         "False",
         "False",
         "False",
         "False",
         "False",
         "False",
         "False",
         "False",
         "False",
         "False",
         "False",
         "False",
         "False",
         "False",
         "False",
         "False",
         "False",
         "False",
         "False",
         "False",
         "False",
         "False",
         "False",
         "False",
         "False",
         "False",
         "False",
         "False",
         "False",
         "False",
         "False",
         "False",
         "False",
         "False",
         "False",
         "False",
         "False",
         "False",
         "False",
         "False",
         "False",
         "False",
         "False",
         "False",
         "False",
         "False",
         "False",
         "False",
         "False",
         "False",
         "False",
         "False",
         "False",
         "False",
         "False",
         "False",
         "False",
         "False",
         "False",
         "False",
         "False",
         "False",
         "False",
         "False",
         "False",
         "False",
         "False",
         "False",
         "False",
         "False",
         "False",
         "False",
         "False",
         "False",
         "False",
         "False",
         "False",
         "False",
         "False",
         "False",
         "False",
         "False",
         "False",
         "False",
         "False",
         "False",
         "False",
         "False",
         "False",
         "False",
         "False",
         "False",
         "False",
         "False",
         "False",
         "False",
         "False",
         "False",
         "False",
         "False",
         "False",
         "False",
         "False",
         "False",
         "False",
         "False",
         "False",
         "False",
         "False",
         "False",
         "False",
         "False",
         "False",
         "False",
         "False",
         "False",
         "False",
         "False",
         "False",
         "False",
         "False",
         "False",
         "False",
         "False",
         "False",
         "False",
         "False",
         "False",
         "False",
         "False",
         "False",
         "False",
         "False",
         "False",
         "False",
         "False",
         "False",
         "False",
         "False",
         "False",
         "False",
         "False",
         "False",
         "False"
        ],
        [
         "4",
         "1st Block Jayanagar",
         "1235.0",
         "2.0",
         "148.0",
         "2",
         "True",
         "False",
         "False",
         "False",
         "False",
         "False",
         "False",
         "False",
         "False",
         "False",
         "False",
         "False",
         "False",
         "False",
         "False",
         "False",
         "False",
         "False",
         "False",
         "False",
         "False",
         "False",
         "False",
         "False",
         "False",
         "False",
         "False",
         "False",
         "False",
         "False",
         "False",
         "False",
         "False",
         "False",
         "False",
         "False",
         "False",
         "False",
         "False",
         "False",
         "False",
         "False",
         "False",
         "False",
         "False",
         "False",
         "False",
         "False",
         "False",
         "False",
         "False",
         "False",
         "False",
         "False",
         "False",
         "False",
         "False",
         "False",
         "False",
         "False",
         "False",
         "False",
         "False",
         "False",
         "False",
         "False",
         "False",
         "False",
         "False",
         "False",
         "False",
         "False",
         "False",
         "False",
         "False",
         "False",
         "False",
         "False",
         "False",
         "False",
         "False",
         "False",
         "False",
         "False",
         "False",
         "False",
         "False",
         "False",
         "False",
         "False",
         "False",
         "False",
         "False",
         "False",
         "False",
         "False",
         "False",
         "False",
         "False",
         "False",
         "False",
         "False",
         "False",
         "False",
         "False",
         "False",
         "False",
         "False",
         "False",
         "False",
         "False",
         "False",
         "False",
         "False",
         "False",
         "False",
         "False",
         "False",
         "False",
         "False",
         "False",
         "False",
         "False",
         "False",
         "False",
         "False",
         "False",
         "False",
         "False",
         "False",
         "False",
         "False",
         "False",
         "False",
         "False",
         "False",
         "False",
         "False",
         "False",
         "False",
         "False",
         "False",
         "False",
         "False",
         "False",
         "False",
         "False",
         "False",
         "False",
         "False",
         "False",
         "False",
         "False",
         "False",
         "False",
         "False",
         "False",
         "False",
         "False",
         "False",
         "False",
         "False",
         "False",
         "False",
         "False",
         "False",
         "False",
         "False",
         "False",
         "False",
         "False",
         "False",
         "False",
         "False",
         "False",
         "False",
         "False",
         "False",
         "False",
         "False",
         "False",
         "False",
         "False",
         "False",
         "False",
         "False",
         "False",
         "False",
         "False",
         "False",
         "False",
         "False",
         "False",
         "False",
         "False",
         "False",
         "False",
         "False",
         "False",
         "False",
         "False",
         "False",
         "False",
         "False",
         "False",
         "False",
         "False",
         "False",
         "False",
         "False",
         "False",
         "False",
         "False",
         "False",
         "False",
         "False",
         "False",
         "False",
         "False",
         "False",
         "False",
         "False",
         "False",
         "False",
         "False",
         "False",
         "False",
         "False",
         "False",
         "False",
         "False",
         "False",
         "False",
         "False",
         "False",
         "False",
         "False",
         "False",
         "False",
         "False"
        ]
       ],
       "shape": {
        "columns": 245,
        "rows": 5
       }
      },
      "text/html": [
       "<div>\n",
       "<style scoped>\n",
       "    .dataframe tbody tr th:only-of-type {\n",
       "        vertical-align: middle;\n",
       "    }\n",
       "\n",
       "    .dataframe tbody tr th {\n",
       "        vertical-align: top;\n",
       "    }\n",
       "\n",
       "    .dataframe thead th {\n",
       "        text-align: right;\n",
       "    }\n",
       "</style>\n",
       "<table border=\"1\" class=\"dataframe\">\n",
       "  <thead>\n",
       "    <tr style=\"text-align: right;\">\n",
       "      <th></th>\n",
       "      <th>location</th>\n",
       "      <th>total_sqft</th>\n",
       "      <th>bath</th>\n",
       "      <th>price</th>\n",
       "      <th>bhk</th>\n",
       "      <th>1st Block Jayanagar</th>\n",
       "      <th>1st Phase JP Nagar</th>\n",
       "      <th>2nd Phase Judicial Layout</th>\n",
       "      <th>2nd Stage Nagarbhavi</th>\n",
       "      <th>5th Block Hbr Layout</th>\n",
       "      <th>...</th>\n",
       "      <th>Vijayanagar</th>\n",
       "      <th>Vishveshwarya Layout</th>\n",
       "      <th>Vishwapriya Layout</th>\n",
       "      <th>Vittasandra</th>\n",
       "      <th>Whitefield</th>\n",
       "      <th>Yelachenahalli</th>\n",
       "      <th>Yelahanka</th>\n",
       "      <th>Yelahanka New Town</th>\n",
       "      <th>Yelenahalli</th>\n",
       "      <th>Yeshwanthpur</th>\n",
       "    </tr>\n",
       "  </thead>\n",
       "  <tbody>\n",
       "    <tr>\n",
       "      <th>0</th>\n",
       "      <td>1st Block Jayanagar</td>\n",
       "      <td>2850.0</td>\n",
       "      <td>4.0</td>\n",
       "      <td>428.0</td>\n",
       "      <td>4</td>\n",
       "      <td>True</td>\n",
       "      <td>False</td>\n",
       "      <td>False</td>\n",
       "      <td>False</td>\n",
       "      <td>False</td>\n",
       "      <td>...</td>\n",
       "      <td>False</td>\n",
       "      <td>False</td>\n",
       "      <td>False</td>\n",
       "      <td>False</td>\n",
       "      <td>False</td>\n",
       "      <td>False</td>\n",
       "      <td>False</td>\n",
       "      <td>False</td>\n",
       "      <td>False</td>\n",
       "      <td>False</td>\n",
       "    </tr>\n",
       "    <tr>\n",
       "      <th>1</th>\n",
       "      <td>1st Block Jayanagar</td>\n",
       "      <td>1630.0</td>\n",
       "      <td>3.0</td>\n",
       "      <td>194.0</td>\n",
       "      <td>3</td>\n",
       "      <td>True</td>\n",
       "      <td>False</td>\n",
       "      <td>False</td>\n",
       "      <td>False</td>\n",
       "      <td>False</td>\n",
       "      <td>...</td>\n",
       "      <td>False</td>\n",
       "      <td>False</td>\n",
       "      <td>False</td>\n",
       "      <td>False</td>\n",
       "      <td>False</td>\n",
       "      <td>False</td>\n",
       "      <td>False</td>\n",
       "      <td>False</td>\n",
       "      <td>False</td>\n",
       "      <td>False</td>\n",
       "    </tr>\n",
       "    <tr>\n",
       "      <th>2</th>\n",
       "      <td>1st Block Jayanagar</td>\n",
       "      <td>1875.0</td>\n",
       "      <td>2.0</td>\n",
       "      <td>235.0</td>\n",
       "      <td>3</td>\n",
       "      <td>True</td>\n",
       "      <td>False</td>\n",
       "      <td>False</td>\n",
       "      <td>False</td>\n",
       "      <td>False</td>\n",
       "      <td>...</td>\n",
       "      <td>False</td>\n",
       "      <td>False</td>\n",
       "      <td>False</td>\n",
       "      <td>False</td>\n",
       "      <td>False</td>\n",
       "      <td>False</td>\n",
       "      <td>False</td>\n",
       "      <td>False</td>\n",
       "      <td>False</td>\n",
       "      <td>False</td>\n",
       "    </tr>\n",
       "    <tr>\n",
       "      <th>3</th>\n",
       "      <td>1st Block Jayanagar</td>\n",
       "      <td>1200.0</td>\n",
       "      <td>2.0</td>\n",
       "      <td>130.0</td>\n",
       "      <td>3</td>\n",
       "      <td>True</td>\n",
       "      <td>False</td>\n",
       "      <td>False</td>\n",
       "      <td>False</td>\n",
       "      <td>False</td>\n",
       "      <td>...</td>\n",
       "      <td>False</td>\n",
       "      <td>False</td>\n",
       "      <td>False</td>\n",
       "      <td>False</td>\n",
       "      <td>False</td>\n",
       "      <td>False</td>\n",
       "      <td>False</td>\n",
       "      <td>False</td>\n",
       "      <td>False</td>\n",
       "      <td>False</td>\n",
       "    </tr>\n",
       "    <tr>\n",
       "      <th>4</th>\n",
       "      <td>1st Block Jayanagar</td>\n",
       "      <td>1235.0</td>\n",
       "      <td>2.0</td>\n",
       "      <td>148.0</td>\n",
       "      <td>2</td>\n",
       "      <td>True</td>\n",
       "      <td>False</td>\n",
       "      <td>False</td>\n",
       "      <td>False</td>\n",
       "      <td>False</td>\n",
       "      <td>...</td>\n",
       "      <td>False</td>\n",
       "      <td>False</td>\n",
       "      <td>False</td>\n",
       "      <td>False</td>\n",
       "      <td>False</td>\n",
       "      <td>False</td>\n",
       "      <td>False</td>\n",
       "      <td>False</td>\n",
       "      <td>False</td>\n",
       "      <td>False</td>\n",
       "    </tr>\n",
       "  </tbody>\n",
       "</table>\n",
       "<p>5 rows × 245 columns</p>\n",
       "</div>"
      ],
      "text/plain": [
       "              location  total_sqft  bath  price  bhk  1st Block Jayanagar  \\\n",
       "0  1st Block Jayanagar      2850.0   4.0  428.0    4                 True   \n",
       "1  1st Block Jayanagar      1630.0   3.0  194.0    3                 True   \n",
       "2  1st Block Jayanagar      1875.0   2.0  235.0    3                 True   \n",
       "3  1st Block Jayanagar      1200.0   2.0  130.0    3                 True   \n",
       "4  1st Block Jayanagar      1235.0   2.0  148.0    2                 True   \n",
       "\n",
       "   1st Phase JP Nagar  2nd Phase Judicial Layout  2nd Stage Nagarbhavi  \\\n",
       "0               False                      False                 False   \n",
       "1               False                      False                 False   \n",
       "2               False                      False                 False   \n",
       "3               False                      False                 False   \n",
       "4               False                      False                 False   \n",
       "\n",
       "   5th Block Hbr Layout  ...  Vijayanagar  Vishveshwarya Layout  \\\n",
       "0                 False  ...        False                 False   \n",
       "1                 False  ...        False                 False   \n",
       "2                 False  ...        False                 False   \n",
       "3                 False  ...        False                 False   \n",
       "4                 False  ...        False                 False   \n",
       "\n",
       "   Vishwapriya Layout  Vittasandra  Whitefield  Yelachenahalli  Yelahanka  \\\n",
       "0               False        False       False           False      False   \n",
       "1               False        False       False           False      False   \n",
       "2               False        False       False           False      False   \n",
       "3               False        False       False           False      False   \n",
       "4               False        False       False           False      False   \n",
       "\n",
       "   Yelahanka New Town  Yelenahalli  Yeshwanthpur  \n",
       "0               False        False         False  \n",
       "1               False        False         False  \n",
       "2               False        False         False  \n",
       "3               False        False         False  \n",
       "4               False        False         False  \n",
       "\n",
       "[5 rows x 245 columns]"
      ]
     },
     "execution_count": 52,
     "metadata": {},
     "output_type": "execute_result"
    }
   ],
   "source": [
    "df11 = pd.concat([df10,dummies.drop('other',axis='columns')],axis='columns')\n",
    "df11.head()"
   ]
  },
  {
   "cell_type": "code",
   "execution_count": 53,
   "metadata": {},
   "outputs": [
    {
     "data": {
      "application/vnd.microsoft.datawrangler.viewer.v0+json": {
       "columns": [
        {
         "name": "index",
         "rawType": "int64",
         "type": "integer"
        },
        {
         "name": "total_sqft",
         "rawType": "float64",
         "type": "float"
        },
        {
         "name": "bath",
         "rawType": "float64",
         "type": "float"
        },
        {
         "name": "price",
         "rawType": "float64",
         "type": "float"
        },
        {
         "name": "bhk",
         "rawType": "int64",
         "type": "integer"
        },
        {
         "name": "1st Block Jayanagar",
         "rawType": "bool",
         "type": "boolean"
        },
        {
         "name": "1st Phase JP Nagar",
         "rawType": "bool",
         "type": "boolean"
        },
        {
         "name": "2nd Phase Judicial Layout",
         "rawType": "bool",
         "type": "boolean"
        },
        {
         "name": "2nd Stage Nagarbhavi",
         "rawType": "bool",
         "type": "boolean"
        },
        {
         "name": "5th Block Hbr Layout",
         "rawType": "bool",
         "type": "boolean"
        },
        {
         "name": "5th Phase JP Nagar",
         "rawType": "bool",
         "type": "boolean"
        },
        {
         "name": "6th Phase JP Nagar",
         "rawType": "bool",
         "type": "boolean"
        },
        {
         "name": "7th Phase JP Nagar",
         "rawType": "bool",
         "type": "boolean"
        },
        {
         "name": "8th Phase JP Nagar",
         "rawType": "bool",
         "type": "boolean"
        },
        {
         "name": "9th Phase JP Nagar",
         "rawType": "bool",
         "type": "boolean"
        },
        {
         "name": "AECS Layout",
         "rawType": "bool",
         "type": "boolean"
        },
        {
         "name": "Abbigere",
         "rawType": "bool",
         "type": "boolean"
        },
        {
         "name": "Akshaya Nagar",
         "rawType": "bool",
         "type": "boolean"
        },
        {
         "name": "Ambalipura",
         "rawType": "bool",
         "type": "boolean"
        },
        {
         "name": "Ambedkar Nagar",
         "rawType": "bool",
         "type": "boolean"
        },
        {
         "name": "Amruthahalli",
         "rawType": "bool",
         "type": "boolean"
        },
        {
         "name": "Anandapura",
         "rawType": "bool",
         "type": "boolean"
        },
        {
         "name": "Ananth Nagar",
         "rawType": "bool",
         "type": "boolean"
        },
        {
         "name": "Anekal",
         "rawType": "bool",
         "type": "boolean"
        },
        {
         "name": "Anjanapura",
         "rawType": "bool",
         "type": "boolean"
        },
        {
         "name": "Ardendale",
         "rawType": "bool",
         "type": "boolean"
        },
        {
         "name": "Arekere",
         "rawType": "bool",
         "type": "boolean"
        },
        {
         "name": "Attibele",
         "rawType": "bool",
         "type": "boolean"
        },
        {
         "name": "BEML Layout",
         "rawType": "bool",
         "type": "boolean"
        },
        {
         "name": "BTM 2nd Stage",
         "rawType": "bool",
         "type": "boolean"
        },
        {
         "name": "BTM Layout",
         "rawType": "bool",
         "type": "boolean"
        },
        {
         "name": "Babusapalaya",
         "rawType": "bool",
         "type": "boolean"
        },
        {
         "name": "Badavala Nagar",
         "rawType": "bool",
         "type": "boolean"
        },
        {
         "name": "Balagere",
         "rawType": "bool",
         "type": "boolean"
        },
        {
         "name": "Banashankari",
         "rawType": "bool",
         "type": "boolean"
        },
        {
         "name": "Banashankari Stage II",
         "rawType": "bool",
         "type": "boolean"
        },
        {
         "name": "Banashankari Stage III",
         "rawType": "bool",
         "type": "boolean"
        },
        {
         "name": "Banashankari Stage V",
         "rawType": "bool",
         "type": "boolean"
        },
        {
         "name": "Banashankari Stage VI",
         "rawType": "bool",
         "type": "boolean"
        },
        {
         "name": "Banaswadi",
         "rawType": "bool",
         "type": "boolean"
        },
        {
         "name": "Banjara Layout",
         "rawType": "bool",
         "type": "boolean"
        },
        {
         "name": "Bannerghatta",
         "rawType": "bool",
         "type": "boolean"
        },
        {
         "name": "Bannerghatta Road",
         "rawType": "bool",
         "type": "boolean"
        },
        {
         "name": "Basavangudi",
         "rawType": "bool",
         "type": "boolean"
        },
        {
         "name": "Basaveshwara Nagar",
         "rawType": "bool",
         "type": "boolean"
        },
        {
         "name": "Battarahalli",
         "rawType": "bool",
         "type": "boolean"
        },
        {
         "name": "Begur",
         "rawType": "bool",
         "type": "boolean"
        },
        {
         "name": "Begur Road",
         "rawType": "bool",
         "type": "boolean"
        },
        {
         "name": "Bellandur",
         "rawType": "bool",
         "type": "boolean"
        },
        {
         "name": "Benson Town",
         "rawType": "bool",
         "type": "boolean"
        },
        {
         "name": "Bharathi Nagar",
         "rawType": "bool",
         "type": "boolean"
        },
        {
         "name": "Bhoganhalli",
         "rawType": "bool",
         "type": "boolean"
        },
        {
         "name": "Billekahalli",
         "rawType": "bool",
         "type": "boolean"
        },
        {
         "name": "Binny Pete",
         "rawType": "bool",
         "type": "boolean"
        },
        {
         "name": "Bisuvanahalli",
         "rawType": "bool",
         "type": "boolean"
        },
        {
         "name": "Bommanahalli",
         "rawType": "bool",
         "type": "boolean"
        },
        {
         "name": "Bommasandra",
         "rawType": "bool",
         "type": "boolean"
        },
        {
         "name": "Bommasandra Industrial Area",
         "rawType": "bool",
         "type": "boolean"
        },
        {
         "name": "Bommenahalli",
         "rawType": "bool",
         "type": "boolean"
        },
        {
         "name": "Brookefield",
         "rawType": "bool",
         "type": "boolean"
        },
        {
         "name": "Budigere",
         "rawType": "bool",
         "type": "boolean"
        },
        {
         "name": "CV Raman Nagar",
         "rawType": "bool",
         "type": "boolean"
        },
        {
         "name": "Chamrajpet",
         "rawType": "bool",
         "type": "boolean"
        },
        {
         "name": "Chandapura",
         "rawType": "bool",
         "type": "boolean"
        },
        {
         "name": "Channasandra",
         "rawType": "bool",
         "type": "boolean"
        },
        {
         "name": "Chikka Tirupathi",
         "rawType": "bool",
         "type": "boolean"
        },
        {
         "name": "Chikkabanavar",
         "rawType": "bool",
         "type": "boolean"
        },
        {
         "name": "Chikkalasandra",
         "rawType": "bool",
         "type": "boolean"
        },
        {
         "name": "Choodasandra",
         "rawType": "bool",
         "type": "boolean"
        },
        {
         "name": "Cooke Town",
         "rawType": "bool",
         "type": "boolean"
        },
        {
         "name": "Cox Town",
         "rawType": "bool",
         "type": "boolean"
        },
        {
         "name": "Cunningham Road",
         "rawType": "bool",
         "type": "boolean"
        },
        {
         "name": "Dasanapura",
         "rawType": "bool",
         "type": "boolean"
        },
        {
         "name": "Dasarahalli",
         "rawType": "bool",
         "type": "boolean"
        },
        {
         "name": "Devanahalli",
         "rawType": "bool",
         "type": "boolean"
        },
        {
         "name": "Devarachikkanahalli",
         "rawType": "bool",
         "type": "boolean"
        },
        {
         "name": "Dodda Nekkundi",
         "rawType": "bool",
         "type": "boolean"
        },
        {
         "name": "Doddaballapur",
         "rawType": "bool",
         "type": "boolean"
        },
        {
         "name": "Doddakallasandra",
         "rawType": "bool",
         "type": "boolean"
        },
        {
         "name": "Doddathoguru",
         "rawType": "bool",
         "type": "boolean"
        },
        {
         "name": "Domlur",
         "rawType": "bool",
         "type": "boolean"
        },
        {
         "name": "Dommasandra",
         "rawType": "bool",
         "type": "boolean"
        },
        {
         "name": "EPIP Zone",
         "rawType": "bool",
         "type": "boolean"
        },
        {
         "name": "Electronic City",
         "rawType": "bool",
         "type": "boolean"
        },
        {
         "name": "Electronic City Phase II",
         "rawType": "bool",
         "type": "boolean"
        },
        {
         "name": "Electronics City Phase 1",
         "rawType": "bool",
         "type": "boolean"
        },
        {
         "name": "Frazer Town",
         "rawType": "bool",
         "type": "boolean"
        },
        {
         "name": "GM Palaya",
         "rawType": "bool",
         "type": "boolean"
        },
        {
         "name": "Garudachar Palya",
         "rawType": "bool",
         "type": "boolean"
        },
        {
         "name": "Giri Nagar",
         "rawType": "bool",
         "type": "boolean"
        },
        {
         "name": "Gollarapalya Hosahalli",
         "rawType": "bool",
         "type": "boolean"
        },
        {
         "name": "Gottigere",
         "rawType": "bool",
         "type": "boolean"
        },
        {
         "name": "Green Glen Layout",
         "rawType": "bool",
         "type": "boolean"
        },
        {
         "name": "Gubbalala",
         "rawType": "bool",
         "type": "boolean"
        },
        {
         "name": "Gunjur",
         "rawType": "bool",
         "type": "boolean"
        },
        {
         "name": "HAL 2nd Stage",
         "rawType": "bool",
         "type": "boolean"
        },
        {
         "name": "HBR Layout",
         "rawType": "bool",
         "type": "boolean"
        },
        {
         "name": "HRBR Layout",
         "rawType": "bool",
         "type": "boolean"
        },
        {
         "name": "HSR Layout",
         "rawType": "bool",
         "type": "boolean"
        },
        {
         "name": "Haralur Road",
         "rawType": "bool",
         "type": "boolean"
        },
        {
         "name": "Harlur",
         "rawType": "bool",
         "type": "boolean"
        },
        {
         "name": "Hebbal",
         "rawType": "bool",
         "type": "boolean"
        },
        {
         "name": "Hebbal Kempapura",
         "rawType": "bool",
         "type": "boolean"
        },
        {
         "name": "Hegde Nagar",
         "rawType": "bool",
         "type": "boolean"
        },
        {
         "name": "Hennur",
         "rawType": "bool",
         "type": "boolean"
        },
        {
         "name": "Hennur Road",
         "rawType": "bool",
         "type": "boolean"
        },
        {
         "name": "Hoodi",
         "rawType": "bool",
         "type": "boolean"
        },
        {
         "name": "Horamavu Agara",
         "rawType": "bool",
         "type": "boolean"
        },
        {
         "name": "Horamavu Banaswadi",
         "rawType": "bool",
         "type": "boolean"
        },
        {
         "name": "Hormavu",
         "rawType": "bool",
         "type": "boolean"
        },
        {
         "name": "Hosa Road",
         "rawType": "bool",
         "type": "boolean"
        },
        {
         "name": "Hosakerehalli",
         "rawType": "bool",
         "type": "boolean"
        },
        {
         "name": "Hoskote",
         "rawType": "bool",
         "type": "boolean"
        },
        {
         "name": "Hosur Road",
         "rawType": "bool",
         "type": "boolean"
        },
        {
         "name": "Hulimavu",
         "rawType": "bool",
         "type": "boolean"
        },
        {
         "name": "ISRO Layout",
         "rawType": "bool",
         "type": "boolean"
        },
        {
         "name": "ITPL",
         "rawType": "bool",
         "type": "boolean"
        },
        {
         "name": "Iblur Village",
         "rawType": "bool",
         "type": "boolean"
        },
        {
         "name": "Indira Nagar",
         "rawType": "bool",
         "type": "boolean"
        },
        {
         "name": "JP Nagar",
         "rawType": "bool",
         "type": "boolean"
        },
        {
         "name": "Jakkur",
         "rawType": "bool",
         "type": "boolean"
        },
        {
         "name": "Jalahalli",
         "rawType": "bool",
         "type": "boolean"
        },
        {
         "name": "Jalahalli East",
         "rawType": "bool",
         "type": "boolean"
        },
        {
         "name": "Jigani",
         "rawType": "bool",
         "type": "boolean"
        },
        {
         "name": "Judicial Layout",
         "rawType": "bool",
         "type": "boolean"
        },
        {
         "name": "KR Puram",
         "rawType": "bool",
         "type": "boolean"
        },
        {
         "name": "Kadubeesanahalli",
         "rawType": "bool",
         "type": "boolean"
        },
        {
         "name": "Kadugodi",
         "rawType": "bool",
         "type": "boolean"
        },
        {
         "name": "Kaggadasapura",
         "rawType": "bool",
         "type": "boolean"
        },
        {
         "name": "Kaggalipura",
         "rawType": "bool",
         "type": "boolean"
        },
        {
         "name": "Kaikondrahalli",
         "rawType": "bool",
         "type": "boolean"
        },
        {
         "name": "Kalena Agrahara",
         "rawType": "bool",
         "type": "boolean"
        },
        {
         "name": "Kalyan nagar",
         "rawType": "bool",
         "type": "boolean"
        },
        {
         "name": "Kambipura",
         "rawType": "bool",
         "type": "boolean"
        },
        {
         "name": "Kammanahalli",
         "rawType": "bool",
         "type": "boolean"
        },
        {
         "name": "Kammasandra",
         "rawType": "bool",
         "type": "boolean"
        },
        {
         "name": "Kanakapura",
         "rawType": "bool",
         "type": "boolean"
        },
        {
         "name": "Kanakpura Road",
         "rawType": "bool",
         "type": "boolean"
        },
        {
         "name": "Kannamangala",
         "rawType": "bool",
         "type": "boolean"
        },
        {
         "name": "Karuna Nagar",
         "rawType": "bool",
         "type": "boolean"
        },
        {
         "name": "Kasavanhalli",
         "rawType": "bool",
         "type": "boolean"
        },
        {
         "name": "Kasturi Nagar",
         "rawType": "bool",
         "type": "boolean"
        },
        {
         "name": "Kathriguppe",
         "rawType": "bool",
         "type": "boolean"
        },
        {
         "name": "Kaval Byrasandra",
         "rawType": "bool",
         "type": "boolean"
        },
        {
         "name": "Kenchenahalli",
         "rawType": "bool",
         "type": "boolean"
        },
        {
         "name": "Kengeri",
         "rawType": "bool",
         "type": "boolean"
        },
        {
         "name": "Kengeri Satellite Town",
         "rawType": "bool",
         "type": "boolean"
        },
        {
         "name": "Kereguddadahalli",
         "rawType": "bool",
         "type": "boolean"
        },
        {
         "name": "Kodichikkanahalli",
         "rawType": "bool",
         "type": "boolean"
        },
        {
         "name": "Kodigehaali",
         "rawType": "bool",
         "type": "boolean"
        },
        {
         "name": "Kodigehalli",
         "rawType": "bool",
         "type": "boolean"
        },
        {
         "name": "Kodihalli",
         "rawType": "bool",
         "type": "boolean"
        },
        {
         "name": "Kogilu",
         "rawType": "bool",
         "type": "boolean"
        },
        {
         "name": "Konanakunte",
         "rawType": "bool",
         "type": "boolean"
        },
        {
         "name": "Koramangala",
         "rawType": "bool",
         "type": "boolean"
        },
        {
         "name": "Kothannur",
         "rawType": "bool",
         "type": "boolean"
        },
        {
         "name": "Kothanur",
         "rawType": "bool",
         "type": "boolean"
        },
        {
         "name": "Kudlu",
         "rawType": "bool",
         "type": "boolean"
        },
        {
         "name": "Kudlu Gate",
         "rawType": "bool",
         "type": "boolean"
        },
        {
         "name": "Kumaraswami Layout",
         "rawType": "bool",
         "type": "boolean"
        },
        {
         "name": "Kundalahalli",
         "rawType": "bool",
         "type": "boolean"
        },
        {
         "name": "LB Shastri Nagar",
         "rawType": "bool",
         "type": "boolean"
        },
        {
         "name": "Laggere",
         "rawType": "bool",
         "type": "boolean"
        },
        {
         "name": "Lakshminarayana Pura",
         "rawType": "bool",
         "type": "boolean"
        },
        {
         "name": "Lingadheeranahalli",
         "rawType": "bool",
         "type": "boolean"
        },
        {
         "name": "Magadi Road",
         "rawType": "bool",
         "type": "boolean"
        },
        {
         "name": "Mahadevpura",
         "rawType": "bool",
         "type": "boolean"
        },
        {
         "name": "Mahalakshmi Layout",
         "rawType": "bool",
         "type": "boolean"
        },
        {
         "name": "Mallasandra",
         "rawType": "bool",
         "type": "boolean"
        },
        {
         "name": "Malleshpalya",
         "rawType": "bool",
         "type": "boolean"
        },
        {
         "name": "Malleshwaram",
         "rawType": "bool",
         "type": "boolean"
        },
        {
         "name": "Marathahalli",
         "rawType": "bool",
         "type": "boolean"
        },
        {
         "name": "Margondanahalli",
         "rawType": "bool",
         "type": "boolean"
        },
        {
         "name": "Marsur",
         "rawType": "bool",
         "type": "boolean"
        },
        {
         "name": "Mico Layout",
         "rawType": "bool",
         "type": "boolean"
        },
        {
         "name": "Munnekollal",
         "rawType": "bool",
         "type": "boolean"
        },
        {
         "name": "Murugeshpalya",
         "rawType": "bool",
         "type": "boolean"
        },
        {
         "name": "Mysore Road",
         "rawType": "bool",
         "type": "boolean"
        },
        {
         "name": "NGR Layout",
         "rawType": "bool",
         "type": "boolean"
        },
        {
         "name": "NRI Layout",
         "rawType": "bool",
         "type": "boolean"
        },
        {
         "name": "Nagarbhavi",
         "rawType": "bool",
         "type": "boolean"
        },
        {
         "name": "Nagasandra",
         "rawType": "bool",
         "type": "boolean"
        },
        {
         "name": "Nagavara",
         "rawType": "bool",
         "type": "boolean"
        },
        {
         "name": "Nagavarapalya",
         "rawType": "bool",
         "type": "boolean"
        },
        {
         "name": "Narayanapura",
         "rawType": "bool",
         "type": "boolean"
        },
        {
         "name": "Neeladri Nagar",
         "rawType": "bool",
         "type": "boolean"
        },
        {
         "name": "Nehru Nagar",
         "rawType": "bool",
         "type": "boolean"
        },
        {
         "name": "OMBR Layout",
         "rawType": "bool",
         "type": "boolean"
        },
        {
         "name": "Old Airport Road",
         "rawType": "bool",
         "type": "boolean"
        },
        {
         "name": "Old Madras Road",
         "rawType": "bool",
         "type": "boolean"
        },
        {
         "name": "Padmanabhanagar",
         "rawType": "bool",
         "type": "boolean"
        },
        {
         "name": "Pai Layout",
         "rawType": "bool",
         "type": "boolean"
        },
        {
         "name": "Panathur",
         "rawType": "bool",
         "type": "boolean"
        },
        {
         "name": "Parappana Agrahara",
         "rawType": "bool",
         "type": "boolean"
        },
        {
         "name": "Pattandur Agrahara",
         "rawType": "bool",
         "type": "boolean"
        },
        {
         "name": "Poorna Pragna Layout",
         "rawType": "bool",
         "type": "boolean"
        },
        {
         "name": "Prithvi Layout",
         "rawType": "bool",
         "type": "boolean"
        },
        {
         "name": "R.T. Nagar",
         "rawType": "bool",
         "type": "boolean"
        },
        {
         "name": "Rachenahalli",
         "rawType": "bool",
         "type": "boolean"
        },
        {
         "name": "Raja Rajeshwari Nagar",
         "rawType": "bool",
         "type": "boolean"
        },
        {
         "name": "Rajaji Nagar",
         "rawType": "bool",
         "type": "boolean"
        },
        {
         "name": "Rajiv Nagar",
         "rawType": "bool",
         "type": "boolean"
        },
        {
         "name": "Ramagondanahalli",
         "rawType": "bool",
         "type": "boolean"
        },
        {
         "name": "Ramamurthy Nagar",
         "rawType": "bool",
         "type": "boolean"
        },
        {
         "name": "Rayasandra",
         "rawType": "bool",
         "type": "boolean"
        },
        {
         "name": "Sahakara Nagar",
         "rawType": "bool",
         "type": "boolean"
        },
        {
         "name": "Sanjay nagar",
         "rawType": "bool",
         "type": "boolean"
        },
        {
         "name": "Sarakki Nagar",
         "rawType": "bool",
         "type": "boolean"
        },
        {
         "name": "Sarjapur",
         "rawType": "bool",
         "type": "boolean"
        },
        {
         "name": "Sarjapur  Road",
         "rawType": "bool",
         "type": "boolean"
        },
        {
         "name": "Sarjapura - Attibele Road",
         "rawType": "bool",
         "type": "boolean"
        },
        {
         "name": "Sector 2 HSR Layout",
         "rawType": "bool",
         "type": "boolean"
        },
        {
         "name": "Sector 7 HSR Layout",
         "rawType": "bool",
         "type": "boolean"
        },
        {
         "name": "Seegehalli",
         "rawType": "bool",
         "type": "boolean"
        },
        {
         "name": "Shampura",
         "rawType": "bool",
         "type": "boolean"
        },
        {
         "name": "Shivaji Nagar",
         "rawType": "bool",
         "type": "boolean"
        },
        {
         "name": "Singasandra",
         "rawType": "bool",
         "type": "boolean"
        },
        {
         "name": "Somasundara Palya",
         "rawType": "bool",
         "type": "boolean"
        },
        {
         "name": "Sompura",
         "rawType": "bool",
         "type": "boolean"
        },
        {
         "name": "Sonnenahalli",
         "rawType": "bool",
         "type": "boolean"
        },
        {
         "name": "Subramanyapura",
         "rawType": "bool",
         "type": "boolean"
        },
        {
         "name": "Sultan Palaya",
         "rawType": "bool",
         "type": "boolean"
        },
        {
         "name": "TC Palaya",
         "rawType": "bool",
         "type": "boolean"
        },
        {
         "name": "Talaghattapura",
         "rawType": "bool",
         "type": "boolean"
        },
        {
         "name": "Thanisandra",
         "rawType": "bool",
         "type": "boolean"
        },
        {
         "name": "Thigalarapalya",
         "rawType": "bool",
         "type": "boolean"
        },
        {
         "name": "Thubarahalli",
         "rawType": "bool",
         "type": "boolean"
        },
        {
         "name": "Tindlu",
         "rawType": "bool",
         "type": "boolean"
        },
        {
         "name": "Tumkur Road",
         "rawType": "bool",
         "type": "boolean"
        },
        {
         "name": "Ulsoor",
         "rawType": "bool",
         "type": "boolean"
        },
        {
         "name": "Uttarahalli",
         "rawType": "bool",
         "type": "boolean"
        },
        {
         "name": "Varthur",
         "rawType": "bool",
         "type": "boolean"
        },
        {
         "name": "Varthur Road",
         "rawType": "bool",
         "type": "boolean"
        },
        {
         "name": "Vasanthapura",
         "rawType": "bool",
         "type": "boolean"
        },
        {
         "name": "Vidyaranyapura",
         "rawType": "bool",
         "type": "boolean"
        },
        {
         "name": "Vijayanagar",
         "rawType": "bool",
         "type": "boolean"
        },
        {
         "name": "Vishveshwarya Layout",
         "rawType": "bool",
         "type": "boolean"
        },
        {
         "name": "Vishwapriya Layout",
         "rawType": "bool",
         "type": "boolean"
        },
        {
         "name": "Vittasandra",
         "rawType": "bool",
         "type": "boolean"
        },
        {
         "name": "Whitefield",
         "rawType": "bool",
         "type": "boolean"
        },
        {
         "name": "Yelachenahalli",
         "rawType": "bool",
         "type": "boolean"
        },
        {
         "name": "Yelahanka",
         "rawType": "bool",
         "type": "boolean"
        },
        {
         "name": "Yelahanka New Town",
         "rawType": "bool",
         "type": "boolean"
        },
        {
         "name": "Yelenahalli",
         "rawType": "bool",
         "type": "boolean"
        },
        {
         "name": "Yeshwanthpur",
         "rawType": "bool",
         "type": "boolean"
        }
       ],
       "ref": "cd8e6d6c-db56-422f-9bb3-ad29523ba546",
       "rows": [
        [
         "0",
         "2850.0",
         "4.0",
         "428.0",
         "4",
         "True",
         "False",
         "False",
         "False",
         "False",
         "False",
         "False",
         "False",
         "False",
         "False",
         "False",
         "False",
         "False",
         "False",
         "False",
         "False",
         "False",
         "False",
         "False",
         "False",
         "False",
         "False",
         "False",
         "False",
         "False",
         "False",
         "False",
         "False",
         "False",
         "False",
         "False",
         "False",
         "False",
         "False",
         "False",
         "False",
         "False",
         "False",
         "False",
         "False",
         "False",
         "False",
         "False",
         "False",
         "False",
         "False",
         "False",
         "False",
         "False",
         "False",
         "False",
         "False",
         "False",
         "False",
         "False",
         "False",
         "False",
         "False",
         "False",
         "False",
         "False",
         "False",
         "False",
         "False",
         "False",
         "False",
         "False",
         "False",
         "False",
         "False",
         "False",
         "False",
         "False",
         "False",
         "False",
         "False",
         "False",
         "False",
         "False",
         "False",
         "False",
         "False",
         "False",
         "False",
         "False",
         "False",
         "False",
         "False",
         "False",
         "False",
         "False",
         "False",
         "False",
         "False",
         "False",
         "False",
         "False",
         "False",
         "False",
         "False",
         "False",
         "False",
         "False",
         "False",
         "False",
         "False",
         "False",
         "False",
         "False",
         "False",
         "False",
         "False",
         "False",
         "False",
         "False",
         "False",
         "False",
         "False",
         "False",
         "False",
         "False",
         "False",
         "False",
         "False",
         "False",
         "False",
         "False",
         "False",
         "False",
         "False",
         "False",
         "False",
         "False",
         "False",
         "False",
         "False",
         "False",
         "False",
         "False",
         "False",
         "False",
         "False",
         "False",
         "False",
         "False",
         "False",
         "False",
         "False",
         "False",
         "False",
         "False",
         "False",
         "False",
         "False",
         "False",
         "False",
         "False",
         "False",
         "False",
         "False",
         "False",
         "False",
         "False",
         "False",
         "False",
         "False",
         "False",
         "False",
         "False",
         "False",
         "False",
         "False",
         "False",
         "False",
         "False",
         "False",
         "False",
         "False",
         "False",
         "False",
         "False",
         "False",
         "False",
         "False",
         "False",
         "False",
         "False",
         "False",
         "False",
         "False",
         "False",
         "False",
         "False",
         "False",
         "False",
         "False",
         "False",
         "False",
         "False",
         "False",
         "False",
         "False",
         "False",
         "False",
         "False",
         "False",
         "False",
         "False",
         "False",
         "False",
         "False",
         "False",
         "False",
         "False",
         "False",
         "False",
         "False",
         "False",
         "False",
         "False",
         "False",
         "False",
         "False",
         "False",
         "False",
         "False",
         "False",
         "False",
         "False",
         "False",
         "False",
         "False",
         "False",
         "False",
         "False",
         "False",
         "False",
         "False",
         "False",
         "False"
        ],
        [
         "1",
         "1630.0",
         "3.0",
         "194.0",
         "3",
         "True",
         "False",
         "False",
         "False",
         "False",
         "False",
         "False",
         "False",
         "False",
         "False",
         "False",
         "False",
         "False",
         "False",
         "False",
         "False",
         "False",
         "False",
         "False",
         "False",
         "False",
         "False",
         "False",
         "False",
         "False",
         "False",
         "False",
         "False",
         "False",
         "False",
         "False",
         "False",
         "False",
         "False",
         "False",
         "False",
         "False",
         "False",
         "False",
         "False",
         "False",
         "False",
         "False",
         "False",
         "False",
         "False",
         "False",
         "False",
         "False",
         "False",
         "False",
         "False",
         "False",
         "False",
         "False",
         "False",
         "False",
         "False",
         "False",
         "False",
         "False",
         "False",
         "False",
         "False",
         "False",
         "False",
         "False",
         "False",
         "False",
         "False",
         "False",
         "False",
         "False",
         "False",
         "False",
         "False",
         "False",
         "False",
         "False",
         "False",
         "False",
         "False",
         "False",
         "False",
         "False",
         "False",
         "False",
         "False",
         "False",
         "False",
         "False",
         "False",
         "False",
         "False",
         "False",
         "False",
         "False",
         "False",
         "False",
         "False",
         "False",
         "False",
         "False",
         "False",
         "False",
         "False",
         "False",
         "False",
         "False",
         "False",
         "False",
         "False",
         "False",
         "False",
         "False",
         "False",
         "False",
         "False",
         "False",
         "False",
         "False",
         "False",
         "False",
         "False",
         "False",
         "False",
         "False",
         "False",
         "False",
         "False",
         "False",
         "False",
         "False",
         "False",
         "False",
         "False",
         "False",
         "False",
         "False",
         "False",
         "False",
         "False",
         "False",
         "False",
         "False",
         "False",
         "False",
         "False",
         "False",
         "False",
         "False",
         "False",
         "False",
         "False",
         "False",
         "False",
         "False",
         "False",
         "False",
         "False",
         "False",
         "False",
         "False",
         "False",
         "False",
         "False",
         "False",
         "False",
         "False",
         "False",
         "False",
         "False",
         "False",
         "False",
         "False",
         "False",
         "False",
         "False",
         "False",
         "False",
         "False",
         "False",
         "False",
         "False",
         "False",
         "False",
         "False",
         "False",
         "False",
         "False",
         "False",
         "False",
         "False",
         "False",
         "False",
         "False",
         "False",
         "False",
         "False",
         "False",
         "False",
         "False",
         "False",
         "False",
         "False",
         "False",
         "False",
         "False",
         "False",
         "False",
         "False",
         "False",
         "False",
         "False",
         "False",
         "False",
         "False",
         "False",
         "False",
         "False",
         "False",
         "False",
         "False",
         "False",
         "False",
         "False",
         "False",
         "False",
         "False",
         "False",
         "False",
         "False",
         "False",
         "False",
         "False",
         "False",
         "False",
         "False",
         "False",
         "False"
        ]
       ],
       "shape": {
        "columns": 244,
        "rows": 2
       }
      },
      "text/html": [
       "<div>\n",
       "<style scoped>\n",
       "    .dataframe tbody tr th:only-of-type {\n",
       "        vertical-align: middle;\n",
       "    }\n",
       "\n",
       "    .dataframe tbody tr th {\n",
       "        vertical-align: top;\n",
       "    }\n",
       "\n",
       "    .dataframe thead th {\n",
       "        text-align: right;\n",
       "    }\n",
       "</style>\n",
       "<table border=\"1\" class=\"dataframe\">\n",
       "  <thead>\n",
       "    <tr style=\"text-align: right;\">\n",
       "      <th></th>\n",
       "      <th>total_sqft</th>\n",
       "      <th>bath</th>\n",
       "      <th>price</th>\n",
       "      <th>bhk</th>\n",
       "      <th>1st Block Jayanagar</th>\n",
       "      <th>1st Phase JP Nagar</th>\n",
       "      <th>2nd Phase Judicial Layout</th>\n",
       "      <th>2nd Stage Nagarbhavi</th>\n",
       "      <th>5th Block Hbr Layout</th>\n",
       "      <th>5th Phase JP Nagar</th>\n",
       "      <th>...</th>\n",
       "      <th>Vijayanagar</th>\n",
       "      <th>Vishveshwarya Layout</th>\n",
       "      <th>Vishwapriya Layout</th>\n",
       "      <th>Vittasandra</th>\n",
       "      <th>Whitefield</th>\n",
       "      <th>Yelachenahalli</th>\n",
       "      <th>Yelahanka</th>\n",
       "      <th>Yelahanka New Town</th>\n",
       "      <th>Yelenahalli</th>\n",
       "      <th>Yeshwanthpur</th>\n",
       "    </tr>\n",
       "  </thead>\n",
       "  <tbody>\n",
       "    <tr>\n",
       "      <th>0</th>\n",
       "      <td>2850.0</td>\n",
       "      <td>4.0</td>\n",
       "      <td>428.0</td>\n",
       "      <td>4</td>\n",
       "      <td>True</td>\n",
       "      <td>False</td>\n",
       "      <td>False</td>\n",
       "      <td>False</td>\n",
       "      <td>False</td>\n",
       "      <td>False</td>\n",
       "      <td>...</td>\n",
       "      <td>False</td>\n",
       "      <td>False</td>\n",
       "      <td>False</td>\n",
       "      <td>False</td>\n",
       "      <td>False</td>\n",
       "      <td>False</td>\n",
       "      <td>False</td>\n",
       "      <td>False</td>\n",
       "      <td>False</td>\n",
       "      <td>False</td>\n",
       "    </tr>\n",
       "    <tr>\n",
       "      <th>1</th>\n",
       "      <td>1630.0</td>\n",
       "      <td>3.0</td>\n",
       "      <td>194.0</td>\n",
       "      <td>3</td>\n",
       "      <td>True</td>\n",
       "      <td>False</td>\n",
       "      <td>False</td>\n",
       "      <td>False</td>\n",
       "      <td>False</td>\n",
       "      <td>False</td>\n",
       "      <td>...</td>\n",
       "      <td>False</td>\n",
       "      <td>False</td>\n",
       "      <td>False</td>\n",
       "      <td>False</td>\n",
       "      <td>False</td>\n",
       "      <td>False</td>\n",
       "      <td>False</td>\n",
       "      <td>False</td>\n",
       "      <td>False</td>\n",
       "      <td>False</td>\n",
       "    </tr>\n",
       "  </tbody>\n",
       "</table>\n",
       "<p>2 rows × 244 columns</p>\n",
       "</div>"
      ],
      "text/plain": [
       "   total_sqft  bath  price  bhk  1st Block Jayanagar  1st Phase JP Nagar  \\\n",
       "0      2850.0   4.0  428.0    4                 True               False   \n",
       "1      1630.0   3.0  194.0    3                 True               False   \n",
       "\n",
       "   2nd Phase Judicial Layout  2nd Stage Nagarbhavi  5th Block Hbr Layout  \\\n",
       "0                      False                 False                 False   \n",
       "1                      False                 False                 False   \n",
       "\n",
       "   5th Phase JP Nagar  ...  Vijayanagar  Vishveshwarya Layout  \\\n",
       "0               False  ...        False                 False   \n",
       "1               False  ...        False                 False   \n",
       "\n",
       "   Vishwapriya Layout  Vittasandra  Whitefield  Yelachenahalli  Yelahanka  \\\n",
       "0               False        False       False           False      False   \n",
       "1               False        False       False           False      False   \n",
       "\n",
       "   Yelahanka New Town  Yelenahalli  Yeshwanthpur  \n",
       "0               False        False         False  \n",
       "1               False        False         False  \n",
       "\n",
       "[2 rows x 244 columns]"
      ]
     },
     "execution_count": 53,
     "metadata": {},
     "output_type": "execute_result"
    }
   ],
   "source": [
    "df12 = df11.drop('location',axis='columns')\n",
    "df12.head(2)"
   ]
  },
  {
   "cell_type": "markdown",
   "metadata": {},
   "source": [
    "<h2 style='color:blue'>Build a Model Now...</h2>"
   ]
  },
  {
   "cell_type": "code",
   "execution_count": 54,
   "metadata": {},
   "outputs": [
    {
     "data": {
      "text/plain": [
       "(7239, 244)"
      ]
     },
     "execution_count": 54,
     "metadata": {},
     "output_type": "execute_result"
    }
   ],
   "source": [
    "df12.shape"
   ]
  },
  {
   "cell_type": "code",
   "execution_count": 55,
   "metadata": {
    "scrolled": true
   },
   "outputs": [
    {
     "data": {
      "application/vnd.microsoft.datawrangler.viewer.v0+json": {
       "columns": [
        {
         "name": "index",
         "rawType": "int64",
         "type": "integer"
        },
        {
         "name": "total_sqft",
         "rawType": "float64",
         "type": "float"
        },
        {
         "name": "bath",
         "rawType": "float64",
         "type": "float"
        },
        {
         "name": "bhk",
         "rawType": "int64",
         "type": "integer"
        },
        {
         "name": "1st Block Jayanagar",
         "rawType": "bool",
         "type": "boolean"
        },
        {
         "name": "1st Phase JP Nagar",
         "rawType": "bool",
         "type": "boolean"
        },
        {
         "name": "2nd Phase Judicial Layout",
         "rawType": "bool",
         "type": "boolean"
        },
        {
         "name": "2nd Stage Nagarbhavi",
         "rawType": "bool",
         "type": "boolean"
        },
        {
         "name": "5th Block Hbr Layout",
         "rawType": "bool",
         "type": "boolean"
        },
        {
         "name": "5th Phase JP Nagar",
         "rawType": "bool",
         "type": "boolean"
        },
        {
         "name": "6th Phase JP Nagar",
         "rawType": "bool",
         "type": "boolean"
        },
        {
         "name": "7th Phase JP Nagar",
         "rawType": "bool",
         "type": "boolean"
        },
        {
         "name": "8th Phase JP Nagar",
         "rawType": "bool",
         "type": "boolean"
        },
        {
         "name": "9th Phase JP Nagar",
         "rawType": "bool",
         "type": "boolean"
        },
        {
         "name": "AECS Layout",
         "rawType": "bool",
         "type": "boolean"
        },
        {
         "name": "Abbigere",
         "rawType": "bool",
         "type": "boolean"
        },
        {
         "name": "Akshaya Nagar",
         "rawType": "bool",
         "type": "boolean"
        },
        {
         "name": "Ambalipura",
         "rawType": "bool",
         "type": "boolean"
        },
        {
         "name": "Ambedkar Nagar",
         "rawType": "bool",
         "type": "boolean"
        },
        {
         "name": "Amruthahalli",
         "rawType": "bool",
         "type": "boolean"
        },
        {
         "name": "Anandapura",
         "rawType": "bool",
         "type": "boolean"
        },
        {
         "name": "Ananth Nagar",
         "rawType": "bool",
         "type": "boolean"
        },
        {
         "name": "Anekal",
         "rawType": "bool",
         "type": "boolean"
        },
        {
         "name": "Anjanapura",
         "rawType": "bool",
         "type": "boolean"
        },
        {
         "name": "Ardendale",
         "rawType": "bool",
         "type": "boolean"
        },
        {
         "name": "Arekere",
         "rawType": "bool",
         "type": "boolean"
        },
        {
         "name": "Attibele",
         "rawType": "bool",
         "type": "boolean"
        },
        {
         "name": "BEML Layout",
         "rawType": "bool",
         "type": "boolean"
        },
        {
         "name": "BTM 2nd Stage",
         "rawType": "bool",
         "type": "boolean"
        },
        {
         "name": "BTM Layout",
         "rawType": "bool",
         "type": "boolean"
        },
        {
         "name": "Babusapalaya",
         "rawType": "bool",
         "type": "boolean"
        },
        {
         "name": "Badavala Nagar",
         "rawType": "bool",
         "type": "boolean"
        },
        {
         "name": "Balagere",
         "rawType": "bool",
         "type": "boolean"
        },
        {
         "name": "Banashankari",
         "rawType": "bool",
         "type": "boolean"
        },
        {
         "name": "Banashankari Stage II",
         "rawType": "bool",
         "type": "boolean"
        },
        {
         "name": "Banashankari Stage III",
         "rawType": "bool",
         "type": "boolean"
        },
        {
         "name": "Banashankari Stage V",
         "rawType": "bool",
         "type": "boolean"
        },
        {
         "name": "Banashankari Stage VI",
         "rawType": "bool",
         "type": "boolean"
        },
        {
         "name": "Banaswadi",
         "rawType": "bool",
         "type": "boolean"
        },
        {
         "name": "Banjara Layout",
         "rawType": "bool",
         "type": "boolean"
        },
        {
         "name": "Bannerghatta",
         "rawType": "bool",
         "type": "boolean"
        },
        {
         "name": "Bannerghatta Road",
         "rawType": "bool",
         "type": "boolean"
        },
        {
         "name": "Basavangudi",
         "rawType": "bool",
         "type": "boolean"
        },
        {
         "name": "Basaveshwara Nagar",
         "rawType": "bool",
         "type": "boolean"
        },
        {
         "name": "Battarahalli",
         "rawType": "bool",
         "type": "boolean"
        },
        {
         "name": "Begur",
         "rawType": "bool",
         "type": "boolean"
        },
        {
         "name": "Begur Road",
         "rawType": "bool",
         "type": "boolean"
        },
        {
         "name": "Bellandur",
         "rawType": "bool",
         "type": "boolean"
        },
        {
         "name": "Benson Town",
         "rawType": "bool",
         "type": "boolean"
        },
        {
         "name": "Bharathi Nagar",
         "rawType": "bool",
         "type": "boolean"
        },
        {
         "name": "Bhoganhalli",
         "rawType": "bool",
         "type": "boolean"
        },
        {
         "name": "Billekahalli",
         "rawType": "bool",
         "type": "boolean"
        },
        {
         "name": "Binny Pete",
         "rawType": "bool",
         "type": "boolean"
        },
        {
         "name": "Bisuvanahalli",
         "rawType": "bool",
         "type": "boolean"
        },
        {
         "name": "Bommanahalli",
         "rawType": "bool",
         "type": "boolean"
        },
        {
         "name": "Bommasandra",
         "rawType": "bool",
         "type": "boolean"
        },
        {
         "name": "Bommasandra Industrial Area",
         "rawType": "bool",
         "type": "boolean"
        },
        {
         "name": "Bommenahalli",
         "rawType": "bool",
         "type": "boolean"
        },
        {
         "name": "Brookefield",
         "rawType": "bool",
         "type": "boolean"
        },
        {
         "name": "Budigere",
         "rawType": "bool",
         "type": "boolean"
        },
        {
         "name": "CV Raman Nagar",
         "rawType": "bool",
         "type": "boolean"
        },
        {
         "name": "Chamrajpet",
         "rawType": "bool",
         "type": "boolean"
        },
        {
         "name": "Chandapura",
         "rawType": "bool",
         "type": "boolean"
        },
        {
         "name": "Channasandra",
         "rawType": "bool",
         "type": "boolean"
        },
        {
         "name": "Chikka Tirupathi",
         "rawType": "bool",
         "type": "boolean"
        },
        {
         "name": "Chikkabanavar",
         "rawType": "bool",
         "type": "boolean"
        },
        {
         "name": "Chikkalasandra",
         "rawType": "bool",
         "type": "boolean"
        },
        {
         "name": "Choodasandra",
         "rawType": "bool",
         "type": "boolean"
        },
        {
         "name": "Cooke Town",
         "rawType": "bool",
         "type": "boolean"
        },
        {
         "name": "Cox Town",
         "rawType": "bool",
         "type": "boolean"
        },
        {
         "name": "Cunningham Road",
         "rawType": "bool",
         "type": "boolean"
        },
        {
         "name": "Dasanapura",
         "rawType": "bool",
         "type": "boolean"
        },
        {
         "name": "Dasarahalli",
         "rawType": "bool",
         "type": "boolean"
        },
        {
         "name": "Devanahalli",
         "rawType": "bool",
         "type": "boolean"
        },
        {
         "name": "Devarachikkanahalli",
         "rawType": "bool",
         "type": "boolean"
        },
        {
         "name": "Dodda Nekkundi",
         "rawType": "bool",
         "type": "boolean"
        },
        {
         "name": "Doddaballapur",
         "rawType": "bool",
         "type": "boolean"
        },
        {
         "name": "Doddakallasandra",
         "rawType": "bool",
         "type": "boolean"
        },
        {
         "name": "Doddathoguru",
         "rawType": "bool",
         "type": "boolean"
        },
        {
         "name": "Domlur",
         "rawType": "bool",
         "type": "boolean"
        },
        {
         "name": "Dommasandra",
         "rawType": "bool",
         "type": "boolean"
        },
        {
         "name": "EPIP Zone",
         "rawType": "bool",
         "type": "boolean"
        },
        {
         "name": "Electronic City",
         "rawType": "bool",
         "type": "boolean"
        },
        {
         "name": "Electronic City Phase II",
         "rawType": "bool",
         "type": "boolean"
        },
        {
         "name": "Electronics City Phase 1",
         "rawType": "bool",
         "type": "boolean"
        },
        {
         "name": "Frazer Town",
         "rawType": "bool",
         "type": "boolean"
        },
        {
         "name": "GM Palaya",
         "rawType": "bool",
         "type": "boolean"
        },
        {
         "name": "Garudachar Palya",
         "rawType": "bool",
         "type": "boolean"
        },
        {
         "name": "Giri Nagar",
         "rawType": "bool",
         "type": "boolean"
        },
        {
         "name": "Gollarapalya Hosahalli",
         "rawType": "bool",
         "type": "boolean"
        },
        {
         "name": "Gottigere",
         "rawType": "bool",
         "type": "boolean"
        },
        {
         "name": "Green Glen Layout",
         "rawType": "bool",
         "type": "boolean"
        },
        {
         "name": "Gubbalala",
         "rawType": "bool",
         "type": "boolean"
        },
        {
         "name": "Gunjur",
         "rawType": "bool",
         "type": "boolean"
        },
        {
         "name": "HAL 2nd Stage",
         "rawType": "bool",
         "type": "boolean"
        },
        {
         "name": "HBR Layout",
         "rawType": "bool",
         "type": "boolean"
        },
        {
         "name": "HRBR Layout",
         "rawType": "bool",
         "type": "boolean"
        },
        {
         "name": "HSR Layout",
         "rawType": "bool",
         "type": "boolean"
        },
        {
         "name": "Haralur Road",
         "rawType": "bool",
         "type": "boolean"
        },
        {
         "name": "Harlur",
         "rawType": "bool",
         "type": "boolean"
        },
        {
         "name": "Hebbal",
         "rawType": "bool",
         "type": "boolean"
        },
        {
         "name": "Hebbal Kempapura",
         "rawType": "bool",
         "type": "boolean"
        },
        {
         "name": "Hegde Nagar",
         "rawType": "bool",
         "type": "boolean"
        },
        {
         "name": "Hennur",
         "rawType": "bool",
         "type": "boolean"
        },
        {
         "name": "Hennur Road",
         "rawType": "bool",
         "type": "boolean"
        },
        {
         "name": "Hoodi",
         "rawType": "bool",
         "type": "boolean"
        },
        {
         "name": "Horamavu Agara",
         "rawType": "bool",
         "type": "boolean"
        },
        {
         "name": "Horamavu Banaswadi",
         "rawType": "bool",
         "type": "boolean"
        },
        {
         "name": "Hormavu",
         "rawType": "bool",
         "type": "boolean"
        },
        {
         "name": "Hosa Road",
         "rawType": "bool",
         "type": "boolean"
        },
        {
         "name": "Hosakerehalli",
         "rawType": "bool",
         "type": "boolean"
        },
        {
         "name": "Hoskote",
         "rawType": "bool",
         "type": "boolean"
        },
        {
         "name": "Hosur Road",
         "rawType": "bool",
         "type": "boolean"
        },
        {
         "name": "Hulimavu",
         "rawType": "bool",
         "type": "boolean"
        },
        {
         "name": "ISRO Layout",
         "rawType": "bool",
         "type": "boolean"
        },
        {
         "name": "ITPL",
         "rawType": "bool",
         "type": "boolean"
        },
        {
         "name": "Iblur Village",
         "rawType": "bool",
         "type": "boolean"
        },
        {
         "name": "Indira Nagar",
         "rawType": "bool",
         "type": "boolean"
        },
        {
         "name": "JP Nagar",
         "rawType": "bool",
         "type": "boolean"
        },
        {
         "name": "Jakkur",
         "rawType": "bool",
         "type": "boolean"
        },
        {
         "name": "Jalahalli",
         "rawType": "bool",
         "type": "boolean"
        },
        {
         "name": "Jalahalli East",
         "rawType": "bool",
         "type": "boolean"
        },
        {
         "name": "Jigani",
         "rawType": "bool",
         "type": "boolean"
        },
        {
         "name": "Judicial Layout",
         "rawType": "bool",
         "type": "boolean"
        },
        {
         "name": "KR Puram",
         "rawType": "bool",
         "type": "boolean"
        },
        {
         "name": "Kadubeesanahalli",
         "rawType": "bool",
         "type": "boolean"
        },
        {
         "name": "Kadugodi",
         "rawType": "bool",
         "type": "boolean"
        },
        {
         "name": "Kaggadasapura",
         "rawType": "bool",
         "type": "boolean"
        },
        {
         "name": "Kaggalipura",
         "rawType": "bool",
         "type": "boolean"
        },
        {
         "name": "Kaikondrahalli",
         "rawType": "bool",
         "type": "boolean"
        },
        {
         "name": "Kalena Agrahara",
         "rawType": "bool",
         "type": "boolean"
        },
        {
         "name": "Kalyan nagar",
         "rawType": "bool",
         "type": "boolean"
        },
        {
         "name": "Kambipura",
         "rawType": "bool",
         "type": "boolean"
        },
        {
         "name": "Kammanahalli",
         "rawType": "bool",
         "type": "boolean"
        },
        {
         "name": "Kammasandra",
         "rawType": "bool",
         "type": "boolean"
        },
        {
         "name": "Kanakapura",
         "rawType": "bool",
         "type": "boolean"
        },
        {
         "name": "Kanakpura Road",
         "rawType": "bool",
         "type": "boolean"
        },
        {
         "name": "Kannamangala",
         "rawType": "bool",
         "type": "boolean"
        },
        {
         "name": "Karuna Nagar",
         "rawType": "bool",
         "type": "boolean"
        },
        {
         "name": "Kasavanhalli",
         "rawType": "bool",
         "type": "boolean"
        },
        {
         "name": "Kasturi Nagar",
         "rawType": "bool",
         "type": "boolean"
        },
        {
         "name": "Kathriguppe",
         "rawType": "bool",
         "type": "boolean"
        },
        {
         "name": "Kaval Byrasandra",
         "rawType": "bool",
         "type": "boolean"
        },
        {
         "name": "Kenchenahalli",
         "rawType": "bool",
         "type": "boolean"
        },
        {
         "name": "Kengeri",
         "rawType": "bool",
         "type": "boolean"
        },
        {
         "name": "Kengeri Satellite Town",
         "rawType": "bool",
         "type": "boolean"
        },
        {
         "name": "Kereguddadahalli",
         "rawType": "bool",
         "type": "boolean"
        },
        {
         "name": "Kodichikkanahalli",
         "rawType": "bool",
         "type": "boolean"
        },
        {
         "name": "Kodigehaali",
         "rawType": "bool",
         "type": "boolean"
        },
        {
         "name": "Kodigehalli",
         "rawType": "bool",
         "type": "boolean"
        },
        {
         "name": "Kodihalli",
         "rawType": "bool",
         "type": "boolean"
        },
        {
         "name": "Kogilu",
         "rawType": "bool",
         "type": "boolean"
        },
        {
         "name": "Konanakunte",
         "rawType": "bool",
         "type": "boolean"
        },
        {
         "name": "Koramangala",
         "rawType": "bool",
         "type": "boolean"
        },
        {
         "name": "Kothannur",
         "rawType": "bool",
         "type": "boolean"
        },
        {
         "name": "Kothanur",
         "rawType": "bool",
         "type": "boolean"
        },
        {
         "name": "Kudlu",
         "rawType": "bool",
         "type": "boolean"
        },
        {
         "name": "Kudlu Gate",
         "rawType": "bool",
         "type": "boolean"
        },
        {
         "name": "Kumaraswami Layout",
         "rawType": "bool",
         "type": "boolean"
        },
        {
         "name": "Kundalahalli",
         "rawType": "bool",
         "type": "boolean"
        },
        {
         "name": "LB Shastri Nagar",
         "rawType": "bool",
         "type": "boolean"
        },
        {
         "name": "Laggere",
         "rawType": "bool",
         "type": "boolean"
        },
        {
         "name": "Lakshminarayana Pura",
         "rawType": "bool",
         "type": "boolean"
        },
        {
         "name": "Lingadheeranahalli",
         "rawType": "bool",
         "type": "boolean"
        },
        {
         "name": "Magadi Road",
         "rawType": "bool",
         "type": "boolean"
        },
        {
         "name": "Mahadevpura",
         "rawType": "bool",
         "type": "boolean"
        },
        {
         "name": "Mahalakshmi Layout",
         "rawType": "bool",
         "type": "boolean"
        },
        {
         "name": "Mallasandra",
         "rawType": "bool",
         "type": "boolean"
        },
        {
         "name": "Malleshpalya",
         "rawType": "bool",
         "type": "boolean"
        },
        {
         "name": "Malleshwaram",
         "rawType": "bool",
         "type": "boolean"
        },
        {
         "name": "Marathahalli",
         "rawType": "bool",
         "type": "boolean"
        },
        {
         "name": "Margondanahalli",
         "rawType": "bool",
         "type": "boolean"
        },
        {
         "name": "Marsur",
         "rawType": "bool",
         "type": "boolean"
        },
        {
         "name": "Mico Layout",
         "rawType": "bool",
         "type": "boolean"
        },
        {
         "name": "Munnekollal",
         "rawType": "bool",
         "type": "boolean"
        },
        {
         "name": "Murugeshpalya",
         "rawType": "bool",
         "type": "boolean"
        },
        {
         "name": "Mysore Road",
         "rawType": "bool",
         "type": "boolean"
        },
        {
         "name": "NGR Layout",
         "rawType": "bool",
         "type": "boolean"
        },
        {
         "name": "NRI Layout",
         "rawType": "bool",
         "type": "boolean"
        },
        {
         "name": "Nagarbhavi",
         "rawType": "bool",
         "type": "boolean"
        },
        {
         "name": "Nagasandra",
         "rawType": "bool",
         "type": "boolean"
        },
        {
         "name": "Nagavara",
         "rawType": "bool",
         "type": "boolean"
        },
        {
         "name": "Nagavarapalya",
         "rawType": "bool",
         "type": "boolean"
        },
        {
         "name": "Narayanapura",
         "rawType": "bool",
         "type": "boolean"
        },
        {
         "name": "Neeladri Nagar",
         "rawType": "bool",
         "type": "boolean"
        },
        {
         "name": "Nehru Nagar",
         "rawType": "bool",
         "type": "boolean"
        },
        {
         "name": "OMBR Layout",
         "rawType": "bool",
         "type": "boolean"
        },
        {
         "name": "Old Airport Road",
         "rawType": "bool",
         "type": "boolean"
        },
        {
         "name": "Old Madras Road",
         "rawType": "bool",
         "type": "boolean"
        },
        {
         "name": "Padmanabhanagar",
         "rawType": "bool",
         "type": "boolean"
        },
        {
         "name": "Pai Layout",
         "rawType": "bool",
         "type": "boolean"
        },
        {
         "name": "Panathur",
         "rawType": "bool",
         "type": "boolean"
        },
        {
         "name": "Parappana Agrahara",
         "rawType": "bool",
         "type": "boolean"
        },
        {
         "name": "Pattandur Agrahara",
         "rawType": "bool",
         "type": "boolean"
        },
        {
         "name": "Poorna Pragna Layout",
         "rawType": "bool",
         "type": "boolean"
        },
        {
         "name": "Prithvi Layout",
         "rawType": "bool",
         "type": "boolean"
        },
        {
         "name": "R.T. Nagar",
         "rawType": "bool",
         "type": "boolean"
        },
        {
         "name": "Rachenahalli",
         "rawType": "bool",
         "type": "boolean"
        },
        {
         "name": "Raja Rajeshwari Nagar",
         "rawType": "bool",
         "type": "boolean"
        },
        {
         "name": "Rajaji Nagar",
         "rawType": "bool",
         "type": "boolean"
        },
        {
         "name": "Rajiv Nagar",
         "rawType": "bool",
         "type": "boolean"
        },
        {
         "name": "Ramagondanahalli",
         "rawType": "bool",
         "type": "boolean"
        },
        {
         "name": "Ramamurthy Nagar",
         "rawType": "bool",
         "type": "boolean"
        },
        {
         "name": "Rayasandra",
         "rawType": "bool",
         "type": "boolean"
        },
        {
         "name": "Sahakara Nagar",
         "rawType": "bool",
         "type": "boolean"
        },
        {
         "name": "Sanjay nagar",
         "rawType": "bool",
         "type": "boolean"
        },
        {
         "name": "Sarakki Nagar",
         "rawType": "bool",
         "type": "boolean"
        },
        {
         "name": "Sarjapur",
         "rawType": "bool",
         "type": "boolean"
        },
        {
         "name": "Sarjapur  Road",
         "rawType": "bool",
         "type": "boolean"
        },
        {
         "name": "Sarjapura - Attibele Road",
         "rawType": "bool",
         "type": "boolean"
        },
        {
         "name": "Sector 2 HSR Layout",
         "rawType": "bool",
         "type": "boolean"
        },
        {
         "name": "Sector 7 HSR Layout",
         "rawType": "bool",
         "type": "boolean"
        },
        {
         "name": "Seegehalli",
         "rawType": "bool",
         "type": "boolean"
        },
        {
         "name": "Shampura",
         "rawType": "bool",
         "type": "boolean"
        },
        {
         "name": "Shivaji Nagar",
         "rawType": "bool",
         "type": "boolean"
        },
        {
         "name": "Singasandra",
         "rawType": "bool",
         "type": "boolean"
        },
        {
         "name": "Somasundara Palya",
         "rawType": "bool",
         "type": "boolean"
        },
        {
         "name": "Sompura",
         "rawType": "bool",
         "type": "boolean"
        },
        {
         "name": "Sonnenahalli",
         "rawType": "bool",
         "type": "boolean"
        },
        {
         "name": "Subramanyapura",
         "rawType": "bool",
         "type": "boolean"
        },
        {
         "name": "Sultan Palaya",
         "rawType": "bool",
         "type": "boolean"
        },
        {
         "name": "TC Palaya",
         "rawType": "bool",
         "type": "boolean"
        },
        {
         "name": "Talaghattapura",
         "rawType": "bool",
         "type": "boolean"
        },
        {
         "name": "Thanisandra",
         "rawType": "bool",
         "type": "boolean"
        },
        {
         "name": "Thigalarapalya",
         "rawType": "bool",
         "type": "boolean"
        },
        {
         "name": "Thubarahalli",
         "rawType": "bool",
         "type": "boolean"
        },
        {
         "name": "Tindlu",
         "rawType": "bool",
         "type": "boolean"
        },
        {
         "name": "Tumkur Road",
         "rawType": "bool",
         "type": "boolean"
        },
        {
         "name": "Ulsoor",
         "rawType": "bool",
         "type": "boolean"
        },
        {
         "name": "Uttarahalli",
         "rawType": "bool",
         "type": "boolean"
        },
        {
         "name": "Varthur",
         "rawType": "bool",
         "type": "boolean"
        },
        {
         "name": "Varthur Road",
         "rawType": "bool",
         "type": "boolean"
        },
        {
         "name": "Vasanthapura",
         "rawType": "bool",
         "type": "boolean"
        },
        {
         "name": "Vidyaranyapura",
         "rawType": "bool",
         "type": "boolean"
        },
        {
         "name": "Vijayanagar",
         "rawType": "bool",
         "type": "boolean"
        },
        {
         "name": "Vishveshwarya Layout",
         "rawType": "bool",
         "type": "boolean"
        },
        {
         "name": "Vishwapriya Layout",
         "rawType": "bool",
         "type": "boolean"
        },
        {
         "name": "Vittasandra",
         "rawType": "bool",
         "type": "boolean"
        },
        {
         "name": "Whitefield",
         "rawType": "bool",
         "type": "boolean"
        },
        {
         "name": "Yelachenahalli",
         "rawType": "bool",
         "type": "boolean"
        },
        {
         "name": "Yelahanka",
         "rawType": "bool",
         "type": "boolean"
        },
        {
         "name": "Yelahanka New Town",
         "rawType": "bool",
         "type": "boolean"
        },
        {
         "name": "Yelenahalli",
         "rawType": "bool",
         "type": "boolean"
        },
        {
         "name": "Yeshwanthpur",
         "rawType": "bool",
         "type": "boolean"
        }
       ],
       "ref": "20fd1c3f-8bfa-4522-9728-90c3506d4347",
       "rows": [
        [
         "0",
         "2850.0",
         "4.0",
         "4",
         "True",
         "False",
         "False",
         "False",
         "False",
         "False",
         "False",
         "False",
         "False",
         "False",
         "False",
         "False",
         "False",
         "False",
         "False",
         "False",
         "False",
         "False",
         "False",
         "False",
         "False",
         "False",
         "False",
         "False",
         "False",
         "False",
         "False",
         "False",
         "False",
         "False",
         "False",
         "False",
         "False",
         "False",
         "False",
         "False",
         "False",
         "False",
         "False",
         "False",
         "False",
         "False",
         "False",
         "False",
         "False",
         "False",
         "False",
         "False",
         "False",
         "False",
         "False",
         "False",
         "False",
         "False",
         "False",
         "False",
         "False",
         "False",
         "False",
         "False",
         "False",
         "False",
         "False",
         "False",
         "False",
         "False",
         "False",
         "False",
         "False",
         "False",
         "False",
         "False",
         "False",
         "False",
         "False",
         "False",
         "False",
         "False",
         "False",
         "False",
         "False",
         "False",
         "False",
         "False",
         "False",
         "False",
         "False",
         "False",
         "False",
         "False",
         "False",
         "False",
         "False",
         "False",
         "False",
         "False",
         "False",
         "False",
         "False",
         "False",
         "False",
         "False",
         "False",
         "False",
         "False",
         "False",
         "False",
         "False",
         "False",
         "False",
         "False",
         "False",
         "False",
         "False",
         "False",
         "False",
         "False",
         "False",
         "False",
         "False",
         "False",
         "False",
         "False",
         "False",
         "False",
         "False",
         "False",
         "False",
         "False",
         "False",
         "False",
         "False",
         "False",
         "False",
         "False",
         "False",
         "False",
         "False",
         "False",
         "False",
         "False",
         "False",
         "False",
         "False",
         "False",
         "False",
         "False",
         "False",
         "False",
         "False",
         "False",
         "False",
         "False",
         "False",
         "False",
         "False",
         "False",
         "False",
         "False",
         "False",
         "False",
         "False",
         "False",
         "False",
         "False",
         "False",
         "False",
         "False",
         "False",
         "False",
         "False",
         "False",
         "False",
         "False",
         "False",
         "False",
         "False",
         "False",
         "False",
         "False",
         "False",
         "False",
         "False",
         "False",
         "False",
         "False",
         "False",
         "False",
         "False",
         "False",
         "False",
         "False",
         "False",
         "False",
         "False",
         "False",
         "False",
         "False",
         "False",
         "False",
         "False",
         "False",
         "False",
         "False",
         "False",
         "False",
         "False",
         "False",
         "False",
         "False",
         "False",
         "False",
         "False",
         "False",
         "False",
         "False",
         "False",
         "False",
         "False",
         "False",
         "False",
         "False",
         "False",
         "False",
         "False",
         "False",
         "False",
         "False",
         "False",
         "False",
         "False",
         "False",
         "False",
         "False",
         "False",
         "False",
         "False",
         "False",
         "False",
         "False"
        ],
        [
         "1",
         "1630.0",
         "3.0",
         "3",
         "True",
         "False",
         "False",
         "False",
         "False",
         "False",
         "False",
         "False",
         "False",
         "False",
         "False",
         "False",
         "False",
         "False",
         "False",
         "False",
         "False",
         "False",
         "False",
         "False",
         "False",
         "False",
         "False",
         "False",
         "False",
         "False",
         "False",
         "False",
         "False",
         "False",
         "False",
         "False",
         "False",
         "False",
         "False",
         "False",
         "False",
         "False",
         "False",
         "False",
         "False",
         "False",
         "False",
         "False",
         "False",
         "False",
         "False",
         "False",
         "False",
         "False",
         "False",
         "False",
         "False",
         "False",
         "False",
         "False",
         "False",
         "False",
         "False",
         "False",
         "False",
         "False",
         "False",
         "False",
         "False",
         "False",
         "False",
         "False",
         "False",
         "False",
         "False",
         "False",
         "False",
         "False",
         "False",
         "False",
         "False",
         "False",
         "False",
         "False",
         "False",
         "False",
         "False",
         "False",
         "False",
         "False",
         "False",
         "False",
         "False",
         "False",
         "False",
         "False",
         "False",
         "False",
         "False",
         "False",
         "False",
         "False",
         "False",
         "False",
         "False",
         "False",
         "False",
         "False",
         "False",
         "False",
         "False",
         "False",
         "False",
         "False",
         "False",
         "False",
         "False",
         "False",
         "False",
         "False",
         "False",
         "False",
         "False",
         "False",
         "False",
         "False",
         "False",
         "False",
         "False",
         "False",
         "False",
         "False",
         "False",
         "False",
         "False",
         "False",
         "False",
         "False",
         "False",
         "False",
         "False",
         "False",
         "False",
         "False",
         "False",
         "False",
         "False",
         "False",
         "False",
         "False",
         "False",
         "False",
         "False",
         "False",
         "False",
         "False",
         "False",
         "False",
         "False",
         "False",
         "False",
         "False",
         "False",
         "False",
         "False",
         "False",
         "False",
         "False",
         "False",
         "False",
         "False",
         "False",
         "False",
         "False",
         "False",
         "False",
         "False",
         "False",
         "False",
         "False",
         "False",
         "False",
         "False",
         "False",
         "False",
         "False",
         "False",
         "False",
         "False",
         "False",
         "False",
         "False",
         "False",
         "False",
         "False",
         "False",
         "False",
         "False",
         "False",
         "False",
         "False",
         "False",
         "False",
         "False",
         "False",
         "False",
         "False",
         "False",
         "False",
         "False",
         "False",
         "False",
         "False",
         "False",
         "False",
         "False",
         "False",
         "False",
         "False",
         "False",
         "False",
         "False",
         "False",
         "False",
         "False",
         "False",
         "False",
         "False",
         "False",
         "False",
         "False",
         "False",
         "False",
         "False",
         "False",
         "False",
         "False",
         "False",
         "False",
         "False",
         "False",
         "False",
         "False",
         "False"
        ],
        [
         "2",
         "1875.0",
         "2.0",
         "3",
         "True",
         "False",
         "False",
         "False",
         "False",
         "False",
         "False",
         "False",
         "False",
         "False",
         "False",
         "False",
         "False",
         "False",
         "False",
         "False",
         "False",
         "False",
         "False",
         "False",
         "False",
         "False",
         "False",
         "False",
         "False",
         "False",
         "False",
         "False",
         "False",
         "False",
         "False",
         "False",
         "False",
         "False",
         "False",
         "False",
         "False",
         "False",
         "False",
         "False",
         "False",
         "False",
         "False",
         "False",
         "False",
         "False",
         "False",
         "False",
         "False",
         "False",
         "False",
         "False",
         "False",
         "False",
         "False",
         "False",
         "False",
         "False",
         "False",
         "False",
         "False",
         "False",
         "False",
         "False",
         "False",
         "False",
         "False",
         "False",
         "False",
         "False",
         "False",
         "False",
         "False",
         "False",
         "False",
         "False",
         "False",
         "False",
         "False",
         "False",
         "False",
         "False",
         "False",
         "False",
         "False",
         "False",
         "False",
         "False",
         "False",
         "False",
         "False",
         "False",
         "False",
         "False",
         "False",
         "False",
         "False",
         "False",
         "False",
         "False",
         "False",
         "False",
         "False",
         "False",
         "False",
         "False",
         "False",
         "False",
         "False",
         "False",
         "False",
         "False",
         "False",
         "False",
         "False",
         "False",
         "False",
         "False",
         "False",
         "False",
         "False",
         "False",
         "False",
         "False",
         "False",
         "False",
         "False",
         "False",
         "False",
         "False",
         "False",
         "False",
         "False",
         "False",
         "False",
         "False",
         "False",
         "False",
         "False",
         "False",
         "False",
         "False",
         "False",
         "False",
         "False",
         "False",
         "False",
         "False",
         "False",
         "False",
         "False",
         "False",
         "False",
         "False",
         "False",
         "False",
         "False",
         "False",
         "False",
         "False",
         "False",
         "False",
         "False",
         "False",
         "False",
         "False",
         "False",
         "False",
         "False",
         "False",
         "False",
         "False",
         "False",
         "False",
         "False",
         "False",
         "False",
         "False",
         "False",
         "False",
         "False",
         "False",
         "False",
         "False",
         "False",
         "False",
         "False",
         "False",
         "False",
         "False",
         "False",
         "False",
         "False",
         "False",
         "False",
         "False",
         "False",
         "False",
         "False",
         "False",
         "False",
         "False",
         "False",
         "False",
         "False",
         "False",
         "False",
         "False",
         "False",
         "False",
         "False",
         "False",
         "False",
         "False",
         "False",
         "False",
         "False",
         "False",
         "False",
         "False",
         "False",
         "False",
         "False",
         "False",
         "False",
         "False",
         "False",
         "False",
         "False",
         "False",
         "False",
         "False",
         "False",
         "False",
         "False",
         "False",
         "False",
         "False",
         "False",
         "False"
        ]
       ],
       "shape": {
        "columns": 243,
        "rows": 3
       }
      },
      "text/html": [
       "<div>\n",
       "<style scoped>\n",
       "    .dataframe tbody tr th:only-of-type {\n",
       "        vertical-align: middle;\n",
       "    }\n",
       "\n",
       "    .dataframe tbody tr th {\n",
       "        vertical-align: top;\n",
       "    }\n",
       "\n",
       "    .dataframe thead th {\n",
       "        text-align: right;\n",
       "    }\n",
       "</style>\n",
       "<table border=\"1\" class=\"dataframe\">\n",
       "  <thead>\n",
       "    <tr style=\"text-align: right;\">\n",
       "      <th></th>\n",
       "      <th>total_sqft</th>\n",
       "      <th>bath</th>\n",
       "      <th>bhk</th>\n",
       "      <th>1st Block Jayanagar</th>\n",
       "      <th>1st Phase JP Nagar</th>\n",
       "      <th>2nd Phase Judicial Layout</th>\n",
       "      <th>2nd Stage Nagarbhavi</th>\n",
       "      <th>5th Block Hbr Layout</th>\n",
       "      <th>5th Phase JP Nagar</th>\n",
       "      <th>6th Phase JP Nagar</th>\n",
       "      <th>...</th>\n",
       "      <th>Vijayanagar</th>\n",
       "      <th>Vishveshwarya Layout</th>\n",
       "      <th>Vishwapriya Layout</th>\n",
       "      <th>Vittasandra</th>\n",
       "      <th>Whitefield</th>\n",
       "      <th>Yelachenahalli</th>\n",
       "      <th>Yelahanka</th>\n",
       "      <th>Yelahanka New Town</th>\n",
       "      <th>Yelenahalli</th>\n",
       "      <th>Yeshwanthpur</th>\n",
       "    </tr>\n",
       "  </thead>\n",
       "  <tbody>\n",
       "    <tr>\n",
       "      <th>0</th>\n",
       "      <td>2850.0</td>\n",
       "      <td>4.0</td>\n",
       "      <td>4</td>\n",
       "      <td>True</td>\n",
       "      <td>False</td>\n",
       "      <td>False</td>\n",
       "      <td>False</td>\n",
       "      <td>False</td>\n",
       "      <td>False</td>\n",
       "      <td>False</td>\n",
       "      <td>...</td>\n",
       "      <td>False</td>\n",
       "      <td>False</td>\n",
       "      <td>False</td>\n",
       "      <td>False</td>\n",
       "      <td>False</td>\n",
       "      <td>False</td>\n",
       "      <td>False</td>\n",
       "      <td>False</td>\n",
       "      <td>False</td>\n",
       "      <td>False</td>\n",
       "    </tr>\n",
       "    <tr>\n",
       "      <th>1</th>\n",
       "      <td>1630.0</td>\n",
       "      <td>3.0</td>\n",
       "      <td>3</td>\n",
       "      <td>True</td>\n",
       "      <td>False</td>\n",
       "      <td>False</td>\n",
       "      <td>False</td>\n",
       "      <td>False</td>\n",
       "      <td>False</td>\n",
       "      <td>False</td>\n",
       "      <td>...</td>\n",
       "      <td>False</td>\n",
       "      <td>False</td>\n",
       "      <td>False</td>\n",
       "      <td>False</td>\n",
       "      <td>False</td>\n",
       "      <td>False</td>\n",
       "      <td>False</td>\n",
       "      <td>False</td>\n",
       "      <td>False</td>\n",
       "      <td>False</td>\n",
       "    </tr>\n",
       "    <tr>\n",
       "      <th>2</th>\n",
       "      <td>1875.0</td>\n",
       "      <td>2.0</td>\n",
       "      <td>3</td>\n",
       "      <td>True</td>\n",
       "      <td>False</td>\n",
       "      <td>False</td>\n",
       "      <td>False</td>\n",
       "      <td>False</td>\n",
       "      <td>False</td>\n",
       "      <td>False</td>\n",
       "      <td>...</td>\n",
       "      <td>False</td>\n",
       "      <td>False</td>\n",
       "      <td>False</td>\n",
       "      <td>False</td>\n",
       "      <td>False</td>\n",
       "      <td>False</td>\n",
       "      <td>False</td>\n",
       "      <td>False</td>\n",
       "      <td>False</td>\n",
       "      <td>False</td>\n",
       "    </tr>\n",
       "  </tbody>\n",
       "</table>\n",
       "<p>3 rows × 243 columns</p>\n",
       "</div>"
      ],
      "text/plain": [
       "   total_sqft  bath  bhk  1st Block Jayanagar  1st Phase JP Nagar  \\\n",
       "0      2850.0   4.0    4                 True               False   \n",
       "1      1630.0   3.0    3                 True               False   \n",
       "2      1875.0   2.0    3                 True               False   \n",
       "\n",
       "   2nd Phase Judicial Layout  2nd Stage Nagarbhavi  5th Block Hbr Layout  \\\n",
       "0                      False                 False                 False   \n",
       "1                      False                 False                 False   \n",
       "2                      False                 False                 False   \n",
       "\n",
       "   5th Phase JP Nagar  6th Phase JP Nagar  ...  Vijayanagar  \\\n",
       "0               False               False  ...        False   \n",
       "1               False               False  ...        False   \n",
       "2               False               False  ...        False   \n",
       "\n",
       "   Vishveshwarya Layout  Vishwapriya Layout  Vittasandra  Whitefield  \\\n",
       "0                 False               False        False       False   \n",
       "1                 False               False        False       False   \n",
       "2                 False               False        False       False   \n",
       "\n",
       "   Yelachenahalli  Yelahanka  Yelahanka New Town  Yelenahalli  Yeshwanthpur  \n",
       "0           False      False               False        False         False  \n",
       "1           False      False               False        False         False  \n",
       "2           False      False               False        False         False  \n",
       "\n",
       "[3 rows x 243 columns]"
      ]
     },
     "execution_count": 55,
     "metadata": {},
     "output_type": "execute_result"
    }
   ],
   "source": [
    "X = df12.drop(['price'],axis='columns')\n",
    "X.head(3)"
   ]
  },
  {
   "cell_type": "code",
   "execution_count": 56,
   "metadata": {},
   "outputs": [
    {
     "data": {
      "text/plain": [
       "(7239, 243)"
      ]
     },
     "execution_count": 56,
     "metadata": {},
     "output_type": "execute_result"
    }
   ],
   "source": [
    "X.shape"
   ]
  },
  {
   "cell_type": "code",
   "execution_count": 57,
   "metadata": {
    "scrolled": true
   },
   "outputs": [
    {
     "data": {
      "application/vnd.microsoft.datawrangler.viewer.v0+json": {
       "columns": [
        {
         "name": "index",
         "rawType": "int64",
         "type": "integer"
        },
        {
         "name": "price",
         "rawType": "float64",
         "type": "float"
        }
       ],
       "ref": "a0a028cb-9231-4f57-a5f3-a791ccd492bb",
       "rows": [
        [
         "0",
         "428.0"
        ],
        [
         "1",
         "194.0"
        ],
        [
         "2",
         "235.0"
        ]
       ],
       "shape": {
        "columns": 1,
        "rows": 3
       }
      },
      "text/plain": [
       "0    428.0\n",
       "1    194.0\n",
       "2    235.0\n",
       "Name: price, dtype: float64"
      ]
     },
     "execution_count": 57,
     "metadata": {},
     "output_type": "execute_result"
    }
   ],
   "source": [
    "y = df12.price\n",
    "y.head(3)"
   ]
  },
  {
   "cell_type": "code",
   "execution_count": 58,
   "metadata": {},
   "outputs": [
    {
     "data": {
      "text/plain": [
       "7239"
      ]
     },
     "execution_count": 58,
     "metadata": {},
     "output_type": "execute_result"
    }
   ],
   "source": [
    "len(y)"
   ]
  },
  {
   "cell_type": "code",
   "execution_count": 59,
   "metadata": {},
   "outputs": [],
   "source": [
    "from sklearn.model_selection import train_test_split\n",
    "X_train, X_test, y_train, y_test = train_test_split(X,y,test_size=0.2,random_state=10)"
   ]
  },
  {
   "cell_type": "code",
   "execution_count": 60,
   "metadata": {},
   "outputs": [
    {
     "data": {
      "text/plain": [
       "0.8629132245229447"
      ]
     },
     "execution_count": 60,
     "metadata": {},
     "output_type": "execute_result"
    }
   ],
   "source": [
    "from sklearn.linear_model import LinearRegression\n",
    "lr_clf = LinearRegression()\n",
    "lr_clf.fit(X_train,y_train)\n",
    "lr_clf.score(X_test,y_test)"
   ]
  },
  {
   "cell_type": "markdown",
   "metadata": {},
   "source": [
    "<h2 style='color:blue'>Use K Fold cross validation to measure accuracy of our LinearRegression model</h2>"
   ]
  },
  {
   "cell_type": "code",
   "execution_count": 61,
   "metadata": {},
   "outputs": [
    {
     "data": {
      "text/plain": [
       "array([0.82702546, 0.86027005, 0.85322178, 0.8436466 , 0.85481502])"
      ]
     },
     "execution_count": 61,
     "metadata": {},
     "output_type": "execute_result"
    }
   ],
   "source": [
    "from sklearn.model_selection import ShuffleSplit\n",
    "from sklearn.model_selection import cross_val_score\n",
    "\n",
    "cv = ShuffleSplit(n_splits=5, test_size=0.2, random_state=0)\n",
    "\n",
    "cross_val_score(LinearRegression(), X, y, cv=cv)"
   ]
  },
  {
   "cell_type": "markdown",
   "metadata": {},
   "source": [
    "**We can see that in 5 iterations we get a score above 80% all the time. This is pretty good but we want to test few other algorithms for regression to see if we can get even better score. We will use GridSearchCV for this purpose**"
   ]
  },
  {
   "cell_type": "markdown",
   "metadata": {},
   "source": [
    "<h2 style='color:blue'>Find best model using GridSearchCV</h2>"
   ]
  },
  {
   "cell_type": "code",
   "execution_count": 62,
   "metadata": {},
   "outputs": [],
   "source": [
    "from sklearn.model_selection import GridSearchCV, ShuffleSplit\n",
    "from sklearn.linear_model import LinearRegression, Lasso\n",
    "from sklearn.tree import DecisionTreeRegressor\n",
    "import pandas as pd\n",
    "\n",
    "def find_best_model_using_gridsearchcv(X, y):\n",
    "    algos = {\n",
    "        'linear_regression': {\n",
    "            'model': LinearRegression(),\n",
    "            'params': {}\n",
    "        },\n",
    "        'lasso': {\n",
    "            'model': Lasso(),\n",
    "            'params': {\n",
    "                'alpha': [0.001, 0.01, 0.1, 1, 10],\n",
    "                'selection': ['random', 'cyclic']\n",
    "            }\n",
    "        },\n",
    "        'decision_tree': {\n",
    "            'model': DecisionTreeRegressor(),\n",
    "            'params': {\n",
    "                'criterion': ['squared_error', 'friedman_mse'],\n",
    "                'splitter': ['best', 'random']\n",
    "            }\n",
    "        }\n",
    "    }\n",
    "\n",
    "    scores = []\n",
    "    cv = ShuffleSplit(n_splits=5, test_size=0.2, random_state=0)\n",
    "\n",
    "    for algo_name, config in algos.items():\n",
    "        gs = GridSearchCV(config['model'], config['params'], cv=cv, scoring='r2', return_train_score=False)\n",
    "        gs.fit(X, y)\n",
    "        scores.append({\n",
    "            'model': algo_name,\n",
    "            'best_score': gs.best_score_,\n",
    "            'best_params': gs.best_params_\n",
    "        })\n",
    "\n",
    "    return pd.DataFrame(scores, columns=['model', 'best_score', 'best_params'])\n"
   ]
  },
  {
   "cell_type": "markdown",
   "metadata": {},
   "source": [
    "**Based on above results we can say that LinearRegression gives the best score. Hence we will use that.**"
   ]
  },
  {
   "cell_type": "markdown",
   "metadata": {},
   "source": [
    "<h2 style='color:blue'>Test the model for few properties</h2>"
   ]
  },
  {
   "cell_type": "code",
   "execution_count": 63,
   "metadata": {},
   "outputs": [],
   "source": [
    "def predict_price(location,sqft,bath,bhk):    \n",
    "    loc_index = np.where(X.columns==location)[0][0]\n",
    "\n",
    "    x = np.zeros(len(X.columns))\n",
    "    x[0] = sqft\n",
    "    x[1] = bath\n",
    "    x[2] = bhk\n",
    "    if loc_index >= 0:\n",
    "        x[loc_index] = 1\n",
    "\n",
    "    return lr_clf.predict([x])[0]"
   ]
  },
  {
   "cell_type": "code",
   "execution_count": 64,
   "metadata": {},
   "outputs": [
    {
     "name": "stderr",
     "output_type": "stream",
     "text": [
      "C:\\Users\\rohit\\AppData\\Local\\Packages\\PythonSoftwareFoundation.Python.3.12_qbz5n2kfra8p0\\LocalCache\\local-packages\\Python312\\site-packages\\sklearn\\utils\\validation.py:2739: UserWarning: X does not have valid feature names, but LinearRegression was fitted with feature names\n",
      "  warnings.warn(\n"
     ]
    },
    {
     "data": {
      "text/plain": [
       "np.float64(83.86570258311392)"
      ]
     },
     "execution_count": 64,
     "metadata": {},
     "output_type": "execute_result"
    }
   ],
   "source": [
    "predict_price('1st Phase JP Nagar',1000, 2, 2)"
   ]
  },
  {
   "cell_type": "code",
   "execution_count": 65,
   "metadata": {},
   "outputs": [
    {
     "name": "stderr",
     "output_type": "stream",
     "text": [
      "C:\\Users\\rohit\\AppData\\Local\\Packages\\PythonSoftwareFoundation.Python.3.12_qbz5n2kfra8p0\\LocalCache\\local-packages\\Python312\\site-packages\\sklearn\\utils\\validation.py:2739: UserWarning: X does not have valid feature names, but LinearRegression was fitted with feature names\n",
      "  warnings.warn(\n"
     ]
    },
    {
     "data": {
      "text/plain": [
       "np.float64(86.08062284986171)"
      ]
     },
     "execution_count": 65,
     "metadata": {},
     "output_type": "execute_result"
    }
   ],
   "source": [
    "predict_price('1st Phase JP Nagar',1000, 3, 3)"
   ]
  },
  {
   "cell_type": "code",
   "execution_count": 66,
   "metadata": {},
   "outputs": [
    {
     "name": "stderr",
     "output_type": "stream",
     "text": [
      "C:\\Users\\rohit\\AppData\\Local\\Packages\\PythonSoftwareFoundation.Python.3.12_qbz5n2kfra8p0\\LocalCache\\local-packages\\Python312\\site-packages\\sklearn\\utils\\validation.py:2739: UserWarning: X does not have valid feature names, but LinearRegression was fitted with feature names\n",
      "  warnings.warn(\n"
     ]
    },
    {
     "data": {
      "text/plain": [
       "np.float64(193.31197733179638)"
      ]
     },
     "execution_count": 66,
     "metadata": {},
     "output_type": "execute_result"
    }
   ],
   "source": [
    "predict_price('Indira Nagar',1000, 2, 2)"
   ]
  },
  {
   "cell_type": "code",
   "execution_count": 67,
   "metadata": {
    "scrolled": true
   },
   "outputs": [
    {
     "name": "stderr",
     "output_type": "stream",
     "text": [
      "C:\\Users\\rohit\\AppData\\Local\\Packages\\PythonSoftwareFoundation.Python.3.12_qbz5n2kfra8p0\\LocalCache\\local-packages\\Python312\\site-packages\\sklearn\\utils\\validation.py:2739: UserWarning: X does not have valid feature names, but LinearRegression was fitted with feature names\n",
      "  warnings.warn(\n"
     ]
    },
    {
     "data": {
      "text/plain": [
       "np.float64(195.5268975985442)"
      ]
     },
     "execution_count": 67,
     "metadata": {},
     "output_type": "execute_result"
    }
   ],
   "source": [
    "predict_price('Indira Nagar',1000, 3, 3)"
   ]
  },
  {
   "cell_type": "markdown",
   "metadata": {},
   "source": [
    "<h2 style='color:blue'>Export the tested model to a pickle file</h2>"
   ]
  },
  {
   "cell_type": "code",
   "execution_count": 68,
   "metadata": {},
   "outputs": [],
   "source": [
    "import pickle\n",
    "with open('banglore_home_prices_model.pickle','wb') as f:\n",
    "    pickle.dump(lr_clf,f)"
   ]
  },
  {
   "cell_type": "markdown",
   "metadata": {},
   "source": [
    "<h2 style='color:blue'>Export location and column information to a file that will be useful later on in our prediction application</h2>"
   ]
  },
  {
   "cell_type": "code",
   "execution_count": 69,
   "metadata": {},
   "outputs": [],
   "source": [
    "import json\n",
    "columns = {\n",
    "    'data_columns' : [col.lower() for col in X.columns]\n",
    "}\n",
    "with open(\"columns.json\",\"w\") as f:\n",
    "    f.write(json.dumps(columns))"
   ]
  },
  {
   "cell_type": "code",
   "execution_count": 70,
   "metadata": {},
   "outputs": [
    {
     "name": "stdout",
     "output_type": "stream",
     "text": [
      "c:\\Users\\rohit\\OneDrive\\Desktop\\bangalore_home_price_project\\notebooks\n",
      "True\n"
     ]
    }
   ],
   "source": [
    "import os\n",
    "print(os.getcwd())  # should show .../BANGALORE_HOME_PRICES/notebooks\n",
    "print(os.path.exists(\"../data/Bengaluru_House_Data.csv\"))  # should print True\n"
   ]
  },
  {
   "cell_type": "code",
   "execution_count": 72,
   "metadata": {},
   "outputs": [
    {
     "name": "stdout",
     "output_type": "stream",
     "text": [
      "Index(['area_type', 'availability', 'location', 'size', 'society',\n",
      "       'total_sqft', 'bath', 'balcony', 'price'],\n",
      "      dtype='object')\n"
     ]
    }
   ],
   "source": [
    "import pandas as pd\n",
    "\n",
    "df = pd.read_csv(\"../data/Bengaluru_House_Data.csv\")\n",
    "print(df.columns)\n"
   ]
  }
 ],
 "metadata": {
  "kernelspec": {
   "display_name": "Python 3",
   "language": "python",
   "name": "python3"
  },
  "language_info": {
   "codemirror_mode": {
    "name": "ipython",
    "version": 3
   },
   "file_extension": ".py",
   "mimetype": "text/x-python",
   "name": "python",
   "nbconvert_exporter": "python",
   "pygments_lexer": "ipython3",
   "version": "3.12.10"
  }
 },
 "nbformat": 4,
 "nbformat_minor": 2
}
